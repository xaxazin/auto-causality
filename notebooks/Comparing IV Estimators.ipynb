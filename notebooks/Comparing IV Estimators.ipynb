{
 "cells": [
  {
   "cell_type": "code",
   "execution_count": 35,
   "metadata": {
    "collapsed": true,
    "pycharm": {
     "name": "#%%\n"
    }
   },
   "outputs": [],
   "source": [
    "import os\n",
    "import sys\n",
    "import numpy as np\n",
    "import warnings\n",
    "import pandas as pd\n",
    "import matplotlib\n",
    "from scipy import special\n",
    "import matplotlib.pyplot as plt\n",
    "from sklearn.model_selection import train_test_split\n",
    "\n",
    "root_path = root_path = os.path.realpath('../..')\n",
    "try:\n",
    "    import auto_causality\n",
    "except ModuleNotFoundError:\n",
    "    sys.path.append(os.path.join(root_path, \"auto-causality\"))\n",
    "\n",
    "from auto_causality import AutoCausality\n",
    "from auto_causality.data_utils import preprocess_dataset\n",
    "from auto_causality.scoring import Scorer\n",
    "\n",
    "warnings.filterwarnings(\"ignore\")"
   ]
  },
  {
   "cell_type": "markdown",
   "metadata": {
    "collapsed": false,
    "pycharm": {
     "name": "#%% md\n"
    }
   },
   "source": [
    "## Data Generation Process"
   ]
  },
  {
   "cell_type": "markdown",
   "metadata": {
    "collapsed": false,
    "pycharm": {
     "name": "#%% md\n"
    }
   },
   "source": [
    "Here we use a data generation process implemented by EconML for IV models and described as follows:\n",
    "\n",
    "We construct the DGP as below. The instrument corresponds to a fully randomized recommendation of treatment. Then each sample complies with the recommendation to some degree. This probability depends on both the observed feature $X$ and an unobserved confounder that has a direct effect on the outcome\n",
    "\n",
    "\n",
    "\\begin{align}\n",
    "W \\sim \\; & \\text{Normal}(0,\\, I_{n_w})   \\tag{Observed confounders}\\\\\n",
    "Z \\sim \\; & \\text{Bernoulli}(p=0.5)   \\tag{Instrument}\\\\\n",
    "\\nu \\sim \\; & \\text{U}[0, 5] \\tag{Unobserved confounder}\\\\\n",
    "C \\sim \\; & \\text{Bernoulli}(p=0.8 \\cdot \\text{Sigmoid}(0.4 \\cdot X[0] + \\nu))   \\tag{Compliers when recommended}\\\\\n",
    "C0 \\sim \\; & \\text{Bernoulli}(p=0.006)   \\tag{Non-Compliers when not recommended}\\\\\n",
    "T = \\; & C \\cdot Z + C0 \\cdot (1-Z)  \\tag{Treatment}\\\\\n",
    "y \\sim \\; & \\theta \\cdot T + 2 \\cdot \\nu + 5 \\cdot (X[3]>0) + 0.1 \\cdot \\text{U}[0, 1]  \\tag{Outcome}\n",
    "\\end{align}\n"
   ]
  },
  {
   "cell_type": "code",
   "execution_count": 46,
   "metadata": {
    "collapsed": false,
    "pycharm": {
     "name": "#%%\n"
    }
   },
   "outputs": [],
   "source": [
    "def iv_dgp_econml(n=5000, p=10, true_effect=10):\n",
    "\n",
    "    X = np.random.normal(0, 1, size=(n, p))\n",
    "    Z = np.random.binomial(1, 0.5, size=(n,))\n",
    "    nu = np.random.uniform(0, 5, size=(n,))\n",
    "    coef_Z = 0.8\n",
    "    C = np.random.binomial(\n",
    "        1, coef_Z * special.expit(0.4 * X[:, 0] + nu)\n",
    "    )  # Compliers when recomended\n",
    "    C0 = np.random.binomial(\n",
    "        1, 0.006 * np.ones(X.shape[0])\n",
    "    )  # Non-compliers when not recommended\n",
    "    T = C * Z + C0 * (1 - Z)\n",
    "    y = (\n",
    "        true_effect(X) * T\n",
    "        + 2 * nu\n",
    "        + 5 * (X[:, 3] > 0)\n",
    "        + 2.5 * np.random.uniform(0, 1, size=(n,))\n",
    "    )\n",
    "    cov = [f\"x{i}\" for i in range(1, X.shape[1] + 1)]\n",
    "    df = pd.DataFrame(X, columns=cov)\n",
    "\n",
    "    df[\"y\"] = y\n",
    "    df[\"treatment\"] = T\n",
    "    df[\"Z\"] = Z\n",
    "\n",
    "    return df"
   ]
  },
  {
   "cell_type": "code",
   "execution_count": 47,
   "metadata": {
    "collapsed": false,
    "pycharm": {
     "name": "#%%\n"
    }
   },
   "outputs": [],
   "source": [
    "# Dataset parameters\n",
    "treatment = \"treatment\"\n",
    "targets = [\"y\"]\n",
    "instruments = [\"Z\"]\n",
    "outcome = targets[0]"
   ]
  },
  {
   "cell_type": "markdown",
   "metadata": {
    "collapsed": false,
    "pycharm": {
     "name": "#%% md\n"
    }
   },
   "source": [
    "### Model Fitting (1): Constant Effect (ATE)"
   ]
  },
  {
   "cell_type": "markdown",
   "metadata": {
    "collapsed": false,
    "pycharm": {
     "name": "#%% md\n"
    }
   },
   "source": [
    "We define a constant treatment effect (ATE) to be searched by the auto-causality tool for all named IV estimators.\n",
    "\n",
    "\\begin{align}\n",
    "\\theta = \\; & 7.5 \\tag{ATE}\\\\\n",
    "\\end{align}"
   ]
  },
  {
   "cell_type": "code",
   "execution_count": 48,
   "metadata": {
    "collapsed": false,
    "pycharm": {
     "name": "#%%\n"
    }
   },
   "outputs": [
    {
     "data": {
      "text/html": [
       "<div>\n",
       "<style scoped>\n",
       "    .dataframe tbody tr th:only-of-type {\n",
       "        vertical-align: middle;\n",
       "    }\n",
       "\n",
       "    .dataframe tbody tr th {\n",
       "        vertical-align: top;\n",
       "    }\n",
       "\n",
       "    .dataframe thead th {\n",
       "        text-align: right;\n",
       "    }\n",
       "</style>\n",
       "<table border=\"1\" class=\"dataframe\">\n",
       "  <thead>\n",
       "    <tr style=\"text-align: right;\">\n",
       "      <th></th>\n",
       "      <th>treatment</th>\n",
       "      <th>y</th>\n",
       "      <th>Z</th>\n",
       "      <th>x1</th>\n",
       "      <th>x2</th>\n",
       "      <th>x3</th>\n",
       "      <th>x4</th>\n",
       "      <th>x5</th>\n",
       "      <th>x6</th>\n",
       "      <th>x7</th>\n",
       "      <th>x8</th>\n",
       "      <th>x9</th>\n",
       "      <th>x10</th>\n",
       "      <th>random</th>\n",
       "    </tr>\n",
       "  </thead>\n",
       "  <tbody>\n",
       "    <tr>\n",
       "      <th>16419</th>\n",
       "      <td>0.0</td>\n",
       "      <td>9.238960</td>\n",
       "      <td>1.0</td>\n",
       "      <td>1.067054</td>\n",
       "      <td>0.714385</td>\n",
       "      <td>-0.352962</td>\n",
       "      <td>-1.158768</td>\n",
       "      <td>-0.366009</td>\n",
       "      <td>0.165191</td>\n",
       "      <td>-2.107107</td>\n",
       "      <td>-1.751100</td>\n",
       "      <td>0.838383</td>\n",
       "      <td>2.028967</td>\n",
       "      <td>0.0</td>\n",
       "    </tr>\n",
       "    <tr>\n",
       "      <th>8558</th>\n",
       "      <td>1.0</td>\n",
       "      <td>13.442729</td>\n",
       "      <td>1.0</td>\n",
       "      <td>-3.575646</td>\n",
       "      <td>1.107023</td>\n",
       "      <td>-1.105476</td>\n",
       "      <td>-1.156808</td>\n",
       "      <td>-1.305229</td>\n",
       "      <td>-1.595064</td>\n",
       "      <td>1.596803</td>\n",
       "      <td>-1.171648</td>\n",
       "      <td>-1.009889</td>\n",
       "      <td>-1.612392</td>\n",
       "      <td>0.0</td>\n",
       "    </tr>\n",
       "    <tr>\n",
       "      <th>425</th>\n",
       "      <td>0.0</td>\n",
       "      <td>6.070279</td>\n",
       "      <td>0.0</td>\n",
       "      <td>0.418005</td>\n",
       "      <td>-1.346856</td>\n",
       "      <td>2.028741</td>\n",
       "      <td>-0.238332</td>\n",
       "      <td>0.991197</td>\n",
       "      <td>0.588821</td>\n",
       "      <td>-1.832830</td>\n",
       "      <td>0.729557</td>\n",
       "      <td>-0.422247</td>\n",
       "      <td>0.595469</td>\n",
       "      <td>1.0</td>\n",
       "    </tr>\n",
       "    <tr>\n",
       "      <th>14858</th>\n",
       "      <td>1.0</td>\n",
       "      <td>15.816544</td>\n",
       "      <td>1.0</td>\n",
       "      <td>0.748353</td>\n",
       "      <td>0.364992</td>\n",
       "      <td>0.833615</td>\n",
       "      <td>1.243441</td>\n",
       "      <td>1.502731</td>\n",
       "      <td>0.147918</td>\n",
       "      <td>1.168043</td>\n",
       "      <td>0.354507</td>\n",
       "      <td>0.364360</td>\n",
       "      <td>0.892047</td>\n",
       "      <td>1.0</td>\n",
       "    </tr>\n",
       "    <tr>\n",
       "      <th>22689</th>\n",
       "      <td>0.0</td>\n",
       "      <td>7.796337</td>\n",
       "      <td>0.0</td>\n",
       "      <td>-1.059137</td>\n",
       "      <td>1.306717</td>\n",
       "      <td>1.245507</td>\n",
       "      <td>-0.749604</td>\n",
       "      <td>-0.860559</td>\n",
       "      <td>0.296209</td>\n",
       "      <td>1.565199</td>\n",
       "      <td>0.059622</td>\n",
       "      <td>-1.465361</td>\n",
       "      <td>-0.068036</td>\n",
       "      <td>1.0</td>\n",
       "    </tr>\n",
       "  </tbody>\n",
       "</table>\n",
       "</div>"
      ],
      "text/plain": [
       "       treatment          y    Z        x1        x2        x3        x4  \\\n",
       "16419        0.0   9.238960  1.0  1.067054  0.714385 -0.352962 -1.158768   \n",
       "8558         1.0  13.442729  1.0 -3.575646  1.107023 -1.105476 -1.156808   \n",
       "425          0.0   6.070279  0.0  0.418005 -1.346856  2.028741 -0.238332   \n",
       "14858        1.0  15.816544  1.0  0.748353  0.364992  0.833615  1.243441   \n",
       "22689        0.0   7.796337  0.0 -1.059137  1.306717  1.245507 -0.749604   \n",
       "\n",
       "             x5        x6        x7        x8        x9       x10  random  \n",
       "16419 -0.366009  0.165191 -2.107107 -1.751100  0.838383  2.028967     0.0  \n",
       "8558  -1.305229 -1.595064  1.596803 -1.171648 -1.009889 -1.612392     0.0  \n",
       "425    0.991197  0.588821 -1.832830  0.729557 -0.422247  0.595469     1.0  \n",
       "14858  1.502731  0.147918  1.168043  0.354507  0.364360  0.892047     1.0  \n",
       "22689 -0.860559  0.296209  1.565199  0.059622 -1.465361 -0.068036     1.0  "
      ]
     },
     "execution_count": 48,
     "metadata": {},
     "output_type": "execute_result"
    }
   ],
   "source": [
    "TRUE_EFFECT = 6.7\n",
    "\n",
    "CONSTANT_EFFECT = lambda X: TRUE_EFFECT\n",
    "\n",
    "data = iv_dgp_econml(n=30000, p=10, true_effect=CONSTANT_EFFECT)\n",
    "data_df, features_X, features_W = preprocess_dataset(\n",
    "    data, treatment, targets, instruments\n",
    ")\n",
    "outcome = targets[0]\n",
    "train_df, test_df = train_test_split(data_df, test_size=0.33, random_state=123)\n",
    "\n",
    "Xtest_constant_te = test_df[features_X]\n",
    "train_df.head()"
   ]
  },
  {
   "cell_type": "markdown",
   "metadata": {
    "collapsed": false,
    "pycharm": {
     "name": "#%% md\n"
    }
   },
   "source": [
    "For each treatment effect example, we fit a list of 6 IV models, scoring them with an energy distance score. The dataset is split into train, validation and a hold-out test set, and we report scores for each.\n",
    "\n",
    "As a baseline we use dowhy's simple IV estimator, implementing Ward's estimator and two-stage least squares (2SLS)\n",
    "The other estimators are implemented by EconML with details [here](https://econml.azurewebsites.net/reference.html#instrumental-variable-cate-estimators)\n",
    "\n",
    "The components time budget represent tuning budget allocated to each estimator model."
   ]
  },
  {
   "cell_type": "code",
   "execution_count": 39,
   "metadata": {},
   "outputs": [],
   "source": [
    "estimator_list = [\"SimpleIV\", \"SparseLinearDRIV\", \"DMLIV\", \"OrthoIV\", \"LinearDRIV\", \"LinearIntentToTreatDRIV\", \"ForestDRIV\", \"IntentToTreatDRIV\"]"
   ]
  },
  {
   "cell_type": "code",
   "execution_count": 42,
   "metadata": {
    "collapsed": false,
    "pycharm": {
     "name": "#%%\n"
    }
   },
   "outputs": [],
   "source": [
    "ac_constant_te = AutoCausality(\n",
    "    estimator_list=estimator_list,\n",
    "    verbose=3,\n",
    "    components_verbose=2,\n",
    "    time_budget=14400,\n",
    "    components_time_budget=300,\n",
    "    propensity_model=\"auto\",\n",
    "    train_size=0.5\n",
    ")\n",
    "\n",
    "ac_constant_te.fit(train_df, treatment, outcome, features_W, features_X, instruments)\n"
   ]
  },
  {
   "cell_type": "markdown",
   "metadata": {
    "collapsed": false,
    "pycharm": {
     "name": "#%% md\n"
    }
   },
   "source": [
    " We get the estimated effect for the best estimator by energy distance score"
   ]
  },
  {
   "cell_type": "code",
   "execution_count": 40,
   "metadata": {
    "collapsed": false,
    "pycharm": {
     "name": "#%%\n"
    }
   },
   "outputs": [],
   "source": [
    "# score all estimators on the test set\n",
    "def score_all_test(models, test_set):\n",
    "    for est_name, scr in models.scores.items():\n",
    "        try:\n",
    "            causal_estimate = scr['estimator']\n",
    "            # print(causal_estimate.estimator._treatment_name)\n",
    "            scr['scores']['test'] = models.scorer.make_scores(\n",
    "                causal_estimate,\n",
    "                test_set,\n",
    "                problem=models.problem,\n",
    "                metrics_to_report=models.metrics_to_report\n",
    "            )\n",
    "        except Exception as e:\n",
    "            print(e)\n",
    "            pass\n",
    "\n",
    "\n",
    "def ate_mse(scores, true_effect=TRUE_EFFECT):\n",
    "    return  [(v-true_effect)**2 for v in scores]\n"
   ]
  },
  {
   "cell_type": "code",
   "execution_count": 63,
   "metadata": {
    "collapsed": false,
    "pycharm": {
     "name": "#%%\n"
    }
   },
   "outputs": [],
   "source": [
    "def get_est_effects(models, test_x, te=TRUE_EFFECT):\n",
    "    est_scores = []\n",
    "    for est_name, scr in models.scores.items():\n",
    "        est_effect = scr[\"estimator\"].estimator.effect(test_x).mean()\n",
    "        energy_distance = scr[\"scores\"][\"test\"][\"energy_distance\"]\n",
    "        est_scores.append([est_name, est_effect, (est_effect-te)**2, energy_distance])\n",
    "\n",
    "    return pd.DataFrame(est_scores, columns=[\"estimator\", \"estimated_effect\", \"ate_mse\", \"energy_distance\"])\n"
   ]
  },
  {
   "cell_type": "code",
   "execution_count": 42,
   "metadata": {
    "collapsed": false,
    "pycharm": {
     "name": "#%%\n"
    }
   },
   "outputs": [],
   "source": [
    "%matplotlib inline\n",
    "\n",
    "def graph_compare_estimators(model):\n",
    "    colors = ([matplotlib.colors.CSS4_COLORS['black']] +\n",
    "        list(matplotlib.colors.TABLEAU_COLORS) + [\n",
    "        matplotlib.colors.CSS4_COLORS['lime'],\n",
    "        matplotlib.colors.CSS4_COLORS['yellow'],\n",
    "        matplotlib.colors.CSS4_COLORS['pink']\n",
    "    ])\n",
    "\n",
    "\n",
    "    plt.figure(figsize = (7,5))\n",
    "    plt.title(outcome)\n",
    "\n",
    "    m1 = \"energy_distance\"\n",
    "    m2 = \"ate\"\n",
    "\n",
    "    splits =  [\"train\", \"validation\", \"test\"]\n",
    "\n",
    "    for (est, scr), col in zip(model.scores.items(), colors):\n",
    "        try:\n",
    "            scores  = scr[\"scores\"]\n",
    "            sc = [scores[v][m1] for v in splits]\n",
    "            crv = ate_mse([scores[v][m2] for v in splits])\n",
    "            plt.plot(sc, crv, color=col, marker=\"o\", label=est)\n",
    "            plt.scatter(sc[1:2],crv[1:2], c=col, s=70, label=\"_nolegend_\" )\n",
    "            plt.scatter(sc[2:],crv[2:], c=col, s=120, label=\"_nolegend_\" )\n",
    "\n",
    "        except Exception as e:\n",
    "            print(e)\n",
    "            pass\n",
    "\n",
    "    plt.xlabel(m1)\n",
    "    plt.ylabel(f\"{m2}_MSE\")\n",
    "    plt.legend(bbox_to_anchor=(1.04,1), borderaxespad=0)\n",
    "\n",
    "    plt.grid()\n",
    "    plt.show()\n"
   ]
  },
  {
   "cell_type": "markdown",
   "metadata": {
    "collapsed": false,
    "pycharm": {
     "name": "#%% md\n"
    }
   },
   "source": [
    "First we see the estimated effect for each model, and respective MSE compared with true effect"
   ]
  },
  {
   "cell_type": "code",
   "execution_count": 23,
   "metadata": {
    "collapsed": false,
    "pycharm": {
     "name": "#%%\n"
    }
   },
   "outputs": [
    {
     "data": {
      "text/html": [
       "<div>\n",
       "<style scoped>\n",
       "    .dataframe tbody tr th:only-of-type {\n",
       "        vertical-align: middle;\n",
       "    }\n",
       "\n",
       "    .dataframe tbody tr th {\n",
       "        vertical-align: top;\n",
       "    }\n",
       "\n",
       "    .dataframe thead th {\n",
       "        text-align: right;\n",
       "    }\n",
       "</style>\n",
       "<table border=\"1\" class=\"dataframe\">\n",
       "  <thead>\n",
       "    <tr style=\"text-align: right;\">\n",
       "      <th></th>\n",
       "      <th>estimator</th>\n",
       "      <th>estimated_effect</th>\n",
       "      <th>ate_mse</th>\n",
       "    </tr>\n",
       "  </thead>\n",
       "  <tbody>\n",
       "    <tr>\n",
       "      <th>0</th>\n",
       "      <td>iv.auto_causality.models.SimpleIV</td>\n",
       "      <td>7.326025</td>\n",
       "      <td>0.030267</td>\n",
       "    </tr>\n",
       "    <tr>\n",
       "      <th>1</th>\n",
       "      <td>iv.econml.iv.dml.DMLIV</td>\n",
       "      <td>3.608027</td>\n",
       "      <td>15.147457</td>\n",
       "    </tr>\n",
       "    <tr>\n",
       "      <th>2</th>\n",
       "      <td>iv.econml.iv.dml.OrthoIV</td>\n",
       "      <td>7.382694</td>\n",
       "      <td>0.013761</td>\n",
       "    </tr>\n",
       "    <tr>\n",
       "      <th>3</th>\n",
       "      <td>iv.econml.iv.dr.ForestDRIV</td>\n",
       "      <td>3.201586</td>\n",
       "      <td>18.476363</td>\n",
       "    </tr>\n",
       "    <tr>\n",
       "      <th>4</th>\n",
       "      <td>iv.econml.iv.dr.IntentToTreatDRIV</td>\n",
       "      <td>9.685034</td>\n",
       "      <td>4.774375</td>\n",
       "    </tr>\n",
       "    <tr>\n",
       "      <th>5</th>\n",
       "      <td>iv.econml.iv.dr.LinearDRIV</td>\n",
       "      <td>3.647634</td>\n",
       "      <td>14.840727</td>\n",
       "    </tr>\n",
       "    <tr>\n",
       "      <th>6</th>\n",
       "      <td>iv.econml.iv.dr.SparseLinearDRIV</td>\n",
       "      <td>5.312383</td>\n",
       "      <td>4.785668</td>\n",
       "    </tr>\n",
       "  </tbody>\n",
       "</table>\n",
       "</div>"
      ],
      "text/plain": [
       "                           estimator  estimated_effect    ate_mse\n",
       "0  iv.auto_causality.models.SimpleIV          7.326025   0.030267\n",
       "1             iv.econml.iv.dml.DMLIV          3.608027  15.147457\n",
       "2           iv.econml.iv.dml.OrthoIV          7.382694   0.013761\n",
       "3         iv.econml.iv.dr.ForestDRIV          3.201586  18.476363\n",
       "4  iv.econml.iv.dr.IntentToTreatDRIV          9.685034   4.774375\n",
       "5         iv.econml.iv.dr.LinearDRIV          3.647634  14.840727\n",
       "6   iv.econml.iv.dr.SparseLinearDRIV          5.312383   4.785668"
      ]
     },
     "execution_count": 23,
     "metadata": {},
     "output_type": "execute_result"
    }
   ],
   "source": [
    "get_est_effects(ac_constant_te, Xtest_constant_te)"
   ]
  },
  {
   "cell_type": "markdown",
   "metadata": {
    "collapsed": false,
    "pycharm": {
     "name": "#%% md\n"
    }
   },
   "source": [
    "In the plots we show the energy distance scores on the train, validation and hold-out test sets compared with the mean squared error between estimated effect and the true effect"
   ]
  },
  {
   "cell_type": "code",
   "execution_count": 55,
   "metadata": {
    "collapsed": false,
    "pycharm": {
     "name": "#%%\n"
    }
   },
   "outputs": [],
   "source": [
    "# Get non-optimal runs from each estimator and score on (energy distance, ate)\n",
    "# ac_constant_te.results.results"
   ]
  },
  {
   "cell_type": "code",
   "execution_count": 24,
   "metadata": {
    "collapsed": false,
    "pycharm": {
     "name": "#%%\n"
    }
   },
   "outputs": [
    {
     "data": {
      "image/png": "[encoded data removed]",
      "text/plain": [
       "<Figure size 700x500 with 1 Axes>"
      ]
     },
     "metadata": {},
     "output_type": "display_data"
    }
   ],
   "source": [
    "score_all_test(ac_constant_te, test_df)\n",
    "graph_compare_estimators(ac_constant_te)"
   ]
  },
  {
   "cell_type": "markdown",
   "metadata": {
    "collapsed": false,
    "pycharm": {
     "name": "#%% md\n"
    }
   },
   "source": [
    "### Model Fitting (2): Heterogeneous Treatment Effect\n",
    "\n",
    "Here we replace the constant treatment effect with a linear treatment effect function of some covariates  to estimate heterogeneous effects.\n",
    "\n",
    "\\begin{align}\n",
    "\\theta = \\; & 7.5  \\cdot   (X[2] + X[7]) \\tag{ATE}\\\\\n",
    "\\end{align}"
   ]
  },
  {
   "cell_type": "code",
   "execution_count": 51,
   "metadata": {
    "collapsed": false,
    "pycharm": {
     "name": "#%%\n"
    }
   },
   "outputs": [
    {
     "data": {
      "text/html": [
       "<div>\n",
       "<style scoped>\n",
       "    .dataframe tbody tr th:only-of-type {\n",
       "        vertical-align: middle;\n",
       "    }\n",
       "\n",
       "    .dataframe tbody tr th {\n",
       "        vertical-align: top;\n",
       "    }\n",
       "\n",
       "    .dataframe thead th {\n",
       "        text-align: right;\n",
       "    }\n",
       "</style>\n",
       "<table border=\"1\" class=\"dataframe\">\n",
       "  <thead>\n",
       "    <tr style=\"text-align: right;\">\n",
       "      <th></th>\n",
       "      <th>treatment</th>\n",
       "      <th>y</th>\n",
       "      <th>Z</th>\n",
       "      <th>x1</th>\n",
       "      <th>x2</th>\n",
       "      <th>x3</th>\n",
       "      <th>x4</th>\n",
       "      <th>x5</th>\n",
       "      <th>x6</th>\n",
       "      <th>x7</th>\n",
       "      <th>x8</th>\n",
       "      <th>x9</th>\n",
       "      <th>x10</th>\n",
       "      <th>random</th>\n",
       "    </tr>\n",
       "  </thead>\n",
       "  <tbody>\n",
       "    <tr>\n",
       "      <th>16419</th>\n",
       "      <td>0.0</td>\n",
       "      <td>9.238960</td>\n",
       "      <td>1.0</td>\n",
       "      <td>1.067054</td>\n",
       "      <td>0.714385</td>\n",
       "      <td>-0.352962</td>\n",
       "      <td>-1.158768</td>\n",
       "      <td>-0.366009</td>\n",
       "      <td>0.165191</td>\n",
       "      <td>-2.107107</td>\n",
       "      <td>-1.751100</td>\n",
       "      <td>0.838383</td>\n",
       "      <td>2.028967</td>\n",
       "      <td>0.0</td>\n",
       "    </tr>\n",
       "    <tr>\n",
       "      <th>8558</th>\n",
       "      <td>1.0</td>\n",
       "      <td>13.442729</td>\n",
       "      <td>1.0</td>\n",
       "      <td>-3.575646</td>\n",
       "      <td>1.107023</td>\n",
       "      <td>-1.105476</td>\n",
       "      <td>-1.156808</td>\n",
       "      <td>-1.305229</td>\n",
       "      <td>-1.595064</td>\n",
       "      <td>1.596803</td>\n",
       "      <td>-1.171648</td>\n",
       "      <td>-1.009889</td>\n",
       "      <td>-1.612392</td>\n",
       "      <td>0.0</td>\n",
       "    </tr>\n",
       "    <tr>\n",
       "      <th>425</th>\n",
       "      <td>0.0</td>\n",
       "      <td>6.070279</td>\n",
       "      <td>0.0</td>\n",
       "      <td>0.418005</td>\n",
       "      <td>-1.346856</td>\n",
       "      <td>2.028741</td>\n",
       "      <td>-0.238332</td>\n",
       "      <td>0.991197</td>\n",
       "      <td>0.588821</td>\n",
       "      <td>-1.832830</td>\n",
       "      <td>0.729557</td>\n",
       "      <td>-0.422247</td>\n",
       "      <td>0.595469</td>\n",
       "      <td>1.0</td>\n",
       "    </tr>\n",
       "    <tr>\n",
       "      <th>14858</th>\n",
       "      <td>1.0</td>\n",
       "      <td>15.816544</td>\n",
       "      <td>1.0</td>\n",
       "      <td>0.748353</td>\n",
       "      <td>0.364992</td>\n",
       "      <td>0.833615</td>\n",
       "      <td>1.243441</td>\n",
       "      <td>1.502731</td>\n",
       "      <td>0.147918</td>\n",
       "      <td>1.168043</td>\n",
       "      <td>0.354507</td>\n",
       "      <td>0.364360</td>\n",
       "      <td>0.892047</td>\n",
       "      <td>1.0</td>\n",
       "    </tr>\n",
       "    <tr>\n",
       "      <th>22689</th>\n",
       "      <td>0.0</td>\n",
       "      <td>7.796337</td>\n",
       "      <td>0.0</td>\n",
       "      <td>-1.059137</td>\n",
       "      <td>1.306717</td>\n",
       "      <td>1.245507</td>\n",
       "      <td>-0.749604</td>\n",
       "      <td>-0.860559</td>\n",
       "      <td>0.296209</td>\n",
       "      <td>1.565199</td>\n",
       "      <td>0.059622</td>\n",
       "      <td>-1.465361</td>\n",
       "      <td>-0.068036</td>\n",
       "      <td>1.0</td>\n",
       "    </tr>\n",
       "  </tbody>\n",
       "</table>\n",
       "</div>"
      ],
      "text/plain": [
       "       treatment          y    Z        x1        x2        x3        x4  \\\n",
       "16419        0.0   9.238960  1.0  1.067054  0.714385 -0.352962 -1.158768   \n",
       "8558         1.0  13.442729  1.0 -3.575646  1.107023 -1.105476 -1.156808   \n",
       "425          0.0   6.070279  0.0  0.418005 -1.346856  2.028741 -0.238332   \n",
       "14858        1.0  15.816544  1.0  0.748353  0.364992  0.833615  1.243441   \n",
       "22689        0.0   7.796337  0.0 -1.059137  1.306717  1.245507 -0.749604   \n",
       "\n",
       "             x5        x6        x7        x8        x9       x10  random  \n",
       "16419 -0.366009  0.165191 -2.107107 -1.751100  0.838383  2.028967     0.0  \n",
       "8558  -1.305229 -1.595064  1.596803 -1.171648 -1.009889 -1.612392     0.0  \n",
       "425    0.991197  0.588821 -1.832830  0.729557 -0.422247  0.595469     1.0  \n",
       "14858  1.502731  0.147918  1.168043  0.354507  0.364360  0.892047     1.0  \n",
       "22689 -0.860559  0.296209  1.565199  0.059622 -1.465361 -0.068036     1.0  "
      ]
     },
     "execution_count": 51,
     "metadata": {},
     "output_type": "execute_result"
    }
   ],
   "source": [
    "LINEAR_EFFECT = lambda X: TRUE_EFFECT * (X[:, 0] ** 2) * (X[:, 1])\n",
    "\n",
    "synth_data = iv_dgp_econml(n=60000, p=15, true_effect=LINEAR_EFFECT)\n",
    "data_df, features_X, features_W = preprocess_dataset(\n",
    "    synth_data, treatment, targets, instruments\n",
    ")\n",
    "df_train, df_test = train_test_split(data_df, test_size=0.3)\n",
    "\n",
    "# Xtest_le = data_df[features_X]\n",
    "train_df.head()"
   ]
  },
  {
   "cell_type": "code",
   "execution_count": 91,
   "metadata": {},
   "outputs": [
    {
     "data": {
      "text/html": [
       "<div>\n",
       "<style scoped>\n",
       "    .dataframe tbody tr th:only-of-type {\n",
       "        vertical-align: middle;\n",
       "    }\n",
       "\n",
       "    .dataframe tbody tr th {\n",
       "        vertical-align: top;\n",
       "    }\n",
       "\n",
       "    .dataframe thead th {\n",
       "        text-align: right;\n",
       "    }\n",
       "</style>\n",
       "<table border=\"1\" class=\"dataframe\">\n",
       "  <thead>\n",
       "    <tr style=\"text-align: right;\">\n",
       "      <th></th>\n",
       "      <th>treatment</th>\n",
       "      <th>y</th>\n",
       "      <th>Z</th>\n",
       "      <th>x1</th>\n",
       "      <th>x2</th>\n",
       "      <th>x3</th>\n",
       "      <th>x4</th>\n",
       "      <th>x5</th>\n",
       "      <th>x6</th>\n",
       "      <th>x7</th>\n",
       "      <th>x8</th>\n",
       "      <th>x9</th>\n",
       "      <th>x10</th>\n",
       "      <th>x11</th>\n",
       "      <th>x12</th>\n",
       "      <th>x13</th>\n",
       "      <th>x14</th>\n",
       "      <th>x15</th>\n",
       "      <th>random</th>\n",
       "    </tr>\n",
       "  </thead>\n",
       "  <tbody>\n",
       "    <tr>\n",
       "      <th>0</th>\n",
       "      <td>1.0</td>\n",
       "      <td>-5.857266</td>\n",
       "      <td>1.0</td>\n",
       "      <td>-0.956795</td>\n",
       "      <td>-1.178507</td>\n",
       "      <td>-1.129198</td>\n",
       "      <td>-0.645068</td>\n",
       "      <td>0.167830</td>\n",
       "      <td>0.348441</td>\n",
       "      <td>0.851846</td>\n",
       "      <td>-1.081505</td>\n",
       "      <td>0.581587</td>\n",
       "      <td>-0.574253</td>\n",
       "      <td>-1.368989</td>\n",
       "      <td>0.272100</td>\n",
       "      <td>-1.573310</td>\n",
       "      <td>-0.507589</td>\n",
       "      <td>-0.956977</td>\n",
       "      <td>0.0</td>\n",
       "    </tr>\n",
       "    <tr>\n",
       "      <th>1</th>\n",
       "      <td>1.0</td>\n",
       "      <td>7.517274</td>\n",
       "      <td>1.0</td>\n",
       "      <td>-0.138869</td>\n",
       "      <td>-0.249410</td>\n",
       "      <td>-0.584851</td>\n",
       "      <td>-0.357059</td>\n",
       "      <td>0.079235</td>\n",
       "      <td>-1.901374</td>\n",
       "      <td>-0.535228</td>\n",
       "      <td>1.463549</td>\n",
       "      <td>-0.268117</td>\n",
       "      <td>-0.108965</td>\n",
       "      <td>0.231877</td>\n",
       "      <td>0.389894</td>\n",
       "      <td>0.514196</td>\n",
       "      <td>-0.335019</td>\n",
       "      <td>1.128440</td>\n",
       "      <td>0.0</td>\n",
       "    </tr>\n",
       "    <tr>\n",
       "      <th>4</th>\n",
       "      <td>1.0</td>\n",
       "      <td>25.041063</td>\n",
       "      <td>1.0</td>\n",
       "      <td>1.454705</td>\n",
       "      <td>0.641983</td>\n",
       "      <td>0.014713</td>\n",
       "      <td>0.562378</td>\n",
       "      <td>-0.634927</td>\n",
       "      <td>-0.972242</td>\n",
       "      <td>-1.063038</td>\n",
       "      <td>1.945098</td>\n",
       "      <td>1.032618</td>\n",
       "      <td>0.557545</td>\n",
       "      <td>-1.115065</td>\n",
       "      <td>-0.490879</td>\n",
       "      <td>-0.269849</td>\n",
       "      <td>0.106047</td>\n",
       "      <td>0.457152</td>\n",
       "      <td>1.0</td>\n",
       "    </tr>\n",
       "    <tr>\n",
       "      <th>8</th>\n",
       "      <td>1.0</td>\n",
       "      <td>26.797527</td>\n",
       "      <td>1.0</td>\n",
       "      <td>1.485008</td>\n",
       "      <td>1.027758</td>\n",
       "      <td>0.976465</td>\n",
       "      <td>1.734990</td>\n",
       "      <td>-0.602963</td>\n",
       "      <td>0.640304</td>\n",
       "      <td>-0.254952</td>\n",
       "      <td>-0.691510</td>\n",
       "      <td>1.235951</td>\n",
       "      <td>-0.068268</td>\n",
       "      <td>-1.961152</td>\n",
       "      <td>0.426090</td>\n",
       "      <td>0.190600</td>\n",
       "      <td>1.279662</td>\n",
       "      <td>0.232079</td>\n",
       "      <td>0.0</td>\n",
       "    </tr>\n",
       "    <tr>\n",
       "      <th>10</th>\n",
       "      <td>1.0</td>\n",
       "      <td>6.337119</td>\n",
       "      <td>1.0</td>\n",
       "      <td>-0.145518</td>\n",
       "      <td>0.458297</td>\n",
       "      <td>1.303044</td>\n",
       "      <td>-1.513008</td>\n",
       "      <td>0.350095</td>\n",
       "      <td>2.154975</td>\n",
       "      <td>-0.109683</td>\n",
       "      <td>0.945298</td>\n",
       "      <td>-1.109862</td>\n",
       "      <td>1.580630</td>\n",
       "      <td>0.660332</td>\n",
       "      <td>-0.045244</td>\n",
       "      <td>1.111304</td>\n",
       "      <td>-0.022584</td>\n",
       "      <td>0.328517</td>\n",
       "      <td>0.0</td>\n",
       "    </tr>\n",
       "    <tr>\n",
       "      <th>...</th>\n",
       "      <td>...</td>\n",
       "      <td>...</td>\n",
       "      <td>...</td>\n",
       "      <td>...</td>\n",
       "      <td>...</td>\n",
       "      <td>...</td>\n",
       "      <td>...</td>\n",
       "      <td>...</td>\n",
       "      <td>...</td>\n",
       "      <td>...</td>\n",
       "      <td>...</td>\n",
       "      <td>...</td>\n",
       "      <td>...</td>\n",
       "      <td>...</td>\n",
       "      <td>...</td>\n",
       "      <td>...</td>\n",
       "      <td>...</td>\n",
       "      <td>...</td>\n",
       "      <td>...</td>\n",
       "    </tr>\n",
       "    <tr>\n",
       "      <th>59983</th>\n",
       "      <td>1.0</td>\n",
       "      <td>0.362284</td>\n",
       "      <td>1.0</td>\n",
       "      <td>-1.631940</td>\n",
       "      <td>-0.595259</td>\n",
       "      <td>0.713877</td>\n",
       "      <td>-0.180002</td>\n",
       "      <td>0.899401</td>\n",
       "      <td>-1.589265</td>\n",
       "      <td>-0.328404</td>\n",
       "      <td>-0.379493</td>\n",
       "      <td>0.090674</td>\n",
       "      <td>0.396572</td>\n",
       "      <td>-1.081569</td>\n",
       "      <td>-0.190047</td>\n",
       "      <td>0.755182</td>\n",
       "      <td>-1.510724</td>\n",
       "      <td>-0.485738</td>\n",
       "      <td>0.0</td>\n",
       "    </tr>\n",
       "    <tr>\n",
       "      <th>59984</th>\n",
       "      <td>1.0</td>\n",
       "      <td>2.877093</td>\n",
       "      <td>1.0</td>\n",
       "      <td>-1.197097</td>\n",
       "      <td>-0.654452</td>\n",
       "      <td>0.996159</td>\n",
       "      <td>-1.869497</td>\n",
       "      <td>-0.351468</td>\n",
       "      <td>-0.690206</td>\n",
       "      <td>1.449985</td>\n",
       "      <td>-0.176614</td>\n",
       "      <td>0.211116</td>\n",
       "      <td>1.852252</td>\n",
       "      <td>-0.583796</td>\n",
       "      <td>1.101536</td>\n",
       "      <td>-1.480567</td>\n",
       "      <td>1.227870</td>\n",
       "      <td>-0.673992</td>\n",
       "      <td>0.0</td>\n",
       "    </tr>\n",
       "    <tr>\n",
       "      <th>59990</th>\n",
       "      <td>1.0</td>\n",
       "      <td>-10.123417</td>\n",
       "      <td>1.0</td>\n",
       "      <td>1.586672</td>\n",
       "      <td>-1.050485</td>\n",
       "      <td>0.743416</td>\n",
       "      <td>-0.416742</td>\n",
       "      <td>-0.805173</td>\n",
       "      <td>2.293855</td>\n",
       "      <td>0.593365</td>\n",
       "      <td>-0.332352</td>\n",
       "      <td>-0.071193</td>\n",
       "      <td>1.154639</td>\n",
       "      <td>1.306584</td>\n",
       "      <td>0.859916</td>\n",
       "      <td>-0.252670</td>\n",
       "      <td>0.948550</td>\n",
       "      <td>-0.813228</td>\n",
       "      <td>0.0</td>\n",
       "    </tr>\n",
       "    <tr>\n",
       "      <th>59992</th>\n",
       "      <td>1.0</td>\n",
       "      <td>6.976418</td>\n",
       "      <td>1.0</td>\n",
       "      <td>-1.620430</td>\n",
       "      <td>-0.328588</td>\n",
       "      <td>1.342052</td>\n",
       "      <td>1.363952</td>\n",
       "      <td>-0.432463</td>\n",
       "      <td>-0.570164</td>\n",
       "      <td>-2.305030</td>\n",
       "      <td>0.533703</td>\n",
       "      <td>-0.128929</td>\n",
       "      <td>0.704356</td>\n",
       "      <td>-0.112109</td>\n",
       "      <td>-1.587572</td>\n",
       "      <td>-0.014723</td>\n",
       "      <td>0.326216</td>\n",
       "      <td>0.894774</td>\n",
       "      <td>1.0</td>\n",
       "    </tr>\n",
       "    <tr>\n",
       "      <th>59993</th>\n",
       "      <td>1.0</td>\n",
       "      <td>10.219723</td>\n",
       "      <td>1.0</td>\n",
       "      <td>-0.704717</td>\n",
       "      <td>0.155400</td>\n",
       "      <td>-0.701580</td>\n",
       "      <td>1.088176</td>\n",
       "      <td>1.929108</td>\n",
       "      <td>-0.397953</td>\n",
       "      <td>-0.376544</td>\n",
       "      <td>-0.599681</td>\n",
       "      <td>0.950225</td>\n",
       "      <td>-0.180670</td>\n",
       "      <td>0.989806</td>\n",
       "      <td>-0.649486</td>\n",
       "      <td>-1.438065</td>\n",
       "      <td>1.908619</td>\n",
       "      <td>-1.138873</td>\n",
       "      <td>0.0</td>\n",
       "    </tr>\n",
       "  </tbody>\n",
       "</table>\n",
       "<p>20788 rows × 19 columns</p>\n",
       "</div>"
      ],
      "text/plain": [
       "       treatment          y    Z        x1        x2        x3        x4  \\\n",
       "0            1.0  -5.857266  1.0 -0.956795 -1.178507 -1.129198 -0.645068   \n",
       "1            1.0   7.517274  1.0 -0.138869 -0.249410 -0.584851 -0.357059   \n",
       "4            1.0  25.041063  1.0  1.454705  0.641983  0.014713  0.562378   \n",
       "8            1.0  26.797527  1.0  1.485008  1.027758  0.976465  1.734990   \n",
       "10           1.0   6.337119  1.0 -0.145518  0.458297  1.303044 -1.513008   \n",
       "...          ...        ...  ...       ...       ...       ...       ...   \n",
       "59983        1.0   0.362284  1.0 -1.631940 -0.595259  0.713877 -0.180002   \n",
       "59984        1.0   2.877093  1.0 -1.197097 -0.654452  0.996159 -1.869497   \n",
       "59990        1.0 -10.123417  1.0  1.586672 -1.050485  0.743416 -0.416742   \n",
       "59992        1.0   6.976418  1.0 -1.620430 -0.328588  1.342052  1.363952   \n",
       "59993        1.0  10.219723  1.0 -0.704717  0.155400 -0.701580  1.088176   \n",
       "\n",
       "             x5        x6        x7        x8        x9       x10       x11  \\\n",
       "0      0.167830  0.348441  0.851846 -1.081505  0.581587 -0.574253 -1.368989   \n",
       "1      0.079235 -1.901374 -0.535228  1.463549 -0.268117 -0.108965  0.231877   \n",
       "4     -0.634927 -0.972242 -1.063038  1.945098  1.032618  0.557545 -1.115065   \n",
       "8     -0.602963  0.640304 -0.254952 -0.691510  1.235951 -0.068268 -1.961152   \n",
       "10     0.350095  2.154975 -0.109683  0.945298 -1.109862  1.580630  0.660332   \n",
       "...         ...       ...       ...       ...       ...       ...       ...   \n",
       "59983  0.899401 -1.589265 -0.328404 -0.379493  0.090674  0.396572 -1.081569   \n",
       "59984 -0.351468 -0.690206  1.449985 -0.176614  0.211116  1.852252 -0.583796   \n",
       "59990 -0.805173  2.293855  0.593365 -0.332352 -0.071193  1.154639  1.306584   \n",
       "59992 -0.432463 -0.570164 -2.305030  0.533703 -0.128929  0.704356 -0.112109   \n",
       "59993  1.929108 -0.397953 -0.376544 -0.599681  0.950225 -0.180670  0.989806   \n",
       "\n",
       "            x12       x13       x14       x15  random  \n",
       "0      0.272100 -1.573310 -0.507589 -0.956977     0.0  \n",
       "1      0.389894  0.514196 -0.335019  1.128440     0.0  \n",
       "4     -0.490879 -0.269849  0.106047  0.457152     1.0  \n",
       "8      0.426090  0.190600  1.279662  0.232079     0.0  \n",
       "10    -0.045244  1.111304 -0.022584  0.328517     0.0  \n",
       "...         ...       ...       ...       ...     ...  \n",
       "59983 -0.190047  0.755182 -1.510724 -0.485738     0.0  \n",
       "59984  1.101536 -1.480567  1.227870 -0.673992     0.0  \n",
       "59990  0.859916 -0.252670  0.948550 -0.813228     0.0  \n",
       "59992 -1.587572 -0.014723  0.326216  0.894774     1.0  \n",
       "59993 -0.649486 -1.438065  1.908619 -1.138873     0.0  \n",
       "\n",
       "[20788 rows x 19 columns]"
      ]
     },
     "execution_count": 91,
     "metadata": {},
     "output_type": "execute_result"
    }
   ],
   "source": [
    "data_df[data_df.treatment == 1]"
   ]
  },
  {
   "cell_type": "code",
   "execution_count": 53,
   "metadata": {
    "collapsed": false,
    "pycharm": {
     "name": "#%%\n"
    }
   },
   "outputs": [
    {
     "name": "stdout",
     "output_type": "stream",
     "text": [
      "Fitting a Propensity-Weighted scoring estimator to be used in scoring tasks\n"
     ]
    },
    {
     "name": "stderr",
     "output_type": "stream",
     "text": [
      "[flaml.tune.tune: 09-26 13:44:47] {375} WARNING - Using CFO for search. To use BlendSearch, run: pip install flaml[blendsearch]\n",
      "[flaml.tune.tune: 09-26 13:44:47] {506} INFO - trial 1 config: {'estimator': {'estimator_name': 'iv.auto_causality.models.SimpleIV'}}\n"
     ]
    },
    {
     "name": "stdout",
     "output_type": "stream",
     "text": [
      "Initial configs: [{'estimator': {'estimator_name': 'iv.auto_causality.models.SimpleIV'}}, {'estimator': {'estimator_name': 'iv.econml.iv.dr.LinearDRIV', 'projection': True}}, {'estimator': {'estimator_name': 'iv.econml.iv.dml.OrthoIV', 'mc_agg': 'mean'}}, {'estimator': {'estimator_name': 'iv.econml.iv.dml.DMLIV', 'mc_agg': 'mean'}}, {'estimator': {'estimator_name': 'iv.econml.iv.dr.IntentToTreatDRIV', 'opt_reweighted': 0, 'cov_clip': 0.1, 'prel_opt_reweighted': 1, 'prel_cate_approach': 'driv'}}, {'estimator': {'estimator_name': 'iv.econml.iv.dr.SparseLinearDRIV', 'projection': 0, 'opt_reweighted': 0, 'cov_clip': 0.1}}, {'estimator': {'estimator_name': 'iv.econml.iv.dr.ForestDRIV', 'projection': 0, 'opt_reweighted': 0, 'cov_clip': 0.1, 'min_samples_split': 2}}, {'estimator': {'estimator_name': 'iv.econml.iv.dr.LinearIntentToTreatDRIV', 'cov_clip': 0.1, 'opt_reweighted': 1}}]\n"
     ]
    },
    {
     "name": "stderr",
     "output_type": "stream",
     "text": [
      "RuntimeError: module compiled against API version 0xf but this version of numpy is 0xe\n",
      "OMP: Info #276: omp_set_nested routine deprecated, please use omp_set_max_active_levels instead.\n",
      "Criterion 'mse' was deprecated in v1.0 and will be removed in version 1.2. Use `criterion='squared_error'` which is equivalent.\n",
      "Criterion 'mse' was deprecated in v1.0 and will be removed in version 1.2. Use `criterion='squared_error'` which is equivalent.\n",
      "[flaml.tune.tune: 09-26 13:45:11] {118} INFO - result: {'energy_distance': 0.22867408617253382, 'estimator_name': 'iv.auto_causality.models.SimpleIV', 'scores': {'train': {'intrp': <econml.cate_interpreter._interpreters.SingleTreeCateInterpreter object at 0x169816820>, 'ate': 0.12512341141700745, 'ate_std': 0.0, 'energy_distance': 0.193058835931172}, 'validation': {'intrp': <econml.cate_interpreter._interpreters.SingleTreeCateInterpreter object at 0x16b5fc0d0>, 'ate': 0.12512341141700745, 'ate_std': 0.0, 'energy_distance': 0.22867408617253382}}, 'config': {'estimator': {'estimator_name': 'iv.auto_causality.models.SimpleIV'}}, 'training_iteration': 0, 'config/estimator': {'estimator_name': 'iv.auto_causality.models.SimpleIV'}, 'experiment_tag': 'exp', 'time_total_s': 23.526066064834595}\n",
      "[flaml.tune.tune: 09-26 13:45:11] {506} INFO - trial 2 config: {'estimator': {'estimator_name': 'iv.econml.iv.dr.LinearDRIV', 'projection': 1}}\n",
      "RuntimeError: module compiled against API version 0xf but this version of numpy is 0xe\n",
      "OMP: Info #276: omp_set_nested routine deprecated, please use omp_set_max_active_levels instead.\n",
      "'normalize' was deprecated in version 1.0 and will be removed in 1.2. Please leave the normalize parameter to its default value to silence this warning. The default behavior of this estimator is to not do any normalization. If normalization is needed please use sklearn.preprocessing.StandardScaler instead.\n",
      "'normalize' was deprecated in version 1.0 and will be removed in 1.2. Please leave the normalize parameter to its default value to silence this warning. The default behavior of this estimator is to not do any normalization. If normalization is needed please use sklearn.preprocessing.StandardScaler instead.\n",
      "[flaml.automl: 09-26 14:45:13] {2648} WARNING - Time taken to find the best model is 100% of the provided time budget and not all estimators' hyperparameter search converged. Consider increasing the time budget.\n",
      "[flaml.automl: 09-26 15:05:13] {2648} WARNING - Time taken to find the best model is 81% of the provided time budget and not all estimators' hyperparameter search converged. Consider increasing the time budget.\n",
      "'normalize' was deprecated in version 1.0 and will be removed in 1.2. Please leave the normalize parameter to its default value to silence this warning. The default behavior of this estimator is to not do any normalization. If normalization is needed please use sklearn.preprocessing.StandardScaler instead.\n",
      "'normalize' was deprecated in version 1.0 and will be removed in 1.2. Please leave the normalize parameter to its default value to silence this warning. The default behavior of this estimator is to not do any normalization. If normalization is needed please use sklearn.preprocessing.StandardScaler instead.\n",
      "[flaml.automl: 09-26 15:25:16] {2648} WARNING - Time taken to find the best model is 95% of the provided time budget and not all estimators' hyperparameter search converged. Consider increasing the time budget.\n",
      "'normalize' was deprecated in version 1.0 and will be removed in 1.2. Please leave the normalize parameter to its default value to silence this warning. The default behavior of this estimator is to not do any normalization. If normalization is needed please use sklearn.preprocessing.StandardScaler instead.\n",
      "'normalize' was deprecated in version 1.0 and will be removed in 1.2. Please leave the normalize parameter to its default value to silence this warning. The default behavior of this estimator is to not do any normalization. If normalization is needed please use sklearn.preprocessing.StandardScaler instead.\n",
      "[flaml.automl: 09-26 16:25:18] {2648} WARNING - Time taken to find the best model is 72% of the provided time budget and not all estimators' hyperparameter search converged. Consider increasing the time budget.\n",
      "'normalize' was deprecated in version 1.0 and will be removed in 1.2. Please leave the normalize parameter to its default value to silence this warning. The default behavior of this estimator is to not do any normalization. If normalization is needed please use sklearn.preprocessing.StandardScaler instead.\n",
      "'normalize' was deprecated in version 1.0 and will be removed in 1.2. Please leave the normalize parameter to its default value to silence this warning. The default behavior of this estimator is to not do any normalization. If normalization is needed please use sklearn.preprocessing.StandardScaler instead.\n",
      "Criterion 'mse' was deprecated in v1.0 and will be removed in version 1.2. Use `criterion='squared_error'` which is equivalent.\n",
      "Criterion 'mse' was deprecated in v1.0 and will be removed in version 1.2. Use `criterion='squared_error'` which is equivalent.\n",
      "[flaml.tune.tune: 09-26 16:25:32] {118} INFO - result: {'energy_distance': 0.1581589010732456, 'estimator_name': 'iv.econml.iv.dr.LinearDRIV', 'scores': {'train': {'intrp': <econml.cate_interpreter._interpreters.SingleTreeCateInterpreter object at 0x2a0848f70>, 'ate': -0.0035559233085700965, 'ate_std': 4.995797566871603, 'energy_distance': 0.13261608687941884}, 'validation': {'intrp': <econml.cate_interpreter._interpreters.SingleTreeCateInterpreter object at 0x2a08553a0>, 'ate': 0.03785596103468833, 'ate_std': 4.976959592818213, 'energy_distance': 0.1581589010732456}}, 'config': {'estimator': {'estimator_name': 'iv.econml.iv.dr.LinearDRIV', 'projection': 1}}, 'training_iteration': 0, 'config/estimator': {'estimator_name': 'iv.econml.iv.dr.LinearDRIV', 'projection': 1}, 'experiment_tag': 'exp', 'time_total_s': 9621.077730894089}\n",
      "[flaml.tune.tune: 09-26 16:25:32] {506} INFO - trial 3 config: {'estimator': {'estimator_name': 'iv.econml.iv.dml.OrthoIV', 'mc_agg': 'mean'}}\n",
      "[flaml.automl: 09-26 16:45:34] {2648} WARNING - Time taken to find the best model is 75% of the provided time budget and not all estimators' hyperparameter search converged. Consider increasing the time budget.\n",
      "'normalize' was deprecated in version 1.0 and will be removed in 1.2. Please leave the normalize parameter to its default value to silence this warning. The default behavior of this estimator is to not do any normalization. If normalization is needed please use sklearn.preprocessing.StandardScaler instead.\n",
      "A column-vector y was passed when a 1d array was expected. Please change the shape of y to (n_samples, ), for example using ravel().\n",
      "[flaml.automl: 09-26 17:25:43] {2648} WARNING - Time taken to find the best model is 83% of the provided time budget and not all estimators' hyperparameter search converged. Consider increasing the time budget.\n",
      "'normalize' was deprecated in version 1.0 and will be removed in 1.2. Please leave the normalize parameter to its default value to silence this warning. The default behavior of this estimator is to not do any normalization. If normalization is needed please use sklearn.preprocessing.StandardScaler instead.\n",
      "A column-vector y was passed when a 1d array was expected. Please change the shape of y to (n_samples, ), for example using ravel().\n",
      "Criterion 'mse' was deprecated in v1.0 and will be removed in version 1.2. Use `criterion='squared_error'` which is equivalent.\n",
      "Criterion 'mse' was deprecated in v1.0 and will be removed in version 1.2. Use `criterion='squared_error'` which is equivalent.\n",
      "[flaml.tune.tune: 09-26 17:45:56] {118} INFO - result: {'energy_distance': 0.21031591646680425, 'estimator_name': 'iv.econml.iv.dml.OrthoIV', 'scores': {'train': {'intrp': <econml.cate_interpreter._interpreters.SingleTreeCateInterpreter object at 0x2a4b334f0>, 'ate': -0.004855545825924427, 'ate_std': 6.766927040595712, 'energy_distance': 0.18506868806040977}, 'validation': {'intrp': <econml.cate_interpreter._interpreters.SingleTreeCateInterpreter object at 0x2a4b338e0>, 'ate': 0.05314803313841943, 'ate_std': 6.74268731144865, 'energy_distance': 0.21031591646680425}}, 'config': {'estimator': {'estimator_name': 'iv.econml.iv.dml.OrthoIV', 'mc_agg': 'mean'}}, 'training_iteration': 0, 'config/estimator': {'estimator_name': 'iv.econml.iv.dml.OrthoIV', 'mc_agg': 'mean'}, 'experiment_tag': 'exp', 'time_total_s': 4823.991717815399}\n",
      "[flaml.tune.tune: 09-26 17:45:56] {506} INFO - trial 4 config: {'estimator': {'estimator_name': 'iv.econml.iv.dml.DMLIV', 'mc_agg': 'mean'}}\n",
      "[flaml.automl: 09-26 18:06:02] {2648} WARNING - Time taken to find the best model is 99% of the provided time budget and not all estimators' hyperparameter search converged. Consider increasing the time budget.\n",
      "[flaml.automl: 09-26 18:26:02] {2648} WARNING - Time taken to find the best model is 75% of the provided time budget and not all estimators' hyperparameter search converged. Consider increasing the time budget.\n",
      "'normalize' was deprecated in version 1.0 and will be removed in 1.2. Please leave the normalize parameter to its default value to silence this warning. The default behavior of this estimator is to not do any normalization. If normalization is needed please use sklearn.preprocessing.StandardScaler instead.\n",
      "A column-vector y was passed when a 1d array was expected. Please change the shape of y to (n_samples, ), for example using ravel().\n",
      "[flaml.automl: 09-26 18:46:04] {2648} WARNING - Time taken to find the best model is 93% of the provided time budget and not all estimators' hyperparameter search converged. Consider increasing the time budget.\n",
      "[flaml.automl: 09-26 19:06:04] {2648} WARNING - Time taken to find the best model is 76% of the provided time budget and not all estimators' hyperparameter search converged. Consider increasing the time budget.\n",
      "'normalize' was deprecated in version 1.0 and will be removed in 1.2. Please leave the normalize parameter to its default value to silence this warning. The default behavior of this estimator is to not do any normalization. If normalization is needed please use sklearn.preprocessing.StandardScaler instead.\n",
      "A column-vector y was passed when a 1d array was expected. Please change the shape of y to (n_samples, ), for example using ravel().\n",
      "Criterion 'mse' was deprecated in v1.0 and will be removed in version 1.2. Use `criterion='squared_error'` which is equivalent.\n",
      "Criterion 'mse' was deprecated in v1.0 and will be removed in version 1.2. Use `criterion='squared_error'` which is equivalent.\n",
      "[flaml.tune.tune: 09-26 19:06:29] {118} INFO - result: {'energy_distance': 0.14344045826186225, 'estimator_name': 'iv.econml.iv.dml.DMLIV', 'scores': {'train': {'intrp': <econml.cate_interpreter._interpreters.SingleTreeCateInterpreter object at 0x2c0060d30>, 'ate': 0.021411253487795687, 'ate_std': 3.1938695279181255, 'energy_distance': 0.11544437309383593}, 'validation': {'intrp': <econml.cate_interpreter._interpreters.SingleTreeCateInterpreter object at 0x2c006d160>, 'ate': 0.048397950132985285, 'ate_std': 3.182164775655745, 'energy_distance': 0.14344045826186225}}, 'config': {'estimator': {'estimator_name': 'iv.econml.iv.dml.DMLIV', 'mc_agg': 'mean'}}, 'training_iteration': 0, 'config/estimator': {'estimator_name': 'iv.econml.iv.dml.DMLIV', 'mc_agg': 'mean'}, 'experiment_tag': 'exp', 'time_total_s': 4833.570113182068}\n",
      "[flaml.tune.tune: 09-26 19:06:29] {506} INFO - trial 5 config: {'estimator': {'estimator_name': 'iv.econml.iv.dr.IntentToTreatDRIV', 'opt_reweighted': 0, 'cov_clip': 0.1, 'prel_opt_reweighted': 1, 'prel_cate_approach': 'driv'}}\n",
      "[flaml.automl: 09-26 19:26:43] {2648} WARNING - Time taken to find the best model is 99% of the provided time budget and not all estimators' hyperparameter search converged. Consider increasing the time budget.\n",
      "[flaml.automl: 09-26 19:46:45] {2648} WARNING - Time taken to find the best model is 84% of the provided time budget and not all estimators' hyperparameter search converged. Consider increasing the time budget.\n",
      "[flaml.automl: 09-26 20:27:06] {2648} WARNING - Time taken to find the best model is 82% of the provided time budget and not all estimators' hyperparameter search converged. Consider increasing the time budget.\n",
      "Function get_feature_names is deprecated; get_feature_names is deprecated in 1.0 and will be removed in 1.2. Please use get_feature_names_out instead.\n",
      "[flaml.automl: 09-26 21:07:27] {2648} WARNING - Time taken to find the best model is 84% of the provided time budget and not all estimators' hyperparameter search converged. Consider increasing the time budget.\n",
      "Function get_feature_names is deprecated; get_feature_names is deprecated in 1.0 and will be removed in 1.2. Please use get_feature_names_out instead.\n",
      "[flaml.automl: 09-26 22:07:45] {2648} WARNING - Time taken to find the best model is 100% of the provided time budget and not all estimators' hyperparameter search converged. Consider increasing the time budget.\n",
      "[flaml.automl: 09-26 22:27:46] {2648} WARNING - Time taken to find the best model is 91% of the provided time budget and not all estimators' hyperparameter search converged. Consider increasing the time budget.\n",
      "[flaml.automl: 09-26 22:47:46] {2648} WARNING - Time taken to find the best model is 93% of the provided time budget and not all estimators' hyperparameter search converged. Consider increasing the time budget.\n",
      "Function get_feature_names is deprecated; get_feature_names is deprecated in 1.0 and will be removed in 1.2. Please use get_feature_names_out instead.\n",
      "Function get_feature_names is deprecated; get_feature_names is deprecated in 1.0 and will be removed in 1.2. Please use get_feature_names_out instead.\n",
      "Criterion 'mse' was deprecated in v1.0 and will be removed in version 1.2. Use `criterion='squared_error'` which is equivalent.\n",
      "Criterion 'mse' was deprecated in v1.0 and will be removed in version 1.2. Use `criterion='squared_error'` which is equivalent.\n",
      "[flaml.tune.tune: 09-27 00:00:03] {118} INFO - result: {'energy_distance': 0.013732010545933093, 'estimator_name': 'iv.econml.iv.dr.IntentToTreatDRIV', 'scores': {'train': {'intrp': <econml.cate_interpreter._interpreters.SingleTreeCateInterpreter object at 0x3580ab190>, 'ate': 0.051055400802104856, 'ate_std': 12.573007045729193, 'energy_distance': 0.006269910593895922}, 'validation': {'intrp': <econml.cate_interpreter._interpreters.SingleTreeCateInterpreter object at 0x3580ab580>, 'ate': 0.11903764881186188, 'ate_std': 12.338407136114077, 'energy_distance': 0.013732010545933093}}, 'config': {'estimator': {'estimator_name': 'iv.econml.iv.dr.IntentToTreatDRIV', 'opt_reweighted': 0, 'cov_clip': 0.1, 'prel_opt_reweighted': 1, 'prel_cate_approach': 'driv'}}, 'training_iteration': 0, 'config/estimator': {'estimator_name': 'iv.econml.iv.dr.IntentToTreatDRIV', 'opt_reweighted': 0, 'cov_clip': 0.1, 'prel_opt_reweighted': 1, 'prel_cate_approach': 'driv'}, 'experiment_tag': 'exp', 'time_total_s': 17613.878711938858}\n"
     ]
    }
   ],
   "source": [
    "ac_linear_te = AutoCausality(\n",
    "    estimator_list=[\"SimpleIV\", \"SparseLinearDRIV\", \"DMLIV\", \"OrthoIV\", \"LinearDRIV\", \"LinearIntentToTreatDRIV\", \"ForestDRIV\", \"IntentToTreatDRIV\"],\n",
    "    verbose=3,\n",
    "    components_verbose=2,\n",
    "    time_budget=28800,\n",
    "    components_time_budget=1200,\n",
    "    propensity_model=\"auto\",\n",
    "    train_size=0.8\n",
    ")\n",
    "\n",
    "ac_linear_te.fit(df_train, treatment, outcome, features_X[2:], features_X[:2], instruments)"
   ]
  },
  {
   "cell_type": "code",
   "execution_count": 93,
   "metadata": {},
   "outputs": [
    {
     "data": {
      "text/html": [
       "<div>\n",
       "<style scoped>\n",
       "    .dataframe tbody tr th:only-of-type {\n",
       "        vertical-align: middle;\n",
       "    }\n",
       "\n",
       "    .dataframe tbody tr th {\n",
       "        vertical-align: top;\n",
       "    }\n",
       "\n",
       "    .dataframe thead th {\n",
       "        text-align: right;\n",
       "    }\n",
       "</style>\n",
       "<table border=\"1\" class=\"dataframe\">\n",
       "  <thead>\n",
       "    <tr style=\"text-align: right;\">\n",
       "      <th></th>\n",
       "      <th>treatment</th>\n",
       "      <th>y</th>\n",
       "      <th>Z</th>\n",
       "      <th>x1</th>\n",
       "      <th>x2</th>\n",
       "      <th>x3</th>\n",
       "      <th>x4</th>\n",
       "      <th>x5</th>\n",
       "      <th>x6</th>\n",
       "      <th>x7</th>\n",
       "      <th>x8</th>\n",
       "      <th>x9</th>\n",
       "      <th>x10</th>\n",
       "      <th>x11</th>\n",
       "      <th>x12</th>\n",
       "      <th>x13</th>\n",
       "      <th>x14</th>\n",
       "      <th>x15</th>\n",
       "      <th>random</th>\n",
       "    </tr>\n",
       "  </thead>\n",
       "  <tbody>\n",
       "    <tr>\n",
       "      <th>0</th>\n",
       "      <td>1.0</td>\n",
       "      <td>-5.857266</td>\n",
       "      <td>1.0</td>\n",
       "      <td>-0.956795</td>\n",
       "      <td>-1.178507</td>\n",
       "      <td>-1.129198</td>\n",
       "      <td>-0.645068</td>\n",
       "      <td>0.167830</td>\n",
       "      <td>0.348441</td>\n",
       "      <td>0.851846</td>\n",
       "      <td>-1.081505</td>\n",
       "      <td>0.581587</td>\n",
       "      <td>-0.574253</td>\n",
       "      <td>-1.368989</td>\n",
       "      <td>0.272100</td>\n",
       "      <td>-1.573310</td>\n",
       "      <td>-0.507589</td>\n",
       "      <td>-0.956977</td>\n",
       "      <td>0.0</td>\n",
       "    </tr>\n",
       "    <tr>\n",
       "      <th>1</th>\n",
       "      <td>1.0</td>\n",
       "      <td>7.517274</td>\n",
       "      <td>1.0</td>\n",
       "      <td>-0.138869</td>\n",
       "      <td>-0.249410</td>\n",
       "      <td>-0.584851</td>\n",
       "      <td>-0.357059</td>\n",
       "      <td>0.079235</td>\n",
       "      <td>-1.901374</td>\n",
       "      <td>-0.535228</td>\n",
       "      <td>1.463549</td>\n",
       "      <td>-0.268117</td>\n",
       "      <td>-0.108965</td>\n",
       "      <td>0.231877</td>\n",
       "      <td>0.389894</td>\n",
       "      <td>0.514196</td>\n",
       "      <td>-0.335019</td>\n",
       "      <td>1.128440</td>\n",
       "      <td>0.0</td>\n",
       "    </tr>\n",
       "    <tr>\n",
       "      <th>2</th>\n",
       "      <td>0.0</td>\n",
       "      <td>10.481343</td>\n",
       "      <td>0.0</td>\n",
       "      <td>0.545352</td>\n",
       "      <td>-0.955324</td>\n",
       "      <td>1.477746</td>\n",
       "      <td>-0.165268</td>\n",
       "      <td>0.528634</td>\n",
       "      <td>-1.316319</td>\n",
       "      <td>1.866381</td>\n",
       "      <td>1.742396</td>\n",
       "      <td>-0.155441</td>\n",
       "      <td>0.188968</td>\n",
       "      <td>-0.010739</td>\n",
       "      <td>-0.078663</td>\n",
       "      <td>-0.094124</td>\n",
       "      <td>2.316504</td>\n",
       "      <td>-0.441800</td>\n",
       "      <td>1.0</td>\n",
       "    </tr>\n",
       "    <tr>\n",
       "      <th>3</th>\n",
       "      <td>0.0</td>\n",
       "      <td>7.467568</td>\n",
       "      <td>0.0</td>\n",
       "      <td>0.353114</td>\n",
       "      <td>-0.659324</td>\n",
       "      <td>-0.410153</td>\n",
       "      <td>0.607940</td>\n",
       "      <td>1.724601</td>\n",
       "      <td>0.421766</td>\n",
       "      <td>-2.016214</td>\n",
       "      <td>1.653721</td>\n",
       "      <td>1.596158</td>\n",
       "      <td>-0.945855</td>\n",
       "      <td>2.026967</td>\n",
       "      <td>-0.023056</td>\n",
       "      <td>-0.297506</td>\n",
       "      <td>-0.042055</td>\n",
       "      <td>1.162182</td>\n",
       "      <td>1.0</td>\n",
       "    </tr>\n",
       "    <tr>\n",
       "      <th>4</th>\n",
       "      <td>1.0</td>\n",
       "      <td>25.041063</td>\n",
       "      <td>1.0</td>\n",
       "      <td>1.454705</td>\n",
       "      <td>0.641983</td>\n",
       "      <td>0.014713</td>\n",
       "      <td>0.562378</td>\n",
       "      <td>-0.634927</td>\n",
       "      <td>-0.972242</td>\n",
       "      <td>-1.063038</td>\n",
       "      <td>1.945098</td>\n",
       "      <td>1.032618</td>\n",
       "      <td>0.557545</td>\n",
       "      <td>-1.115065</td>\n",
       "      <td>-0.490879</td>\n",
       "      <td>-0.269849</td>\n",
       "      <td>0.106047</td>\n",
       "      <td>0.457152</td>\n",
       "      <td>1.0</td>\n",
       "    </tr>\n",
       "  </tbody>\n",
       "</table>\n",
       "</div>"
      ],
      "text/plain": [
       "   treatment          y    Z        x1        x2        x3        x4  \\\n",
       "0        1.0  -5.857266  1.0 -0.956795 -1.178507 -1.129198 -0.645068   \n",
       "1        1.0   7.517274  1.0 -0.138869 -0.249410 -0.584851 -0.357059   \n",
       "2        0.0  10.481343  0.0  0.545352 -0.955324  1.477746 -0.165268   \n",
       "3        0.0   7.467568  0.0  0.353114 -0.659324 -0.410153  0.607940   \n",
       "4        1.0  25.041063  1.0  1.454705  0.641983  0.014713  0.562378   \n",
       "\n",
       "         x5        x6        x7        x8        x9       x10       x11  \\\n",
       "0  0.167830  0.348441  0.851846 -1.081505  0.581587 -0.574253 -1.368989   \n",
       "1  0.079235 -1.901374 -0.535228  1.463549 -0.268117 -0.108965  0.231877   \n",
       "2  0.528634 -1.316319  1.866381  1.742396 -0.155441  0.188968 -0.010739   \n",
       "3  1.724601  0.421766 -2.016214  1.653721  1.596158 -0.945855  2.026967   \n",
       "4 -0.634927 -0.972242 -1.063038  1.945098  1.032618  0.557545 -1.115065   \n",
       "\n",
       "        x12       x13       x14       x15  random  \n",
       "0  0.272100 -1.573310 -0.507589 -0.956977     0.0  \n",
       "1  0.389894  0.514196 -0.335019  1.128440     0.0  \n",
       "2 -0.078663 -0.094124  2.316504 -0.441800     1.0  \n",
       "3 -0.023056 -0.297506 -0.042055  1.162182     1.0  \n",
       "4 -0.490879 -0.269849  0.106047  0.457152     1.0  "
      ]
     },
     "execution_count": 93,
     "metadata": {},
     "output_type": "execute_result"
    }
   ],
   "source": [
    "data_df.head()"
   ]
  },
  {
   "cell_type": "code",
   "execution_count": 94,
   "metadata": {},
   "outputs": [
    {
     "data": {
      "text/plain": [
       "-0.83471394"
      ]
     },
     "execution_count": 94,
     "metadata": {},
     "output_type": "execute_result"
    }
   ],
   "source": [
    "ate = (\n",
    "    data_df[data_df.treatment == 0][\"y\"].mean() - \n",
    "    data_df[data_df.treatment == 1][\"y\"].mean()\n",
    ")\n",
    "ate"
   ]
  },
  {
   "cell_type": "code",
   "execution_count": 89,
   "metadata": {},
   "outputs": [],
   "source": [
    "from cProfile import label\n",
    "\n",
    "\n",
    "def get_scores(results_dict, te=TRUE_EFFECT):\n",
    "    all_scores = list()\n",
    "    for label, scores in results_dict.items():\n",
    "        val_scores = scores[\"scores\"][\"validation\"]\n",
    "        ate = val_scores[\"ate\"]\n",
    "        energy_distance = val_scores[\"energy_distance\"]\n",
    "        all_scores.append([energy_distance, (te-ate)**2])\n",
    "    return all_scores\n",
    "\n",
    "\n",
    "def all_estimator_scatter(results, best_estimators, title):\n",
    "    all_scores = get_scores(results)\n",
    "    best_scores = get_scores(best_estimators)\n",
    "    estimators = list(best_estimators.keys())\n",
    "\n",
    "    fig, ax = plt.subplots(figsize=(9, 7))\n",
    "    \n",
    "    for est in all_scores:\n",
    "        ax.scatter(est[1], est[0], c=\"gray\", label=\"_nolegend_\")\n",
    "    for i, est in enumerate(best_scores):\n",
    "        print(est)\n",
    "        ax.scatter(est[1], est[0], label=estimators[i])\n",
    "    \n",
    "    ax.set_ylabel(\"test score\")\n",
    "    ax.set_xlabel(\"MSE\")\n",
    "    ax.set_title(\"energy_distance\")\n",
    "    plt.legend(bbox_to_anchor=(1.04,1), borderaxespad=0)\n",
    "    plt.show()"
   ]
  },
  {
   "cell_type": "markdown",
   "metadata": {},
   "source": [
    "Here, we compare the best run(s) - orange dots - for the selected estimator(s), compared with intermediate runs - grey dots."
   ]
  },
  {
   "cell_type": "code",
   "execution_count": 90,
   "metadata": {},
   "outputs": [
    {
     "name": "stdout",
     "output_type": "stream",
     "text": [
      "[0.22867408617253382, 43.22900215509673]\n",
      "[0.14344045826186225, 44.243809829795076]\n",
      "[0.21031591646680425, 44.18064106937167]\n",
      "[0.013732010545933093, 43.309065467755715]\n",
      "[0.1581589010732456, 44.38416319592103]\n"
     ]
    },
    {
     "data": {
      "image/png": "[encoded data removed]",
      "text/plain": [
       "<Figure size 900x700 with 1 Axes>"
      ]
     },
     "metadata": {},
     "output_type": "display_data"
    }
   ],
   "source": [
    "all_estimator_scatter(\n",
    "    ac_linear_te.results.results,\n",
    "    ac_linear_te.scores,\n",
    "    title=\"linear_cate\"\n",
    ")"
   ]
  },
  {
   "cell_type": "code",
   "execution_count": 140,
   "metadata": {},
   "outputs": [],
   "source": [
    "import numpy as np\n",
    "\n",
    "def mse_heffects(estimator, test_cov, labels):\n",
    "    est_effect = estimator.effect(test_cov)\n",
    "    print(\"Estimated effect\")\n",
    "    print(est_effect)\n",
    "    print(\"Known\")\n",
    "    print(labels)\n",
    "    print()\n",
    "    mse = np.square(est_effect - labels).mean()\n",
    "    \n",
    "    return mse"
   ]
  },
  {
   "cell_type": "code",
   "execution_count": 139,
   "metadata": {},
   "outputs": [],
   "source": [
    "df_test[['x1', 'x2']].values.shape\n",
    "\n",
    "CATE_VALUES = lambda x, y: TRUE_EFFECT * (x ** 2) * y\n",
    "test_covals = df_test[['x1', 'x2']].values\n",
    "x, y = test_covals[:, 0], test_covals[:, 1]\n",
    "cate_effect_vals = CATE_VALUES(x, y)"
   ]
  },
  {
   "cell_type": "code",
   "execution_count": 111,
   "metadata": {},
   "outputs": [
    {
     "data": {
      "text/plain": [
       "array([   0.     ,  -97.23335, -175.84822, ...,    0.     ,    0.     ,\n",
       "          0.     ], dtype=float32)"
      ]
     },
     "execution_count": 111,
     "metadata": {},
     "output_type": "execute_result"
    }
   ],
   "source": [
    "LINEAR_EFFECT(df_test.values)"
   ]
  },
  {
   "cell_type": "code",
   "execution_count": 141,
   "metadata": {},
   "outputs": [
    {
     "name": "stdout",
     "output_type": "stream",
     "text": [
      "iv.auto_causality.models.SimpleIV\n",
      "Estimated effect\n",
      "[0.12512341 0.12512341 0.12512341 ... 0.12512341 0.12512341 0.12512341]\n",
      "Known\n",
      "[-5.4438931e-01 -2.1898376e+01 -3.4319511e+01 ...  2.8000344e-03\n",
      "  7.8096194e+00 -1.7751014e-01]\n",
      "\n",
      "iv.econml.iv.dml.DMLIV\n",
      "Estimated effect\n",
      "[-0.1401385  -3.58436614 -5.40976472 ...  4.35288413  1.13125824\n",
      " -0.87956819]\n",
      "Known\n",
      "[-5.4438931e-01 -2.1898376e+01 -3.4319511e+01 ...  2.8000344e-03\n",
      "  7.8096194e+00 -1.7751014e-01]\n",
      "\n",
      "iv.econml.iv.dml.OrthoIV\n",
      "Estimated effect\n",
      "[ -0.27834495  -7.74341839 -11.61187065 ...   9.16999275   2.24269859\n",
      "  -1.89502179]\n",
      "Known\n",
      "[-5.4438931e-01 -2.1898376e+01 -3.4319511e+01 ...  2.8000344e-03\n",
      "  7.8096194e+00 -1.7751014e-01]\n",
      "\n",
      "iv.econml.iv.dr.IntentToTreatDRIV\n",
      "Estimated effect\n",
      "[  1.35708627 -28.65912597 -31.54220503 ...  -0.12614895   8.96411106\n",
      "   0.40834286]\n",
      "Known\n",
      "[-5.4438931e-01 -2.1898376e+01 -3.4319511e+01 ...  2.8000344e-03\n",
      "  7.8096194e+00 -1.7751014e-01]\n",
      "\n",
      "iv.econml.iv.dr.LinearDRIV\n",
      "Estimated effect\n",
      "[-0.32245121 -5.54777866 -8.40181174 ...  6.7731544   1.83229098\n",
      " -1.43075587]\n",
      "Known\n",
      "[-5.4438931e-01 -2.1898376e+01 -3.4319511e+01 ...  2.8000344e-03\n",
      "  7.8096194e+00 -1.7751014e-01]\n",
      "\n"
     ]
    }
   ],
   "source": [
    "stats = []\n",
    "for est_name, scr in ac_linear_te.scores.items():\n",
    "    print(est_name)\n",
    "    estimator = scr[\"estimator\"].estimator\n",
    "    \n",
    "    # mse_train = mse_heffects(estimator, df_train[features_X[:2]], df_train.y)\n",
    "    mse_test = mse_heffects(estimator, df_test[features_X[:2]], cate_effect_vals)\n",
    "\n",
    "    energy_distance = ac_linear_te.scorer.make_scores(\n",
    "                scr[\"estimator\"],\n",
    "                df_test,\n",
    "                problem=ac_linear_te.problem,\n",
    "                metrics_to_report=ac_linear_te.metrics_to_report\n",
    "            )[\"energy_distance\"]\n",
    "    \n",
    "\n",
    "    stats.append([est_name, mse_test, energy_distance])\n",
    "   "
   ]
  },
  {
   "cell_type": "code",
   "execution_count": 117,
   "metadata": {},
   "outputs": [
    {
     "data": {
      "text/html": [
       "<div>\n",
       "<style scoped>\n",
       "    .dataframe tbody tr th:only-of-type {\n",
       "        vertical-align: middle;\n",
       "    }\n",
       "\n",
       "    .dataframe tbody tr th {\n",
       "        vertical-align: top;\n",
       "    }\n",
       "\n",
       "    .dataframe thead th {\n",
       "        text-align: right;\n",
       "    }\n",
       "</style>\n",
       "<table border=\"1\" class=\"dataframe\">\n",
       "  <thead>\n",
       "    <tr style=\"text-align: right;\">\n",
       "      <th></th>\n",
       "      <th>estimator</th>\n",
       "      <th>estimated_effect</th>\n",
       "      <th>ate_mse</th>\n",
       "      <th>energy_distance</th>\n",
       "    </tr>\n",
       "  </thead>\n",
       "  <tbody>\n",
       "    <tr>\n",
       "      <th>0</th>\n",
       "      <td>iv.auto_causality.models.SimpleIV</td>\n",
       "      <td>0.125123</td>\n",
       "      <td>43.229002</td>\n",
       "      <td>0.208813</td>\n",
       "    </tr>\n",
       "    <tr>\n",
       "      <th>1</th>\n",
       "      <td>iv.econml.iv.dml.DMLIV</td>\n",
       "      <td>0.031996</td>\n",
       "      <td>44.462276</td>\n",
       "      <td>0.130863</td>\n",
       "    </tr>\n",
       "    <tr>\n",
       "      <th>2</th>\n",
       "      <td>iv.econml.iv.dml.OrthoIV</td>\n",
       "      <td>0.017911</td>\n",
       "      <td>44.650307</td>\n",
       "      <td>0.199842</td>\n",
       "    </tr>\n",
       "    <tr>\n",
       "      <th>3</th>\n",
       "      <td>iv.econml.iv.dr.IntentToTreatDRIV</td>\n",
       "      <td>0.024849</td>\n",
       "      <td>44.557638</td>\n",
       "      <td>0.011017</td>\n",
       "    </tr>\n",
       "    <tr>\n",
       "      <th>4</th>\n",
       "      <td>iv.econml.iv.dr.LinearDRIV</td>\n",
       "      <td>0.012671</td>\n",
       "      <td>44.720370</td>\n",
       "      <td>0.148137</td>\n",
       "    </tr>\n",
       "  </tbody>\n",
       "</table>\n",
       "</div>"
      ],
      "text/plain": [
       "                           estimator  estimated_effect    ate_mse  \\\n",
       "0  iv.auto_causality.models.SimpleIV          0.125123  43.229002   \n",
       "1             iv.econml.iv.dml.DMLIV          0.031996  44.462276   \n",
       "2           iv.econml.iv.dml.OrthoIV          0.017911  44.650307   \n",
       "3  iv.econml.iv.dr.IntentToTreatDRIV          0.024849  44.557638   \n",
       "4         iv.econml.iv.dr.LinearDRIV          0.012671  44.720370   \n",
       "\n",
       "   energy_distance  \n",
       "0         0.208813  \n",
       "1         0.130863  \n",
       "2         0.199842  \n",
       "3         0.011017  \n",
       "4         0.148137  "
      ]
     },
     "execution_count": 117,
     "metadata": {},
     "output_type": "execute_result"
    }
   ],
   "source": [
    "get_est_effects(ac_linear_te, df_test[features_X[:2]])"
   ]
  },
  {
   "cell_type": "code",
   "execution_count": 126,
   "metadata": {},
   "outputs": [
    {
     "ename": "AttributeError",
     "evalue": "'Econml' object has no attribute 'effect_interval'",
     "output_type": "error",
     "traceback": [
      "\u001b[0;31m---------------------------------------------------------------------------\u001b[0m",
      "\u001b[0;31mAttributeError\u001b[0m                            Traceback (most recent call last)",
      "Cell \u001b[0;32mIn [126], line 1\u001b[0m\n\u001b[0;32m----> 1\u001b[0m \u001b[43mac_linear_te\u001b[49m\u001b[38;5;241;43m.\u001b[39;49m\u001b[43mscores\u001b[49m\u001b[43m[\u001b[49m\u001b[38;5;124;43m'\u001b[39;49m\u001b[38;5;124;43miv.econml.iv.dml.DMLIV\u001b[39;49m\u001b[38;5;124;43m'\u001b[39;49m\u001b[43m]\u001b[49m\u001b[43m[\u001b[49m\u001b[38;5;124;43m'\u001b[39;49m\u001b[38;5;124;43mestimator\u001b[39;49m\u001b[38;5;124;43m'\u001b[39;49m\u001b[43m]\u001b[49m\u001b[38;5;241;43m.\u001b[39;49m\u001b[43mestimator\u001b[49m\u001b[38;5;241;43m.\u001b[39;49m\u001b[43meffect_interval\u001b[49m(\u001b[38;5;28;01mNone\u001b[39;00m)\n",
      "\u001b[0;31mAttributeError\u001b[0m: 'Econml' object has no attribute 'effect_interval'"
     ]
    }
   ],
   "source": [
    "ac_linear_te.scores['iv.econml.iv.dml.DMLIV']['estimator'].estimator.effect_interval(None)"
   ]
  },
  {
   "cell_type": "code",
   "execution_count": 147,
   "metadata": {},
   "outputs": [
    {
     "data": {
      "text/plain": [
       "['iv.auto_causality.models.SimpleIV',\n",
       " 'iv.econml.iv.dml.DMLIV',\n",
       " 'iv.econml.iv.dml.OrthoIV',\n",
       " 'iv.econml.iv.dr.ForestDRIV',\n",
       " 'iv.econml.iv.dr.IntentToTreatDRIV',\n",
       " 'iv.econml.iv.dr.LinearDRIV',\n",
       " 'iv.econml.iv.dr.LinearIntentToTreatDRIV',\n",
       " 'iv.econml.iv.dr.SparseLinearDRIV']"
      ]
     },
     "execution_count": 147,
     "metadata": {},
     "output_type": "execute_result"
    }
   ],
   "source": [
    "ac_linear_te.estimator_list"
   ]
  },
  {
   "cell_type": "code",
   "execution_count": 155,
   "metadata": {},
   "outputs": [
    {
     "ename": "IndexError",
     "evalue": "index 2 is out of bounds for axis 0 with size 2",
     "output_type": "error",
     "traceback": [
      "\u001b[0;31m---------------------------------------------------------------------------\u001b[0m",
      "\u001b[0;31mIndexError\u001b[0m                                Traceback (most recent call last)",
      "Cell \u001b[0;32mIn [155], line 18\u001b[0m\n\u001b[1;32m     15\u001b[0m te_pred1 \u001b[38;5;241m=\u001b[39m estimator\u001b[38;5;241m.\u001b[39mestimator\u001b[38;5;241m.\u001b[39meffect(X_test)\n\u001b[1;32m     17\u001b[0m xval \u001b[38;5;241m=\u001b[39m ((X_test\u001b[38;5;241m.\u001b[39mvalues[:, \u001b[38;5;241m0\u001b[39m] \u001b[38;5;241m*\u001b[39m\u001b[38;5;241m*\u001b[39m \u001b[38;5;241m2\u001b[39m) \u001b[38;5;241m*\u001b[39m X_test\u001b[38;5;241m.\u001b[39mvalues[:, \u001b[38;5;241m1\u001b[39m])\n\u001b[0;32m---> 18\u001b[0m \u001b[43max\u001b[49m\u001b[43m[\u001b[49m\u001b[43mi\u001b[49m\u001b[43m]\u001b[49m[j]\u001b[38;5;241m.\u001b[39mscatter(xval, te_pred1, label\u001b[38;5;241m=\u001b[39m\u001b[38;5;124m\"\u001b[39m\u001b[38;5;124mPredicted\u001b[39m\u001b[38;5;124m\"\u001b[39m, alpha\u001b[38;5;241m=\u001b[39m\u001b[38;5;241m0.6\u001b[39m)\n\u001b[1;32m     19\u001b[0m ax[i][j]\u001b[38;5;241m.\u001b[39mplot(xval, LINEAR_EFFECT_Z(X_test), \u001b[38;5;124m\"\u001b[39m\u001b[38;5;124mb--\u001b[39m\u001b[38;5;124m\"\u001b[39m, label\u001b[38;5;241m=\u001b[39m\u001b[38;5;124m\"\u001b[39m\u001b[38;5;124mTrue effect\u001b[39m\u001b[38;5;124m\"\u001b[39m)\n\u001b[1;32m     20\u001b[0m ax[i][j]\u001b[38;5;241m.\u001b[39mset_xlabel(\u001b[38;5;124m\"\u001b[39m\u001b[38;5;124mX[0]ˆ2 * X[1]\u001b[39m\u001b[38;5;124m\"\u001b[39m)\n",
      "\u001b[0;31mIndexError\u001b[0m: index 2 is out of bounds for axis 0 with size 2"
     ]
    },
    {
     "data": {
      "image/png": "[encoded data removed]",
      "text/plain": [
       "<Figure size 1500x1000 with 4 Axes>"
      ]
     },
     "metadata": {},
     "output_type": "display_data"
    }
   ],
   "source": [
    "%matplotlib inline\n",
    "\n",
    "LINEAR_EFFECT_Z = lambda X: TRUE_EFFECT  * ((X.values[:, 0] ** 2) * X.values[:, 1])\n",
    "excl = [\n",
    "    'iv.econml.iv.dr.ForestDRIV', \n",
    "    'iv.econml.iv.dr.LinearIntentToTreatDRIV',\n",
    "    'iv.econml.iv.dr.SparseLinearDRIV'\n",
    "]\n",
    "fig, ax = plt.subplots(2, 2, figsize=(15, 10))\n",
    "i, j = 0, 0\n",
    "for est in ac_linear_te.estimator_list:\n",
    "    if est not in excl:\n",
    "        X_test = df_test[features_X[:2]]\n",
    "        estimator = ac_linear_te.scores[est]['estimator']\n",
    "        te_pred1 = estimator.estimator.effect(X_test)\n",
    "\n",
    "        xval = ((X_test.values[:, 0] ** 2) * X_test.values[:, 1])\n",
    "        ax[i][j].scatter(xval, te_pred1, label=\"Estimated effect\", alpha=0.6)\n",
    "        ax[i][j].plot(xval, LINEAR_EFFECT_Z(X_test), \"b--\", label=\"True effect\")\n",
    "        ax[i][j].set_xlabel(\"X[0]ˆ2 * X[1]\")\n",
    "        ax[i][j].set_ylabel(\"Treatment Effect\")\n",
    "        ax[i][j].set_title(est)\n",
    "        ax[i][j].legend()\n",
    "\n",
    "        j = (j+1) % 2\n",
    "        if j == 0:\n",
    "            i += 1\n",
    "\n",
    "plt.show()"
   ]
  },
  {
   "cell_type": "code",
   "execution_count": 128,
   "metadata": {},
   "outputs": [
    {
     "name": "stdout",
     "output_type": "stream",
     "text": [
      "*** Causal Estimate ***\n",
      "\n",
      "## Identified estimand\n",
      "Estimand type: nonparametric-ate\n",
      "\n",
      "### Estimand : 1\n",
      "Estimand name: iv\n",
      "Estimand expression:\n",
      " ⎡                           -1⎤\n",
      " ⎢ d      ⎛ d               ⎞  ⎥\n",
      "E⎢────(y)⋅⎜────([treatment])⎟  ⎥\n",
      " ⎣d[Z]    ⎝d[Z]             ⎠  ⎦\n",
      "Estimand assumption 1, As-if-random: If U→→y then ¬(U →→{Z})\n",
      "Estimand assumption 2, Exclusion: If we remove {Z}→{treatment}, then ¬({Z}→y)\n",
      "\n",
      "## Realized estimand\n",
      "b: y~treatment+x3+x8+x10+x7+x12+x14+x13+x9+x4+x6+x5+x15+x11 | x1,x2\n",
      "Target units: ate\n",
      "\n",
      "## Estimate\n",
      "Mean value: -0.004855545825924427\n",
      "Effect estimates: [-0.21967612  0.77514718 -4.90476635 ...  0.56938301  4.68878718\n",
      "  2.44591372]\n",
      "\n"
     ]
    },
    {
     "data": {
      "image/png": "[encoded data removed]",
      "text/plain": [
       "<Figure size 640x480 with 1 Axes>"
      ]
     },
     "metadata": {},
     "output_type": "display_data"
    }
   ],
   "source": [
    "%matplotlib inline\n",
    "\n",
    "LINEAR_EFFECT_Z = lambda X: TRUE_EFFECT  * ((X.values[:, 0] ** 2) * X.values[:, 1])\n",
    "\n",
    "for est, est_name in zip(\n",
    "        [ac_linear_te.scores['iv.econml.iv.dml.OrthoIV']['estimator']],\n",
    "        [\"OrthoIV\"],\n",
    "    ):\n",
    "    X_test = df_test[features_X[:2]]\n",
    "    te_pred1 = est.estimator.effect(X_test)\n",
    "    # te_pred1_lb, te_pred1_ub = est.estimator.effect_interval(X_test, alpha=0.05)\n",
    "\n",
    "    xval = ((X_test.values[:, 0] ** 2) * X_test.values[:, 1])\n",
    "    plt.scatter(xval, te_pred1, label=est_name, alpha=0.6)\n",
    "    # plt.fill_between(xval, te_pred1_lb, te_pred1_ub, alpha=0.4)\n",
    "    plt.plot(xval, LINEAR_EFFECT_Z(X_test), \"b--\", label=\"True effect\")\n",
    "    # plt.scatter(xval, LINEAR_EFFECT_Z(X_test), label=\"True effect\")\n",
    "    plt.xlabel(\"X[0]ˆ2 * X[1]\")\n",
    "    plt.ylabel(\"Treatment Effect\")\n",
    "    plt.legend()\n",
    "    plt.show()"
   ]
  },
  {
   "cell_type": "code",
   "execution_count": 146,
   "metadata": {},
   "outputs": [
    {
     "data": {
      "text/plain": [
       "[Text(0.5, 0, 'MSE(TRUE_CATE, PRED_CATE)'), Text(0, 0.5, 'ENERGY_DISTANCE')]"
      ]
     },
     "execution_count": 146,
     "metadata": {},
     "output_type": "execute_result"
    },
    {
     "data": {
      "image/png": "[encoded data removed]",
      "text/plain": [
       "<Figure size 640x480 with 1 Axes>"
      ]
     },
     "metadata": {},
     "output_type": "display_data"
    }
   ],
   "source": [
    "import seaborn as sns\n",
    "\n",
    "df_stats = pd.DataFrame(stats, columns=[\"estimator\", \"mse\", \"energy_distance\"])\n",
    "g = sns.scatterplot(\n",
    "    df_stats,\n",
    "    x=\"mse\",\n",
    "    y=\"energy_distance\",\n",
    "    hue=\"estimator\"\n",
    ")\n",
    "g.set(xlabel=\"MSE(TRUE_CATE, PRED_CATE)\", ylabel=\"ENERGY_DISTANCE\")"
   ]
  },
  {
   "cell_type": "code",
   "execution_count": 64,
   "metadata": {},
   "outputs": [
    {
     "data": {
      "text/html": [
       "<div>\n",
       "<style scoped>\n",
       "    .dataframe tbody tr th:only-of-type {\n",
       "        vertical-align: middle;\n",
       "    }\n",
       "\n",
       "    .dataframe tbody tr th {\n",
       "        vertical-align: top;\n",
       "    }\n",
       "\n",
       "    .dataframe thead th {\n",
       "        text-align: right;\n",
       "    }\n",
       "</style>\n",
       "<table border=\"1\" class=\"dataframe\">\n",
       "  <thead>\n",
       "    <tr style=\"text-align: right;\">\n",
       "      <th></th>\n",
       "      <th>estimator</th>\n",
       "      <th>estimated_effect</th>\n",
       "      <th>ate_mse</th>\n",
       "      <th>energy_distance</th>\n",
       "    </tr>\n",
       "  </thead>\n",
       "  <tbody>\n",
       "    <tr>\n",
       "      <th>0</th>\n",
       "      <td>iv.auto_causality.models.SimpleIV</td>\n",
       "      <td>0.125123</td>\n",
       "      <td>43.229002</td>\n",
       "      <td>0.208813</td>\n",
       "    </tr>\n",
       "    <tr>\n",
       "      <th>1</th>\n",
       "      <td>iv.econml.iv.dml.DMLIV</td>\n",
       "      <td>-0.017493</td>\n",
       "      <td>45.124719</td>\n",
       "      <td>0.130863</td>\n",
       "    </tr>\n",
       "    <tr>\n",
       "      <th>2</th>\n",
       "      <td>iv.econml.iv.dml.OrthoIV</td>\n",
       "      <td>-0.086598</td>\n",
       "      <td>46.057914</td>\n",
       "      <td>0.199842</td>\n",
       "    </tr>\n",
       "    <tr>\n",
       "      <th>3</th>\n",
       "      <td>iv.econml.iv.dr.IntentToTreatDRIV</td>\n",
       "      <td>-0.026285</td>\n",
       "      <td>45.242911</td>\n",
       "      <td>0.011017</td>\n",
       "    </tr>\n",
       "    <tr>\n",
       "      <th>4</th>\n",
       "      <td>iv.econml.iv.dr.LinearDRIV</td>\n",
       "      <td>-0.065063</td>\n",
       "      <td>45.766084</td>\n",
       "      <td>0.148137</td>\n",
       "    </tr>\n",
       "  </tbody>\n",
       "</table>\n",
       "</div>"
      ],
      "text/plain": [
       "                           estimator  estimated_effect    ate_mse  \\\n",
       "0  iv.auto_causality.models.SimpleIV          0.125123  43.229002   \n",
       "1             iv.econml.iv.dml.DMLIV         -0.017493  45.124719   \n",
       "2           iv.econml.iv.dml.OrthoIV         -0.086598  46.057914   \n",
       "3  iv.econml.iv.dr.IntentToTreatDRIV         -0.026285  45.242911   \n",
       "4         iv.econml.iv.dr.LinearDRIV         -0.065063  45.766084   \n",
       "\n",
       "   energy_distance  \n",
       "0         0.208813  \n",
       "1         0.130863  \n",
       "2         0.199842  \n",
       "3         0.011017  \n",
       "4         0.148137  "
      ]
     },
     "execution_count": 64,
     "metadata": {},
     "output_type": "execute_result"
    }
   ],
   "source": [
    "Xtest = test_df[features_X[:2]]\n",
    "get_est_effects(ac_linear_te, Xtest)"
   ]
  },
  {
   "cell_type": "code",
   "execution_count": 60,
   "metadata": {
    "collapsed": false,
    "pycharm": {
     "name": "#%%\n"
    }
   },
   "outputs": [
    {
     "ename": "KeyError",
     "evalue": "'test'",
     "output_type": "error",
     "traceback": [
      "\u001b[0;31m---------------------------------------------------------------------------\u001b[0m",
      "\u001b[0;31mKeyError\u001b[0m                                  Traceback (most recent call last)",
      "Cell \u001b[0;32mIn [60], line 2\u001b[0m\n\u001b[1;32m      1\u001b[0m score_all_test(ac_linear_te, df_test)\n\u001b[0;32m----> 2\u001b[0m \u001b[43mget_est_effects\u001b[49m\u001b[43m(\u001b[49m\u001b[43mac_linear_te\u001b[49m\u001b[43m,\u001b[49m\u001b[43m \u001b[49m\u001b[43mXtest\u001b[49m\u001b[43m)\u001b[49m\n\u001b[1;32m      3\u001b[0m graph_compare_estimators(ac_linear_te)\n",
      "Cell \u001b[0;32mIn [58], line 5\u001b[0m, in \u001b[0;36mget_est_effects\u001b[0;34m(models, test_x, te)\u001b[0m\n\u001b[1;32m      3\u001b[0m \u001b[38;5;28;01mfor\u001b[39;00m est_name, scr \u001b[38;5;129;01min\u001b[39;00m models\u001b[38;5;241m.\u001b[39mscores\u001b[38;5;241m.\u001b[39mitems():\n\u001b[1;32m      4\u001b[0m     est_effect \u001b[38;5;241m=\u001b[39m scr[\u001b[38;5;124m\"\u001b[39m\u001b[38;5;124mestimator\u001b[39m\u001b[38;5;124m\"\u001b[39m]\u001b[38;5;241m.\u001b[39mestimator\u001b[38;5;241m.\u001b[39meffect(test_x)\u001b[38;5;241m.\u001b[39mmean()\n\u001b[0;32m----> 5\u001b[0m     energy_distance \u001b[38;5;241m=\u001b[39m \u001b[43mscr\u001b[49m\u001b[43m[\u001b[49m\u001b[38;5;124;43m\"\u001b[39;49m\u001b[38;5;124;43mtest\u001b[39;49m\u001b[38;5;124;43m\"\u001b[39;49m\u001b[43m]\u001b[49m[\u001b[38;5;124m\"\u001b[39m\u001b[38;5;124menergy_distance\u001b[39m\u001b[38;5;124m\"\u001b[39m]\n\u001b[1;32m      6\u001b[0m     est_scores\u001b[38;5;241m.\u001b[39mappend([est_name, est_effect, (est_effect\u001b[38;5;241m-\u001b[39mte)\u001b[38;5;241m*\u001b[39m\u001b[38;5;241m*\u001b[39m\u001b[38;5;241m2\u001b[39m, energy_distance])\n\u001b[1;32m      8\u001b[0m \u001b[38;5;28;01mreturn\u001b[39;00m pd\u001b[38;5;241m.\u001b[39mDataFrame(est_scores, columns\u001b[38;5;241m=\u001b[39m[\u001b[38;5;124m\"\u001b[39m\u001b[38;5;124mestimator\u001b[39m\u001b[38;5;124m\"\u001b[39m, \u001b[38;5;124m\"\u001b[39m\u001b[38;5;124mestimated_effect\u001b[39m\u001b[38;5;124m\"\u001b[39m, \u001b[38;5;124m\"\u001b[39m\u001b[38;5;124mate_mse\u001b[39m\u001b[38;5;124m\"\u001b[39m, \u001b[38;5;124m\"\u001b[39m\u001b[38;5;124menergy_distance\u001b[39m\u001b[38;5;124m\"\u001b[39m])\n",
      "\u001b[0;31mKeyError\u001b[0m: 'test'"
     ]
    }
   ],
   "source": [
    "score_all_test(ac_linear_te, df_test)\n",
    "get_est_effects(ac_linear_te, Xtest)\n",
    "graph_compare_estimators(ac_linear_te)"
   ]
  },
  {
   "cell_type": "code",
   "execution_count": 66,
   "metadata": {},
   "outputs": [
    {
     "ename": "AttributeError",
     "evalue": "Can't pickle local object 'AutoCausality.fit.<locals>.<lambda>'",
     "output_type": "error",
     "traceback": [
      "\u001b[0;31m---------------------------------------------------------------------------\u001b[0m",
      "\u001b[0;31mAttributeError\u001b[0m                            Traceback (most recent call last)",
      "Cell \u001b[0;32mIn [66], line 4\u001b[0m\n\u001b[1;32m      1\u001b[0m \u001b[38;5;28;01mimport\u001b[39;00m \u001b[38;5;21;01mpickle\u001b[39;00m\n\u001b[1;32m      3\u001b[0m \u001b[38;5;28;01mwith\u001b[39;00m \u001b[38;5;28mopen\u001b[39m(\u001b[38;5;124m\"\u001b[39m\u001b[38;5;124m8h_80K.pkl\u001b[39m\u001b[38;5;124m\"\u001b[39m, \u001b[38;5;124m\"\u001b[39m\u001b[38;5;124mwb\u001b[39m\u001b[38;5;124m\"\u001b[39m) \u001b[38;5;28;01mas\u001b[39;00m f:\n\u001b[0;32m----> 4\u001b[0m     \u001b[43mpickle\u001b[49m\u001b[38;5;241;43m.\u001b[39;49m\u001b[43mdump\u001b[49m\u001b[43m(\u001b[49m\u001b[43mac_linear_te\u001b[49m\u001b[43m,\u001b[49m\u001b[43m \u001b[49m\u001b[43mf\u001b[49m\u001b[43m)\u001b[49m\n",
      "\u001b[0;31mAttributeError\u001b[0m: Can't pickle local object 'AutoCausality.fit.<locals>.<lambda>'"
     ]
    }
   ],
   "source": [
    "import pickle\n",
    "\n",
    "with open(\"8h_80K.pkl\", \"wb\") as f:\n",
    "    pickle.dump(ac_linear_te, f)"
   ]
  },
  {
   "cell_type": "markdown",
   "metadata": {
    "collapsed": false,
    "pycharm": {
     "name": "#%% md\n"
    }
   },
   "source": [
    "### Model Fitting (3): Non-linear Heterogeneous Treatment Effect\n",
    "\n",
    "Finally we explore non-linear heterogeneous treatment effects with the function below:\n",
    "\n",
    "\\begin{align}\n",
    "\\theta = \\; & 7.5  \\cdot   (X[2] + X[7]) \\tag{ATE}\\\\\n",
    "\\end{align}\n"
   ]
  },
  {
   "cell_type": "code",
   "execution_count": 30,
   "metadata": {
    "collapsed": false,
    "pycharm": {
     "name": "#%%\n"
    }
   },
   "outputs": [
    {
     "data": {
      "text/html": [
       "<div>\n",
       "<style scoped>\n",
       "    .dataframe tbody tr th:only-of-type {\n",
       "        vertical-align: middle;\n",
       "    }\n",
       "\n",
       "    .dataframe tbody tr th {\n",
       "        vertical-align: top;\n",
       "    }\n",
       "\n",
       "    .dataframe thead th {\n",
       "        text-align: right;\n",
       "    }\n",
       "</style>\n",
       "<table border=\"1\" class=\"dataframe\">\n",
       "  <thead>\n",
       "    <tr style=\"text-align: right;\">\n",
       "      <th></th>\n",
       "      <th>treatment</th>\n",
       "      <th>y</th>\n",
       "      <th>Z</th>\n",
       "      <th>x1</th>\n",
       "      <th>x2</th>\n",
       "      <th>x3</th>\n",
       "      <th>x4</th>\n",
       "      <th>x5</th>\n",
       "      <th>x6</th>\n",
       "      <th>x7</th>\n",
       "      <th>x8</th>\n",
       "      <th>x9</th>\n",
       "      <th>x10</th>\n",
       "      <th>x11</th>\n",
       "      <th>x12</th>\n",
       "      <th>x13</th>\n",
       "      <th>x14</th>\n",
       "      <th>x15</th>\n",
       "      <th>random</th>\n",
       "    </tr>\n",
       "  </thead>\n",
       "  <tbody>\n",
       "    <tr>\n",
       "      <th>1749</th>\n",
       "      <td>0.0</td>\n",
       "      <td>7.962746</td>\n",
       "      <td>0.0</td>\n",
       "      <td>-0.930624</td>\n",
       "      <td>1.162991</td>\n",
       "      <td>0.729456</td>\n",
       "      <td>-0.273677</td>\n",
       "      <td>0.689983</td>\n",
       "      <td>-0.542694</td>\n",
       "      <td>0.342018</td>\n",
       "      <td>-0.986162</td>\n",
       "      <td>0.334147</td>\n",
       "      <td>-0.522664</td>\n",
       "      <td>-0.760399</td>\n",
       "      <td>-0.696916</td>\n",
       "      <td>-0.250714</td>\n",
       "      <td>-0.925333</td>\n",
       "      <td>-0.308684</td>\n",
       "      <td>0.0</td>\n",
       "    </tr>\n",
       "    <tr>\n",
       "      <th>8753</th>\n",
       "      <td>0.0</td>\n",
       "      <td>7.466413</td>\n",
       "      <td>1.0</td>\n",
       "      <td>0.098788</td>\n",
       "      <td>0.561751</td>\n",
       "      <td>1.067532</td>\n",
       "      <td>-0.954808</td>\n",
       "      <td>0.157062</td>\n",
       "      <td>-1.942514</td>\n",
       "      <td>-1.290649</td>\n",
       "      <td>-1.146356</td>\n",
       "      <td>-0.172148</td>\n",
       "      <td>0.545423</td>\n",
       "      <td>-0.239812</td>\n",
       "      <td>-0.914031</td>\n",
       "      <td>-0.801335</td>\n",
       "      <td>2.295311</td>\n",
       "      <td>-2.074314</td>\n",
       "      <td>1.0</td>\n",
       "    </tr>\n",
       "    <tr>\n",
       "      <th>2376</th>\n",
       "      <td>0.0</td>\n",
       "      <td>3.807416</td>\n",
       "      <td>0.0</td>\n",
       "      <td>1.211798</td>\n",
       "      <td>0.320737</td>\n",
       "      <td>0.285181</td>\n",
       "      <td>-0.475356</td>\n",
       "      <td>1.627070</td>\n",
       "      <td>-0.820177</td>\n",
       "      <td>0.193067</td>\n",
       "      <td>-0.743845</td>\n",
       "      <td>0.394570</td>\n",
       "      <td>0.736218</td>\n",
       "      <td>0.934503</td>\n",
       "      <td>1.313644</td>\n",
       "      <td>1.574028</td>\n",
       "      <td>-1.220983</td>\n",
       "      <td>-0.814131</td>\n",
       "      <td>1.0</td>\n",
       "    </tr>\n",
       "    <tr>\n",
       "      <th>5866</th>\n",
       "      <td>0.0</td>\n",
       "      <td>12.620029</td>\n",
       "      <td>0.0</td>\n",
       "      <td>1.142354</td>\n",
       "      <td>0.262738</td>\n",
       "      <td>0.939899</td>\n",
       "      <td>0.564811</td>\n",
       "      <td>0.365819</td>\n",
       "      <td>0.764096</td>\n",
       "      <td>-1.760255</td>\n",
       "      <td>-0.410142</td>\n",
       "      <td>1.154539</td>\n",
       "      <td>-0.685998</td>\n",
       "      <td>0.255347</td>\n",
       "      <td>0.375952</td>\n",
       "      <td>-0.738155</td>\n",
       "      <td>-0.735688</td>\n",
       "      <td>0.734578</td>\n",
       "      <td>0.0</td>\n",
       "    </tr>\n",
       "    <tr>\n",
       "      <th>7097</th>\n",
       "      <td>0.0</td>\n",
       "      <td>13.829594</td>\n",
       "      <td>0.0</td>\n",
       "      <td>0.037404</td>\n",
       "      <td>-0.237903</td>\n",
       "      <td>-0.971907</td>\n",
       "      <td>1.921247</td>\n",
       "      <td>-1.191215</td>\n",
       "      <td>-0.365760</td>\n",
       "      <td>0.824570</td>\n",
       "      <td>-0.665056</td>\n",
       "      <td>0.294414</td>\n",
       "      <td>-0.598442</td>\n",
       "      <td>-1.346559</td>\n",
       "      <td>-0.393804</td>\n",
       "      <td>0.444747</td>\n",
       "      <td>-0.322192</td>\n",
       "      <td>1.439316</td>\n",
       "      <td>1.0</td>\n",
       "    </tr>\n",
       "  </tbody>\n",
       "</table>\n",
       "</div>"
      ],
      "text/plain": [
       "      treatment          y    Z        x1        x2        x3        x4  \\\n",
       "1749        0.0   7.962746  0.0 -0.930624  1.162991  0.729456 -0.273677   \n",
       "8753        0.0   7.466413  1.0  0.098788  0.561751  1.067532 -0.954808   \n",
       "2376        0.0   3.807416  0.0  1.211798  0.320737  0.285181 -0.475356   \n",
       "5866        0.0  12.620029  0.0  1.142354  0.262738  0.939899  0.564811   \n",
       "7097        0.0  13.829594  0.0  0.037404 -0.237903 -0.971907  1.921247   \n",
       "\n",
       "            x5        x6        x7        x8        x9       x10       x11  \\\n",
       "1749  0.689983 -0.542694  0.342018 -0.986162  0.334147 -0.522664 -0.760399   \n",
       "8753  0.157062 -1.942514 -1.290649 -1.146356 -0.172148  0.545423 -0.239812   \n",
       "2376  1.627070 -0.820177  0.193067 -0.743845  0.394570  0.736218  0.934503   \n",
       "5866  0.365819  0.764096 -1.760255 -0.410142  1.154539 -0.685998  0.255347   \n",
       "7097 -1.191215 -0.365760  0.824570 -0.665056  0.294414 -0.598442 -1.346559   \n",
       "\n",
       "           x12       x13       x14       x15  random  \n",
       "1749 -0.696916 -0.250714 -0.925333 -0.308684     0.0  \n",
       "8753 -0.914031 -0.801335  2.295311 -2.074314     1.0  \n",
       "2376  1.313644  1.574028 -1.220983 -0.814131     1.0  \n",
       "5866  0.375952 -0.738155 -0.735688  0.734578     0.0  \n",
       "7097 -0.393804  0.444747 -0.322192  1.439316     1.0  "
      ]
     },
     "execution_count": 30,
     "metadata": {},
     "output_type": "execute_result"
    }
   ],
   "source": [
    "QUADRATIC_EFFECT = lambda X: TRUE_EFFECT * (X[:, 2] ** 2) * (X[:, 7] ** 3) \n",
    "\n",
    "data = iv_dgp_econml(n=10000, p=15, true_effect=QUADRATIC_EFFECT)\n",
    "data_df, features_X, features_W = preprocess_dataset(\n",
    "    data, treatment, targets, instruments\n",
    ")\n",
    "outcome = targets[0]\n",
    "train_df, test_df = train_test_split(data_df, test_size=0.3)\n",
    "Xtest = test_df[features_X]\n",
    "train_df.head()"
   ]
  },
  {
   "cell_type": "code",
   "execution_count": 31,
   "metadata": {
    "collapsed": false,
    "pycharm": {
     "name": "#%%\n"
    }
   },
   "outputs": [
    {
     "name": "stdout",
     "output_type": "stream",
     "text": [
      "Fitting a Propensity-Weighted scoring estimator to be used in scoring tasks\n"
     ]
    },
    {
     "name": "stderr",
     "output_type": "stream",
     "text": [
      "[flaml.tune.tune: 09-20 22:45:29] {375} WARNING - Using CFO for search. To use BlendSearch, run: pip install flaml[blendsearch]\n",
      "[flaml.tune.tune: 09-20 22:45:29] {506} INFO - trial 1 config: {'estimator': {'estimator_name': 'iv.auto_causality.models.SimpleIV'}}\n"
     ]
    },
    {
     "name": "stdout",
     "output_type": "stream",
     "text": [
      "Initial configs: [{'estimator': {'estimator_name': 'iv.auto_causality.models.SimpleIV'}}, {'estimator': {'estimator_name': 'iv.econml.iv.dr.LinearDRIV', 'projection': True}}, {'estimator': {'estimator_name': 'iv.econml.iv.dml.OrthoIV', 'mc_agg': 'mean'}}, {'estimator': {'estimator_name': 'iv.econml.iv.dml.DMLIV', 'mc_agg': 'mean'}}, {'estimator': {'estimator_name': 'iv.econml.iv.dr.IntentToTreatDRIV', 'opt_reweighted': 0, 'cov_clip': 0.1, 'prel_opt_reweighted': 1, 'prel_cate_approach': 'driv'}}, {'estimator': {'estimator_name': 'iv.econml.iv.dr.SparseLinearDRIV', 'projection': 0, 'opt_reweighted': 0, 'cov_clip': 0.1}}, {'estimator': {'estimator_name': 'iv.econml.iv.dr.ForestDRIV', 'projection': 0, 'opt_reweighted': 0, 'cov_clip': 0.1, 'min_samples_split': 2}}, {'estimator': {'estimator_name': 'iv.econml.iv.dr.LinearIntentToTreatDRIV', 'cov_clip': 0.1, 'opt_reweighted': 1}}]\n"
     ]
    },
    {
     "name": "stderr",
     "output_type": "stream",
     "text": [
      "RuntimeError: module compiled against API version 0xf but this version of numpy is 0xe\n",
      "OMP: Info #276: omp_set_nested routine deprecated, please use omp_set_max_active_levels instead.\n",
      "Criterion 'mse' was deprecated in v1.0 and will be removed in version 1.2. Use `criterion='squared_error'` which is equivalent.\n",
      "Criterion 'mse' was deprecated in v1.0 and will be removed in version 1.2. Use `criterion='squared_error'` which is equivalent.\n",
      "[flaml.tune.tune: 09-20 22:45:33] {118} INFO - result: {'energy_distance': 0.5016108513784632, 'estimator_name': 'iv.auto_causality.models.SimpleIV', 'scores': {'train': {'intrp': <econml.cate_interpreter._interpreters.SingleTreeCateInterpreter object at 0x1665569d0>, 'ate': -1.8753958940505981, 'ate_std': 0.0, 'energy_distance': 0.4150975522394269}, 'validation': {'intrp': <econml.cate_interpreter._interpreters.SingleTreeCateInterpreter object at 0x166556b20>, 'ate': -1.8753958940505981, 'ate_std': 0.0, 'energy_distance': 0.5016108513784632}}, 'config': {'estimator': {'estimator_name': 'iv.auto_causality.models.SimpleIV'}}, 'training_iteration': 0, 'config/estimator': {'estimator_name': 'iv.auto_causality.models.SimpleIV'}, 'experiment_tag': 'exp', 'time_total_s': 3.217961072921753}\n",
      "[flaml.tune.tune: 09-20 22:45:33] {506} INFO - trial 2 config: {'estimator': {'estimator_name': 'iv.econml.iv.dr.LinearDRIV', 'projection': 1}}\n",
      "RuntimeError: module compiled against API version 0xf but this version of numpy is 0xe\n",
      "OMP: Info #276: omp_set_nested routine deprecated, please use omp_set_max_active_levels instead.\n",
      "'normalize' was deprecated in version 1.0 and will be removed in 1.2. Please leave the normalize parameter to its default value to silence this warning. The default behavior of this estimator is to not do any normalization. If normalization is needed please use sklearn.preprocessing.StandardScaler instead.\n",
      "'normalize' was deprecated in version 1.0 and will be removed in 1.2. Please leave the normalize parameter to its default value to silence this warning. The default behavior of this estimator is to not do any normalization. If normalization is needed please use sklearn.preprocessing.StandardScaler instead.\n",
      "'normalize' was deprecated in version 1.0 and will be removed in 1.2. Please leave the normalize parameter to its default value to silence this warning. The default behavior of this estimator is to not do any normalization. If normalization is needed please use sklearn.preprocessing.StandardScaler instead.\n",
      "'normalize' was deprecated in version 1.0 and will be removed in 1.2. Please leave the normalize parameter to its default value to silence this warning. The default behavior of this estimator is to not do any normalization. If normalization is needed please use sklearn.preprocessing.StandardScaler instead.\n",
      "[flaml.automl: 09-20 22:48:35] {2648} WARNING - Time taken to find the best model is 78% of the provided time budget and not all estimators' hyperparameter search converged. Consider increasing the time budget.\n",
      "'normalize' was deprecated in version 1.0 and will be removed in 1.2. Please leave the normalize parameter to its default value to silence this warning. The default behavior of this estimator is to not do any normalization. If normalization is needed please use sklearn.preprocessing.StandardScaler instead.\n",
      "'normalize' was deprecated in version 1.0 and will be removed in 1.2. Please leave the normalize parameter to its default value to silence this warning. The default behavior of this estimator is to not do any normalization. If normalization is needed please use sklearn.preprocessing.StandardScaler instead.\n",
      "'normalize' was deprecated in version 1.0 and will be removed in 1.2. Please leave the normalize parameter to its default value to silence this warning. The default behavior of this estimator is to not do any normalization. If normalization is needed please use sklearn.preprocessing.StandardScaler instead.\n",
      "'normalize' was deprecated in version 1.0 and will be removed in 1.2. Please leave the normalize parameter to its default value to silence this warning. The default behavior of this estimator is to not do any normalization. If normalization is needed please use sklearn.preprocessing.StandardScaler instead.\n",
      "Criterion 'mse' was deprecated in v1.0 and will be removed in version 1.2. Use `criterion='squared_error'` which is equivalent.\n",
      "Criterion 'mse' was deprecated in v1.0 and will be removed in version 1.2. Use `criterion='squared_error'` which is equivalent.\n",
      "[flaml.tune.tune: 09-20 22:49:35] {118} INFO - result: {'energy_distance': 0.6138058620651119, 'estimator_name': 'iv.econml.iv.dr.LinearDRIV', 'scores': {'train': {'intrp': <econml.cate_interpreter._interpreters.SingleTreeCateInterpreter object at 0x1656e7790>, 'ate': -0.10579273917598365, 'ate_std': 12.725515230977695, 'energy_distance': 0.5449777414462789}, 'validation': {'intrp': <econml.cate_interpreter._interpreters.SingleTreeCateInterpreter object at 0x1656e7b20>, 'ate': -0.21253026957793786, 'ate_std': 12.450351290106363, 'energy_distance': 0.6138058620651119}}, 'config': {'estimator': {'estimator_name': 'iv.econml.iv.dr.LinearDRIV', 'projection': 1}}, 'training_iteration': 0, 'config/estimator': {'estimator_name': 'iv.econml.iv.dr.LinearDRIV', 'projection': 1}, 'experiment_tag': 'exp', 'time_total_s': 242.5850429534912}\n",
      "[flaml.tune.tune: 09-20 22:49:35] {506} INFO - trial 3 config: {'estimator': {'estimator_name': 'iv.econml.iv.dml.OrthoIV', 'mc_agg': 'mean'}}\n",
      "'normalize' was deprecated in version 1.0 and will be removed in 1.2. Please leave the normalize parameter to its default value to silence this warning. The default behavior of this estimator is to not do any normalization. If normalization is needed please use sklearn.preprocessing.StandardScaler instead.\n",
      "A column-vector y was passed when a 1d array was expected. Please change the shape of y to (n_samples, ), for example using ravel().\n",
      "[flaml.automl: 09-20 22:51:05] {2648} WARNING - Time taken to find the best model is 82% of the provided time budget and not all estimators' hyperparameter search converged. Consider increasing the time budget.\n",
      "'normalize' was deprecated in version 1.0 and will be removed in 1.2. Please leave the normalize parameter to its default value to silence this warning. The default behavior of this estimator is to not do any normalization. If normalization is needed please use sklearn.preprocessing.StandardScaler instead.\n",
      "A column-vector y was passed when a 1d array was expected. Please change the shape of y to (n_samples, ), for example using ravel().\n",
      "Criterion 'mse' was deprecated in v1.0 and will be removed in version 1.2. Use `criterion='squared_error'` which is equivalent.\n",
      "Criterion 'mse' was deprecated in v1.0 and will be removed in version 1.2. Use `criterion='squared_error'` which is equivalent.\n",
      "[flaml.tune.tune: 09-20 22:51:36] {118} INFO - result: {'energy_distance': 1.565847203505725, 'estimator_name': 'iv.econml.iv.dml.OrthoIV', 'scores': {'train': {'intrp': <econml.cate_interpreter._interpreters.SingleTreeCateInterpreter object at 0x168442d00>, 'ate': -0.32153864697866724, 'ate_std': 20.898660527217626, 'energy_distance': 1.3864928822994003}, 'validation': {'intrp': <econml.cate_interpreter._interpreters.SingleTreeCateInterpreter object at 0x16760a0d0>, 'ate': -0.5094730423259869, 'ate_std': 20.456252930531367, 'energy_distance': 1.565847203505725}}, 'config': {'estimator': {'estimator_name': 'iv.econml.iv.dml.OrthoIV', 'mc_agg': 'mean'}}, 'training_iteration': 0, 'config/estimator': {'estimator_name': 'iv.econml.iv.dml.OrthoIV', 'mc_agg': 'mean'}, 'experiment_tag': 'exp', 'time_total_s': 120.46908521652222}\n",
      "[flaml.tune.tune: 09-20 22:51:36] {506} INFO - trial 4 config: {'estimator': {'estimator_name': 'iv.econml.iv.dml.DMLIV', 'mc_agg': 'mean'}}\n",
      "'normalize' was deprecated in version 1.0 and will be removed in 1.2. Please leave the normalize parameter to its default value to silence this warning. The default behavior of this estimator is to not do any normalization. If normalization is needed please use sklearn.preprocessing.StandardScaler instead.\n",
      "A column-vector y was passed when a 1d array was expected. Please change the shape of y to (n_samples, ), for example using ravel().\n",
      "'normalize' was deprecated in version 1.0 and will be removed in 1.2. Please leave the normalize parameter to its default value to silence this warning. The default behavior of this estimator is to not do any normalization. If normalization is needed please use sklearn.preprocessing.StandardScaler instead.\n",
      "A column-vector y was passed when a 1d array was expected. Please change the shape of y to (n_samples, ), for example using ravel().\n",
      "Criterion 'mse' was deprecated in v1.0 and will be removed in version 1.2. Use `criterion='squared_error'` which is equivalent.\n",
      "Criterion 'mse' was deprecated in v1.0 and will be removed in version 1.2. Use `criterion='squared_error'` which is equivalent.\n",
      "[flaml.tune.tune: 09-20 22:53:36] {118} INFO - result: {'energy_distance': 0.7926837058367573, 'estimator_name': 'iv.econml.iv.dml.DMLIV', 'scores': {'train': {'intrp': <econml.cate_interpreter._interpreters.SingleTreeCateInterpreter object at 0x16e0779d0>, 'ate': -0.23454901578432336, 'ate_std': 14.674266245808516, 'energy_distance': 0.7078769096636268}, 'validation': {'intrp': <econml.cate_interpreter._interpreters.SingleTreeCateInterpreter object at 0x16e077fd0>, 'ate': -0.3723950899659995, 'ate_std': 14.408637797292585, 'energy_distance': 0.7926837058367573}}, 'config': {'estimator': {'estimator_name': 'iv.econml.iv.dml.DMLIV', 'mc_agg': 'mean'}}, 'training_iteration': 0, 'config/estimator': {'estimator_name': 'iv.econml.iv.dml.DMLIV', 'mc_agg': 'mean'}, 'experiment_tag': 'exp', 'time_total_s': 120.5170030593872}\n",
      "[flaml.tune.tune: 09-20 22:53:36] {506} INFO - trial 5 config: {'estimator': {'estimator_name': 'iv.econml.iv.dr.IntentToTreatDRIV', 'opt_reweighted': 0, 'cov_clip': 0.1, 'prel_opt_reweighted': 1, 'prel_cate_approach': 'driv'}}\n",
      "Function get_feature_names is deprecated; get_feature_names is deprecated in 1.0 and will be removed in 1.2. Please use get_feature_names_out instead.\n",
      "[flaml.automl: 09-20 22:56:07] {2648} WARNING - Time taken to find the best model is 93% of the provided time budget and not all estimators' hyperparameter search converged. Consider increasing the time budget.\n",
      "[flaml.automl: 09-20 22:57:07] {2648} WARNING - Time taken to find the best model is 95% of the provided time budget and not all estimators' hyperparameter search converged. Consider increasing the time budget.\n",
      "Function get_feature_names is deprecated; get_feature_names is deprecated in 1.0 and will be removed in 1.2. Please use get_feature_names_out instead.\n",
      "[flaml.automl: 09-20 22:58:37] {2648} WARNING - Time taken to find the best model is 85% of the provided time budget and not all estimators' hyperparameter search converged. Consider increasing the time budget.\n",
      "[flaml.automl: 09-20 22:59:07] {2648} WARNING - Time taken to find the best model is 98% of the provided time budget and not all estimators' hyperparameter search converged. Consider increasing the time budget.\n",
      "Function get_feature_names is deprecated; get_feature_names is deprecated in 1.0 and will be removed in 1.2. Please use get_feature_names_out instead.\n",
      "Function get_feature_names is deprecated; get_feature_names is deprecated in 1.0 and will be removed in 1.2. Please use get_feature_names_out instead.\n",
      "Criterion 'mse' was deprecated in v1.0 and will be removed in version 1.2. Use `criterion='squared_error'` which is equivalent.\n",
      "Criterion 'mse' was deprecated in v1.0 and will be removed in version 1.2. Use `criterion='squared_error'` which is equivalent.\n",
      "[flaml.tune.tune: 09-20 23:00:07] {118} INFO - result: {'energy_distance': 0.2796398227682779, 'estimator_name': 'iv.econml.iv.dr.IntentToTreatDRIV', 'scores': {'train': {'intrp': <econml.cate_interpreter._interpreters.SingleTreeCateInterpreter object at 0x167edc040>, 'ate': -0.8290490647353717, 'ate_std': 54.794833908010624, 'energy_distance': 0.21572983933623568}, 'validation': {'intrp': <econml.cate_interpreter._interpreters.SingleTreeCateInterpreter object at 0x167edc340>, 'ate': -0.6297171392213543, 'ate_std': 40.026848715573855, 'energy_distance': 0.2796398227682779}}, 'config': {'estimator': {'estimator_name': 'iv.econml.iv.dr.IntentToTreatDRIV', 'opt_reweighted': 0, 'cov_clip': 0.1, 'prel_opt_reweighted': 1, 'prel_cate_approach': 'driv'}}, 'training_iteration': 0, 'config/estimator': {'estimator_name': 'iv.econml.iv.dr.IntentToTreatDRIV', 'opt_reweighted': 0, 'cov_clip': 0.1, 'prel_opt_reweighted': 1, 'prel_cate_approach': 'driv'}, 'experiment_tag': 'exp', 'time_total_s': 391.26474618911743}\n"
     ]
    }
   ],
   "source": [
    "ac_quad_te = AutoCausality(\n",
    "    estimator_list=estimator_list,\n",
    "    verbose=3,\n",
    "    components_verbose=2,\n",
    "    components_time_budget=30,\n",
    "    propensity_model=\"auto\",\n",
    "    train_size=0.8\n",
    ")\n",
    "\n",
    "ac_quad_te.fit(train_df, treatment, outcome, features_W, features_X, instruments)\n"
   ]
  },
  {
   "cell_type": "code",
   "execution_count": 33,
   "metadata": {
    "collapsed": false,
    "pycharm": {
     "name": "#%%\n"
    }
   },
   "outputs": [
    {
     "data": {
      "text/html": [
       "<div>\n",
       "<style scoped>\n",
       "    .dataframe tbody tr th:only-of-type {\n",
       "        vertical-align: middle;\n",
       "    }\n",
       "\n",
       "    .dataframe tbody tr th {\n",
       "        vertical-align: top;\n",
       "    }\n",
       "\n",
       "    .dataframe thead th {\n",
       "        text-align: right;\n",
       "    }\n",
       "</style>\n",
       "<table border=\"1\" class=\"dataframe\">\n",
       "  <thead>\n",
       "    <tr style=\"text-align: right;\">\n",
       "      <th></th>\n",
       "      <th>estimator</th>\n",
       "      <th>estimated_effect</th>\n",
       "      <th>ate_mse</th>\n",
       "    </tr>\n",
       "  </thead>\n",
       "  <tbody>\n",
       "    <tr>\n",
       "      <th>0</th>\n",
       "      <td>iv.auto_causality.models.SimpleIV</td>\n",
       "      <td>-1.875396</td>\n",
       "      <td>87.898048</td>\n",
       "    </tr>\n",
       "    <tr>\n",
       "      <th>1</th>\n",
       "      <td>iv.econml.iv.dml.DMLIV</td>\n",
       "      <td>-0.545693</td>\n",
       "      <td>64.733176</td>\n",
       "    </tr>\n",
       "    <tr>\n",
       "      <th>2</th>\n",
       "      <td>iv.econml.iv.dml.OrthoIV</td>\n",
       "      <td>-0.907341</td>\n",
       "      <td>70.683388</td>\n",
       "    </tr>\n",
       "    <tr>\n",
       "      <th>3</th>\n",
       "      <td>iv.econml.iv.dr.IntentToTreatDRIV</td>\n",
       "      <td>-1.341814</td>\n",
       "      <td>78.177668</td>\n",
       "    </tr>\n",
       "    <tr>\n",
       "      <th>4</th>\n",
       "      <td>iv.econml.iv.dr.LinearDRIV</td>\n",
       "      <td>-0.406059</td>\n",
       "      <td>62.505762</td>\n",
       "    </tr>\n",
       "  </tbody>\n",
       "</table>\n",
       "</div>"
      ],
      "text/plain": [
       "                           estimator  estimated_effect    ate_mse\n",
       "0  iv.auto_causality.models.SimpleIV         -1.875396  87.898048\n",
       "1             iv.econml.iv.dml.DMLIV         -0.545693  64.733176\n",
       "2           iv.econml.iv.dml.OrthoIV         -0.907341  70.683388\n",
       "3  iv.econml.iv.dr.IntentToTreatDRIV         -1.341814  78.177668\n",
       "4         iv.econml.iv.dr.LinearDRIV         -0.406059  62.505762"
      ]
     },
     "execution_count": 33,
     "metadata": {},
     "output_type": "execute_result"
    }
   ],
   "source": [
    "get_est_effects(ac_quad_te, Xtest)"
   ]
  },
  {
   "cell_type": "code",
   "execution_count": 32,
   "metadata": {},
   "outputs": [
    {
     "data": {
      "image/png": "[encoded data removed]",
      "text/plain": [
       "<Figure size 900x700 with 1 Axes>"
      ]
     },
     "metadata": {},
     "output_type": "display_data"
    }
   ],
   "source": [
    "all_estimator_scatter(\n",
    "    ac_quad_te.results.results,\n",
    "    ac_quad_te.scores,\n",
    "    title=\"quad_cate\"\n",
    ")"
   ]
  },
  {
   "cell_type": "code",
   "execution_count": 34,
   "metadata": {
    "collapsed": false,
    "pycharm": {
     "name": "#%%\n"
    }
   },
   "outputs": [
    {
     "data": {
      "image/png": "[encoded data removed]",
      "text/plain": [
       "<Figure size 700x500 with 1 Axes>"
      ]
     },
     "metadata": {},
     "output_type": "display_data"
    }
   ],
   "source": [
    "score_all_test(ac_quad_te, test_df)\n",
    "graph_compare_estimators(ac_quad_te)\n"
   ]
  },
  {
   "cell_type": "code",
   "execution_count": null,
   "metadata": {
    "collapsed": false,
    "pycharm": {
     "name": "#%%\n"
    }
   },
   "outputs": [],
   "source": []
  }
 ],
 "metadata": {
  "kernelspec": {
   "display_name": "Python 3.9.12 ('.venv': venv)",
   "language": "python",
   "name": "python3"
  },
  "language_info": {
   "codemirror_mode": {
    "name": "ipython",
    "version": 3
   },
   "file_extension": ".py",
   "mimetype": "text/x-python",
   "name": "python",
   "nbconvert_exporter": "python",
   "pygments_lexer": "ipython3",
   "version": "3.9.12"
  },
  "vscode": {
   "interpreter": {
    "hash": "69127eca9e6c849401695e28ffa683ce066c3bc75f3c1b01451ff5e609c153a5"
   }
  }
 },
 "nbformat": 4,
 "nbformat_minor": 0
}
