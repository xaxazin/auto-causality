{
 "cells": [
  {
   "cell_type": "code",
   "execution_count": 35,
   "metadata": {
    "collapsed": true,
    "pycharm": {
     "name": "#%%\n"
    }
   },
   "outputs": [],
   "source": [
    "import os\n",
    "import sys\n",
    "import numpy as np\n",
    "import warnings\n",
    "import pandas as pd\n",
    "import matplotlib\n",
    "from scipy import special\n",
    "import matplotlib.pyplot as plt\n",
    "from sklearn.model_selection import train_test_split\n",
    "\n",
    "root_path = root_path = os.path.realpath('../..')\n",
    "try:\n",
    "    import auto_causality\n",
    "except ModuleNotFoundError:\n",
    "    sys.path.append(os.path.join(root_path, \"auto-causality\"))\n",
    "\n",
    "from auto_causality import AutoCausality\n",
    "from auto_causality.data_utils import preprocess_dataset\n",
    "from auto_causality.scoring import Scorer\n",
    "\n",
    "warnings.filterwarnings(\"ignore\")"
   ]
  },
  {
   "cell_type": "markdown",
   "metadata": {
    "collapsed": false,
    "pycharm": {
     "name": "#%% md\n"
    }
   },
   "source": [
    "## Data Generation Process"
   ]
  },
  {
   "cell_type": "markdown",
   "metadata": {
    "collapsed": false,
    "pycharm": {
     "name": "#%% md\n"
    }
   },
   "source": [
    "Here we use a data generation process implemented by EconML for IV models and described as follows:\n",
    "\n",
    "We construct the DGP as below. The instrument corresponds to a fully randomized recommendation of treatment. Then each sample complies with the recommendation to some degree. This probability depends on both the observed feature $X$ and an unobserved confounder that has a direct effect on the outcome\n",
    "\n",
    "\n",
    "\\begin{align}\n",
    "W \\sim \\; & \\text{Normal}(0,\\, I_{n_w})   \\tag{Observed confounders}\\\\\n",
    "Z \\sim \\; & \\text{Bernoulli}(p=0.5)   \\tag{Instrument}\\\\\n",
    "\\nu \\sim \\; & \\text{U}[0, 5] \\tag{Unobserved confounder}\\\\\n",
    "C \\sim \\; & \\text{Bernoulli}(p=0.8 \\cdot \\text{Sigmoid}(0.4 \\cdot X[0] + \\nu))   \\tag{Compliers when recommended}\\\\\n",
    "C0 \\sim \\; & \\text{Bernoulli}(p=0.006)   \\tag{Non-Compliers when not recommended}\\\\\n",
    "T = \\; & C \\cdot Z + C0 \\cdot (1-Z)  \\tag{Treatment}\\\\\n",
    "y \\sim \\; & \\theta \\cdot T + 2 \\cdot \\nu + 5 \\cdot (X[3]>0) + 0.1 \\cdot \\text{U}[0, 1]  \\tag{Outcome}\n",
    "\\end{align}\n"
   ]
  },
  {
   "cell_type": "code",
   "execution_count": 46,
   "metadata": {
    "collapsed": false,
    "pycharm": {
     "name": "#%%\n"
    }
   },
   "outputs": [],
   "source": [
    "def iv_dgp_econml(n=5000, p=10, true_effect=10):\n",
    "\n",
    "    X = np.random.normal(0, 1, size=(n, p))\n",
    "    Z = np.random.binomial(1, 0.5, size=(n,))\n",
    "    nu = np.random.uniform(0, 5, size=(n,))\n",
    "    coef_Z = 0.8\n",
    "    C = np.random.binomial(\n",
    "        1, coef_Z * special.expit(0.4 * X[:, 0] + nu)\n",
    "    )  # Compliers when recomended\n",
    "    C0 = np.random.binomial(\n",
    "        1, 0.006 * np.ones(X.shape[0])\n",
    "    )  # Non-compliers when not recommended\n",
    "    T = C * Z + C0 * (1 - Z)\n",
    "    y = (\n",
    "        true_effect(X) * T\n",
    "        + 2 * nu\n",
    "        + 5 * (X[:, 3] > 0)\n",
    "        + 2.5 * np.random.uniform(0, 1, size=(n,))\n",
    "    )\n",
    "    cov = [f\"x{i}\" for i in range(1, X.shape[1] + 1)]\n",
    "    df = pd.DataFrame(X, columns=cov)\n",
    "\n",
    "    df[\"y\"] = y\n",
    "    df[\"treatment\"] = T\n",
    "    df[\"Z\"] = Z\n",
    "\n",
    "    return df"
   ]
  },
  {
   "cell_type": "code",
   "execution_count": 47,
   "metadata": {
    "collapsed": false,
    "pycharm": {
     "name": "#%%\n"
    }
   },
   "outputs": [],
   "source": [
    "# Dataset parameters\n",
    "treatment = \"treatment\"\n",
    "targets = [\"y\"]\n",
    "instruments = [\"Z\"]\n",
    "outcome = targets[0]"
   ]
  },
  {
   "cell_type": "markdown",
   "metadata": {
    "collapsed": false,
    "pycharm": {
     "name": "#%% md\n"
    }
   },
   "source": [
    "### Model Fitting (1): Constant Effect (ATE)"
   ]
  },
  {
   "cell_type": "markdown",
   "metadata": {
    "collapsed": false,
    "pycharm": {
     "name": "#%% md\n"
    }
   },
   "source": [
    "We define a constant treatment effect (ATE) to be searched by the auto-causality tool for all named IV estimators.\n",
    "\n",
    "\\begin{align}\n",
    "\\theta = \\; & 7.5 \\tag{ATE}\\\\\n",
    "\\end{align}"
   ]
  },
  {
   "cell_type": "code",
   "execution_count": 48,
   "metadata": {
    "collapsed": false,
    "pycharm": {
     "name": "#%%\n"
    }
   },
   "outputs": [
    {
     "data": {
      "text/html": [
       "<div>\n",
       "<style scoped>\n",
       "    .dataframe tbody tr th:only-of-type {\n",
       "        vertical-align: middle;\n",
       "    }\n",
       "\n",
       "    .dataframe tbody tr th {\n",
       "        vertical-align: top;\n",
       "    }\n",
       "\n",
       "    .dataframe thead th {\n",
       "        text-align: right;\n",
       "    }\n",
       "</style>\n",
       "<table border=\"1\" class=\"dataframe\">\n",
       "  <thead>\n",
       "    <tr style=\"text-align: right;\">\n",
       "      <th></th>\n",
       "      <th>treatment</th>\n",
       "      <th>y</th>\n",
       "      <th>Z</th>\n",
       "      <th>x1</th>\n",
       "      <th>x2</th>\n",
       "      <th>x3</th>\n",
       "      <th>x4</th>\n",
       "      <th>x5</th>\n",
       "      <th>x6</th>\n",
       "      <th>x7</th>\n",
       "      <th>x8</th>\n",
       "      <th>x9</th>\n",
       "      <th>x10</th>\n",
       "      <th>random</th>\n",
       "    </tr>\n",
       "  </thead>\n",
       "  <tbody>\n",
       "    <tr>\n",
       "      <th>16419</th>\n",
       "      <td>0.0</td>\n",
       "      <td>9.238960</td>\n",
       "      <td>1.0</td>\n",
       "      <td>1.067054</td>\n",
       "      <td>0.714385</td>\n",
       "      <td>-0.352962</td>\n",
       "      <td>-1.158768</td>\n",
       "      <td>-0.366009</td>\n",
       "      <td>0.165191</td>\n",
       "      <td>-2.107107</td>\n",
       "      <td>-1.751100</td>\n",
       "      <td>0.838383</td>\n",
       "      <td>2.028967</td>\n",
       "      <td>0.0</td>\n",
       "    </tr>\n",
       "    <tr>\n",
       "      <th>8558</th>\n",
       "      <td>1.0</td>\n",
       "      <td>13.442729</td>\n",
       "      <td>1.0</td>\n",
       "      <td>-3.575646</td>\n",
       "      <td>1.107023</td>\n",
       "      <td>-1.105476</td>\n",
       "      <td>-1.156808</td>\n",
       "      <td>-1.305229</td>\n",
       "      <td>-1.595064</td>\n",
       "      <td>1.596803</td>\n",
       "      <td>-1.171648</td>\n",
       "      <td>-1.009889</td>\n",
       "      <td>-1.612392</td>\n",
       "      <td>0.0</td>\n",
       "    </tr>\n",
       "    <tr>\n",
       "      <th>425</th>\n",
       "      <td>0.0</td>\n",
       "      <td>6.070279</td>\n",
       "      <td>0.0</td>\n",
       "      <td>0.418005</td>\n",
       "      <td>-1.346856</td>\n",
       "      <td>2.028741</td>\n",
       "      <td>-0.238332</td>\n",
       "      <td>0.991197</td>\n",
       "      <td>0.588821</td>\n",
       "      <td>-1.832830</td>\n",
       "      <td>0.729557</td>\n",
       "      <td>-0.422247</td>\n",
       "      <td>0.595469</td>\n",
       "      <td>1.0</td>\n",
       "    </tr>\n",
       "    <tr>\n",
       "      <th>14858</th>\n",
       "      <td>1.0</td>\n",
       "      <td>15.816544</td>\n",
       "      <td>1.0</td>\n",
       "      <td>0.748353</td>\n",
       "      <td>0.364992</td>\n",
       "      <td>0.833615</td>\n",
       "      <td>1.243441</td>\n",
       "      <td>1.502731</td>\n",
       "      <td>0.147918</td>\n",
       "      <td>1.168043</td>\n",
       "      <td>0.354507</td>\n",
       "      <td>0.364360</td>\n",
       "      <td>0.892047</td>\n",
       "      <td>1.0</td>\n",
       "    </tr>\n",
       "    <tr>\n",
       "      <th>22689</th>\n",
       "      <td>0.0</td>\n",
       "      <td>7.796337</td>\n",
       "      <td>0.0</td>\n",
       "      <td>-1.059137</td>\n",
       "      <td>1.306717</td>\n",
       "      <td>1.245507</td>\n",
       "      <td>-0.749604</td>\n",
       "      <td>-0.860559</td>\n",
       "      <td>0.296209</td>\n",
       "      <td>1.565199</td>\n",
       "      <td>0.059622</td>\n",
       "      <td>-1.465361</td>\n",
       "      <td>-0.068036</td>\n",
       "      <td>1.0</td>\n",
       "    </tr>\n",
       "  </tbody>\n",
       "</table>\n",
       "</div>"
      ],
      "text/plain": [
       "       treatment          y    Z        x1        x2        x3        x4  \\\n",
       "16419        0.0   9.238960  1.0  1.067054  0.714385 -0.352962 -1.158768   \n",
       "8558         1.0  13.442729  1.0 -3.575646  1.107023 -1.105476 -1.156808   \n",
       "425          0.0   6.070279  0.0  0.418005 -1.346856  2.028741 -0.238332   \n",
       "14858        1.0  15.816544  1.0  0.748353  0.364992  0.833615  1.243441   \n",
       "22689        0.0   7.796337  0.0 -1.059137  1.306717  1.245507 -0.749604   \n",
       "\n",
       "             x5        x6        x7        x8        x9       x10  random  \n",
       "16419 -0.366009  0.165191 -2.107107 -1.751100  0.838383  2.028967     0.0  \n",
       "8558  -1.305229 -1.595064  1.596803 -1.171648 -1.009889 -1.612392     0.0  \n",
       "425    0.991197  0.588821 -1.832830  0.729557 -0.422247  0.595469     1.0  \n",
       "14858  1.502731  0.147918  1.168043  0.354507  0.364360  0.892047     1.0  \n",
       "22689 -0.860559  0.296209  1.565199  0.059622 -1.465361 -0.068036     1.0  "
      ]
     },
     "execution_count": 48,
     "metadata": {},
     "output_type": "execute_result"
    }
   ],
   "source": [
    "TRUE_EFFECT = 6.7\n",
    "\n",
    "CONSTANT_EFFECT = lambda X: TRUE_EFFECT\n",
    "\n",
    "data = iv_dgp_econml(n=30000, p=10, true_effect=CONSTANT_EFFECT)\n",
    "data_df, features_X, features_W = preprocess_dataset(\n",
    "    data, treatment, targets, instruments\n",
    ")\n",
    "outcome = targets[0]\n",
    "train_df, test_df = train_test_split(data_df, test_size=0.33, random_state=123)\n",
    "\n",
    "Xtest_constant_te = test_df[features_X]\n",
    "train_df.head()"
   ]
  },
  {
   "cell_type": "markdown",
   "metadata": {
    "collapsed": false,
    "pycharm": {
     "name": "#%% md\n"
    }
   },
   "source": [
    "For each treatment effect example, we fit a list of 6 IV models, scoring them with an energy distance score. The dataset is split into train, validation and a hold-out test set, and we report scores for each.\n",
    "\n",
    "As a baseline we use dowhy's simple IV estimator, implementing Ward's estimator and two-stage least squares (2SLS)\n",
    "The other estimators are implemented by EconML with details [here](https://econml.azurewebsites.net/reference.html#instrumental-variable-cate-estimators)\n",
    "\n",
    "The components time budget represent tuning budget allocated to each estimator model."
   ]
  },
  {
   "cell_type": "code",
   "execution_count": 39,
   "metadata": {},
   "outputs": [],
   "source": [
    "estimator_list = [\"SimpleIV\", \"SparseLinearDRIV\", \"DMLIV\", \"OrthoIV\", \"LinearDRIV\", \"LinearIntentToTreatDRIV\", \"ForestDRIV\", \"IntentToTreatDRIV\"]"
   ]
  },
  {
   "cell_type": "code",
   "execution_count": 42,
   "metadata": {
    "collapsed": false,
    "pycharm": {
     "name": "#%%\n"
    }
   },
   "outputs": [],
   "source": [
    "ac_constant_te = AutoCausality(\n",
    "    estimator_list=estimator_list,\n",
    "    verbose=3,\n",
    "    components_verbose=2,\n",
    "    time_budget=14400,\n",
    "    components_time_budget=300,\n",
    "    propensity_model=\"auto\",\n",
    "    train_size=0.5\n",
    ")\n",
    "\n",
    "ac_constant_te.fit(train_df, treatment, outcome, features_W, features_X, instruments)\n"
   ]
  },
  {
   "cell_type": "markdown",
   "metadata": {
    "collapsed": false,
    "pycharm": {
     "name": "#%% md\n"
    }
   },
   "source": [
    " We get the estimated effect for the best estimator by energy distance score"
   ]
  },
  {
   "cell_type": "code",
   "execution_count": 40,
   "metadata": {
    "collapsed": false,
    "pycharm": {
     "name": "#%%\n"
    }
   },
   "outputs": [],
   "source": [
    "# score all estimators on the test set\n",
    "def score_all_test(models, test_set):\n",
    "    for est_name, scr in models.scores.items():\n",
    "        try:\n",
    "            causal_estimate = scr['estimator']\n",
    "            # print(causal_estimate.estimator._treatment_name)\n",
    "            scr['scores']['test'] = models.scorer.make_scores(\n",
    "                causal_estimate,\n",
    "                test_set,\n",
    "                problem=models.problem,\n",
    "                metrics_to_report=models.metrics_to_report\n",
    "            )\n",
    "        except Exception as e:\n",
    "            print(e)\n",
    "            pass\n",
    "\n",
    "\n",
    "def ate_mse(scores, true_effect=TRUE_EFFECT):\n",
    "    return  [(v-true_effect)**2 for v in scores]\n"
   ]
  },
  {
   "cell_type": "code",
   "execution_count": 63,
   "metadata": {
    "collapsed": false,
    "pycharm": {
     "name": "#%%\n"
    }
   },
   "outputs": [],
   "source": [
    "def get_est_effects(models, test_x, te=TRUE_EFFECT):\n",
    "    est_scores = []\n",
    "    for est_name, scr in models.scores.items():\n",
    "        est_effect = scr[\"estimator\"].estimator.effect(test_x).mean()\n",
    "        energy_distance = scr[\"scores\"][\"test\"][\"energy_distance\"]\n",
    "        est_scores.append([est_name, est_effect, (est_effect-te)**2, energy_distance])\n",
    "\n",
    "    return pd.DataFrame(est_scores, columns=[\"estimator\", \"estimated_effect\", \"ate_mse\", \"energy_distance\"])\n"
   ]
  },
  {
   "cell_type": "code",
   "execution_count": 42,
   "metadata": {
    "collapsed": false,
    "pycharm": {
     "name": "#%%\n"
    }
   },
   "outputs": [],
   "source": [
    "%matplotlib inline\n",
    "\n",
    "def graph_compare_estimators(model):\n",
    "    colors = ([matplotlib.colors.CSS4_COLORS['black']] +\n",
    "        list(matplotlib.colors.TABLEAU_COLORS) + [\n",
    "        matplotlib.colors.CSS4_COLORS['lime'],\n",
    "        matplotlib.colors.CSS4_COLORS['yellow'],\n",
    "        matplotlib.colors.CSS4_COLORS['pink']\n",
    "    ])\n",
    "\n",
    "\n",
    "    plt.figure(figsize = (7,5))\n",
    "    plt.title(outcome)\n",
    "\n",
    "    m1 = \"energy_distance\"\n",
    "    m2 = \"ate\"\n",
    "\n",
    "    splits =  [\"train\", \"validation\", \"test\"]\n",
    "\n",
    "    for (est, scr), col in zip(model.scores.items(), colors):\n",
    "        try:\n",
    "            scores  = scr[\"scores\"]\n",
    "            sc = [scores[v][m1] for v in splits]\n",
    "            crv = ate_mse([scores[v][m2] for v in splits])\n",
    "            plt.plot(sc, crv, color=col, marker=\"o\", label=est)\n",
    "            plt.scatter(sc[1:2],crv[1:2], c=col, s=70, label=\"_nolegend_\" )\n",
    "            plt.scatter(sc[2:],crv[2:], c=col, s=120, label=\"_nolegend_\" )\n",
    "\n",
    "        except Exception as e:\n",
    "            print(e)\n",
    "            pass\n",
    "\n",
    "    plt.xlabel(m1)\n",
    "    plt.ylabel(f\"{m2}_MSE\")\n",
    "    plt.legend(bbox_to_anchor=(1.04,1), borderaxespad=0)\n",
    "\n",
    "    plt.grid()\n",
    "    plt.show()\n"
   ]
  },
  {
   "cell_type": "markdown",
   "metadata": {
    "collapsed": false,
    "pycharm": {
     "name": "#%% md\n"
    }
   },
   "source": [
    "First we see the estimated effect for each model, and respective MSE compared with true effect"
   ]
  },
  {
   "cell_type": "code",
   "execution_count": 23,
   "metadata": {
    "collapsed": false,
    "pycharm": {
     "name": "#%%\n"
    }
   },
   "outputs": [
    {
     "data": {
      "text/html": [
       "<div>\n",
       "<style scoped>\n",
       "    .dataframe tbody tr th:only-of-type {\n",
       "        vertical-align: middle;\n",
       "    }\n",
       "\n",
       "    .dataframe tbody tr th {\n",
       "        vertical-align: top;\n",
       "    }\n",
       "\n",
       "    .dataframe thead th {\n",
       "        text-align: right;\n",
       "    }\n",
       "</style>\n",
       "<table border=\"1\" class=\"dataframe\">\n",
       "  <thead>\n",
       "    <tr style=\"text-align: right;\">\n",
       "      <th></th>\n",
       "      <th>estimator</th>\n",
       "      <th>estimated_effect</th>\n",
       "      <th>ate_mse</th>\n",
       "    </tr>\n",
       "  </thead>\n",
       "  <tbody>\n",
       "    <tr>\n",
       "      <th>0</th>\n",
       "      <td>iv.auto_causality.models.SimpleIV</td>\n",
       "      <td>7.326025</td>\n",
       "      <td>0.030267</td>\n",
       "    </tr>\n",
       "    <tr>\n",
       "      <th>1</th>\n",
       "      <td>iv.econml.iv.dml.DMLIV</td>\n",
       "      <td>3.608027</td>\n",
       "      <td>15.147457</td>\n",
       "    </tr>\n",
       "    <tr>\n",
       "      <th>2</th>\n",
       "      <td>iv.econml.iv.dml.OrthoIV</td>\n",
       "      <td>7.382694</td>\n",
       "      <td>0.013761</td>\n",
       "    </tr>\n",
       "    <tr>\n",
       "      <th>3</th>\n",
       "      <td>iv.econml.iv.dr.ForestDRIV</td>\n",
       "      <td>3.201586</td>\n",
       "      <td>18.476363</td>\n",
       "    </tr>\n",
       "    <tr>\n",
       "      <th>4</th>\n",
       "      <td>iv.econml.iv.dr.IntentToTreatDRIV</td>\n",
       "      <td>9.685034</td>\n",
       "      <td>4.774375</td>\n",
       "    </tr>\n",
       "    <tr>\n",
       "      <th>5</th>\n",
       "      <td>iv.econml.iv.dr.LinearDRIV</td>\n",
       "      <td>3.647634</td>\n",
       "      <td>14.840727</td>\n",
       "    </tr>\n",
       "    <tr>\n",
       "      <th>6</th>\n",
       "      <td>iv.econml.iv.dr.SparseLinearDRIV</td>\n",
       "      <td>5.312383</td>\n",
       "      <td>4.785668</td>\n",
       "    </tr>\n",
       "  </tbody>\n",
       "</table>\n",
       "</div>"
      ],
      "text/plain": [
       "                           estimator  estimated_effect    ate_mse\n",
       "0  iv.auto_causality.models.SimpleIV          7.326025   0.030267\n",
       "1             iv.econml.iv.dml.DMLIV          3.608027  15.147457\n",
       "2           iv.econml.iv.dml.OrthoIV          7.382694   0.013761\n",
       "3         iv.econml.iv.dr.ForestDRIV          3.201586  18.476363\n",
       "4  iv.econml.iv.dr.IntentToTreatDRIV          9.685034   4.774375\n",
       "5         iv.econml.iv.dr.LinearDRIV          3.647634  14.840727\n",
       "6   iv.econml.iv.dr.SparseLinearDRIV          5.312383   4.785668"
      ]
     },
     "execution_count": 23,
     "metadata": {},
     "output_type": "execute_result"
    }
   ],
   "source": [
    "get_est_effects(ac_constant_te, Xtest_constant_te)"
   ]
  },
  {
   "cell_type": "markdown",
   "metadata": {
    "collapsed": false,
    "pycharm": {
     "name": "#%% md\n"
    }
   },
   "source": [
    "In the plots we show the energy distance scores on the train, validation and hold-out test sets compared with the mean squared error between estimated effect and the true effect"
   ]
  },
  {
   "cell_type": "code",
   "execution_count": 55,
   "metadata": {
    "collapsed": false,
    "pycharm": {
     "name": "#%%\n"
    }
   },
   "outputs": [],
   "source": [
    "# Get non-optimal runs from each estimator and score on (energy distance, ate)\n",
    "# ac_constant_te.results.results"
   ]
  },
  {
   "cell_type": "code",
   "execution_count": 24,
   "metadata": {
    "collapsed": false,
    "pycharm": {
     "name": "#%%\n"
    }
   },
   "outputs": [
    {
     "data": {
      "image/png": "[encoded data removed]",
      "text/plain": [
       "<Figure size 700x500 with 1 Axes>"
      ]
     },
     "metadata": {},
     "output_type": "display_data"
    }
   ],
   "source": [
    "score_all_test(ac_constant_te, test_df)\n",
    "graph_compare_estimators(ac_constant_te)"
   ]
  },
  {
   "cell_type": "markdown",
   "metadata": {
    "collapsed": false,
    "pycharm": {
     "name": "#%% md\n"
    }
   },
   "source": [
    "### Model Fitting (2): Heterogeneous Treatment Effect\n",
    "\n",
    "Here we replace the constant treatment effect with a linear treatment effect function of some covariates  to estimate heterogeneous effects.\n",
    "\n",
    "\\begin{align}\n",
    "\\theta = \\; & 7.5  \\cdot   (X[2] + X[7]) \\tag{ATE}\\\\\n",
    "\\end{align}"
   ]
  },
  {
   "cell_type": "code",
   "execution_count": 51,
   "metadata": {
    "collapsed": false,
    "pycharm": {
     "name": "#%%\n"
    }
   },
   "outputs": [
    {
     "data": {
      "text/html": [
       "<div>\n",
       "<style scoped>\n",
       "    .dataframe tbody tr th:only-of-type {\n",
       "        vertical-align: middle;\n",
       "    }\n",
       "\n",
       "    .dataframe tbody tr th {\n",
       "        vertical-align: top;\n",
       "    }\n",
       "\n",
       "    .dataframe thead th {\n",
       "        text-align: right;\n",
       "    }\n",
       "</style>\n",
       "<table border=\"1\" class=\"dataframe\">\n",
       "  <thead>\n",
       "    <tr style=\"text-align: right;\">\n",
       "      <th></th>\n",
       "      <th>treatment</th>\n",
       "      <th>y</th>\n",
       "      <th>Z</th>\n",
       "      <th>x1</th>\n",
       "      <th>x2</th>\n",
       "      <th>x3</th>\n",
       "      <th>x4</th>\n",
       "      <th>x5</th>\n",
       "      <th>x6</th>\n",
       "      <th>x7</th>\n",
       "      <th>x8</th>\n",
       "      <th>x9</th>\n",
       "      <th>x10</th>\n",
       "      <th>random</th>\n",
       "    </tr>\n",
       "  </thead>\n",
       "  <tbody>\n",
       "    <tr>\n",
       "      <th>16419</th>\n",
       "      <td>0.0</td>\n",
       "      <td>9.238960</td>\n",
       "      <td>1.0</td>\n",
       "      <td>1.067054</td>\n",
       "      <td>0.714385</td>\n",
       "      <td>-0.352962</td>\n",
       "      <td>-1.158768</td>\n",
       "      <td>-0.366009</td>\n",
       "      <td>0.165191</td>\n",
       "      <td>-2.107107</td>\n",
       "      <td>-1.751100</td>\n",
       "      <td>0.838383</td>\n",
       "      <td>2.028967</td>\n",
       "      <td>0.0</td>\n",
       "    </tr>\n",
       "    <tr>\n",
       "      <th>8558</th>\n",
       "      <td>1.0</td>\n",
       "      <td>13.442729</td>\n",
       "      <td>1.0</td>\n",
       "      <td>-3.575646</td>\n",
       "      <td>1.107023</td>\n",
       "      <td>-1.105476</td>\n",
       "      <td>-1.156808</td>\n",
       "      <td>-1.305229</td>\n",
       "      <td>-1.595064</td>\n",
       "      <td>1.596803</td>\n",
       "      <td>-1.171648</td>\n",
       "      <td>-1.009889</td>\n",
       "      <td>-1.612392</td>\n",
       "      <td>0.0</td>\n",
       "    </tr>\n",
       "    <tr>\n",
       "      <th>425</th>\n",
       "      <td>0.0</td>\n",
       "      <td>6.070279</td>\n",
       "      <td>0.0</td>\n",
       "      <td>0.418005</td>\n",
       "      <td>-1.346856</td>\n",
       "      <td>2.028741</td>\n",
       "      <td>-0.238332</td>\n",
       "      <td>0.991197</td>\n",
       "      <td>0.588821</td>\n",
       "      <td>-1.832830</td>\n",
       "      <td>0.729557</td>\n",
       "      <td>-0.422247</td>\n",
       "      <td>0.595469</td>\n",
       "      <td>1.0</td>\n",
       "    </tr>\n",
       "    <tr>\n",
       "      <th>14858</th>\n",
       "      <td>1.0</td>\n",
       "      <td>15.816544</td>\n",
       "      <td>1.0</td>\n",
       "      <td>0.748353</td>\n",
       "      <td>0.364992</td>\n",
       "      <td>0.833615</td>\n",
       "      <td>1.243441</td>\n",
       "      <td>1.502731</td>\n",
       "      <td>0.147918</td>\n",
       "      <td>1.168043</td>\n",
       "      <td>0.354507</td>\n",
       "      <td>0.364360</td>\n",
       "      <td>0.892047</td>\n",
       "      <td>1.0</td>\n",
       "    </tr>\n",
       "    <tr>\n",
       "      <th>22689</th>\n",
       "      <td>0.0</td>\n",
       "      <td>7.796337</td>\n",
       "      <td>0.0</td>\n",
       "      <td>-1.059137</td>\n",
       "      <td>1.306717</td>\n",
       "      <td>1.245507</td>\n",
       "      <td>-0.749604</td>\n",
       "      <td>-0.860559</td>\n",
       "      <td>0.296209</td>\n",
       "      <td>1.565199</td>\n",
       "      <td>0.059622</td>\n",
       "      <td>-1.465361</td>\n",
       "      <td>-0.068036</td>\n",
       "      <td>1.0</td>\n",
       "    </tr>\n",
       "  </tbody>\n",
       "</table>\n",
       "</div>"
      ],
      "text/plain": [
       "       treatment          y    Z        x1        x2        x3        x4  \\\n",
       "16419        0.0   9.238960  1.0  1.067054  0.714385 -0.352962 -1.158768   \n",
       "8558         1.0  13.442729  1.0 -3.575646  1.107023 -1.105476 -1.156808   \n",
       "425          0.0   6.070279  0.0  0.418005 -1.346856  2.028741 -0.238332   \n",
       "14858        1.0  15.816544  1.0  0.748353  0.364992  0.833615  1.243441   \n",
       "22689        0.0   7.796337  0.0 -1.059137  1.306717  1.245507 -0.749604   \n",
       "\n",
       "             x5        x6        x7        x8        x9       x10  random  \n",
       "16419 -0.366009  0.165191 -2.107107 -1.751100  0.838383  2.028967     0.0  \n",
       "8558  -1.305229 -1.595064  1.596803 -1.171648 -1.009889 -1.612392     0.0  \n",
       "425    0.991197  0.588821 -1.832830  0.729557 -0.422247  0.595469     1.0  \n",
       "14858  1.502731  0.147918  1.168043  0.354507  0.364360  0.892047     1.0  \n",
       "22689 -0.860559  0.296209  1.565199  0.059622 -1.465361 -0.068036     1.0  "
      ]
     },
     "execution_count": 51,
     "metadata": {},
     "output_type": "execute_result"
    }
   ],
   "source": [
    "LINEAR_EFFECT = lambda X: TRUE_EFFECT * (X[:, 0] ** 2) * (X[:, 1])\n",
    "\n",
    "synth_data = iv_dgp_econml(n=60000, p=15, true_effect=LINEAR_EFFECT)\n",
    "data_df, features_X, features_W = preprocess_dataset(\n",
    "    synth_data, treatment, targets, instruments\n",
    ")\n",
    "df_train, df_test = train_test_split(data_df, test_size=0.3)\n",
    "\n",
    "# Xtest_le = data_df[features_X]\n",
    "train_df.head()"
   ]
  },
  {
   "cell_type": "code",
   "execution_count": 53,
   "metadata": {
    "collapsed": false,
    "pycharm": {
     "name": "#%%\n"
    }
   },
   "outputs": [
    {
     "name": "stdout",
     "output_type": "stream",
     "text": [
      "Fitting a Propensity-Weighted scoring estimator to be used in scoring tasks\n"
     ]
    },
    {
     "name": "stderr",
     "output_type": "stream",
     "text": [
      "[flaml.tune.tune: 09-26 13:44:47] {375} WARNING - Using CFO for search. To use BlendSearch, run: pip install flaml[blendsearch]\n",
      "[flaml.tune.tune: 09-26 13:44:47] {506} INFO - trial 1 config: {'estimator': {'estimator_name': 'iv.auto_causality.models.SimpleIV'}}\n"
     ]
    },
    {
     "name": "stdout",
     "output_type": "stream",
     "text": [
      "Initial configs: [{'estimator': {'estimator_name': 'iv.auto_causality.models.SimpleIV'}}, {'estimator': {'estimator_name': 'iv.econml.iv.dr.LinearDRIV', 'projection': True}}, {'estimator': {'estimator_name': 'iv.econml.iv.dml.OrthoIV', 'mc_agg': 'mean'}}, {'estimator': {'estimator_name': 'iv.econml.iv.dml.DMLIV', 'mc_agg': 'mean'}}, {'estimator': {'estimator_name': 'iv.econml.iv.dr.IntentToTreatDRIV', 'opt_reweighted': 0, 'cov_clip': 0.1, 'prel_opt_reweighted': 1, 'prel_cate_approach': 'driv'}}, {'estimator': {'estimator_name': 'iv.econml.iv.dr.SparseLinearDRIV', 'projection': 0, 'opt_reweighted': 0, 'cov_clip': 0.1}}, {'estimator': {'estimator_name': 'iv.econml.iv.dr.ForestDRIV', 'projection': 0, 'opt_reweighted': 0, 'cov_clip': 0.1, 'min_samples_split': 2}}, {'estimator': {'estimator_name': 'iv.econml.iv.dr.LinearIntentToTreatDRIV', 'cov_clip': 0.1, 'opt_reweighted': 1}}]\n"
     ]
    },
    {
     "name": "stderr",
     "output_type": "stream",
     "text": [
      "RuntimeError: module compiled against API version 0xf but this version of numpy is 0xe\n",
      "OMP: Info #276: omp_set_nested routine deprecated, please use omp_set_max_active_levels instead.\n",
      "Criterion 'mse' was deprecated in v1.0 and will be removed in version 1.2. Use `criterion='squared_error'` which is equivalent.\n",
      "Criterion 'mse' was deprecated in v1.0 and will be removed in version 1.2. Use `criterion='squared_error'` which is equivalent.\n",
      "[flaml.tune.tune: 09-26 13:45:11] {118} INFO - result: {'energy_distance': 0.22867408617253382, 'estimator_name': 'iv.auto_causality.models.SimpleIV', 'scores': {'train': {'intrp': <econml.cate_interpreter._interpreters.SingleTreeCateInterpreter object at 0x169816820>, 'ate': 0.12512341141700745, 'ate_std': 0.0, 'energy_distance': 0.193058835931172}, 'validation': {'intrp': <econml.cate_interpreter._interpreters.SingleTreeCateInterpreter object at 0x16b5fc0d0>, 'ate': 0.12512341141700745, 'ate_std': 0.0, 'energy_distance': 0.22867408617253382}}, 'config': {'estimator': {'estimator_name': 'iv.auto_causality.models.SimpleIV'}}, 'training_iteration': 0, 'config/estimator': {'estimator_name': 'iv.auto_causality.models.SimpleIV'}, 'experiment_tag': 'exp', 'time_total_s': 23.526066064834595}\n",
      "[flaml.tune.tune: 09-26 13:45:11] {506} INFO - trial 2 config: {'estimator': {'estimator_name': 'iv.econml.iv.dr.LinearDRIV', 'projection': 1}}\n",
      "RuntimeError: module compiled against API version 0xf but this version of numpy is 0xe\n",
      "OMP: Info #276: omp_set_nested routine deprecated, please use omp_set_max_active_levels instead.\n",
      "'normalize' was deprecated in version 1.0 and will be removed in 1.2. Please leave the normalize parameter to its default value to silence this warning. The default behavior of this estimator is to not do any normalization. If normalization is needed please use sklearn.preprocessing.StandardScaler instead.\n",
      "'normalize' was deprecated in version 1.0 and will be removed in 1.2. Please leave the normalize parameter to its default value to silence this warning. The default behavior of this estimator is to not do any normalization. If normalization is needed please use sklearn.preprocessing.StandardScaler instead.\n",
      "[flaml.automl: 09-26 14:45:13] {2648} WARNING - Time taken to find the best model is 100% of the provided time budget and not all estimators' hyperparameter search converged. Consider increasing the time budget.\n",
      "[flaml.automl: 09-26 15:05:13] {2648} WARNING - Time taken to find the best model is 81% of the provided time budget and not all estimators' hyperparameter search converged. Consider increasing the time budget.\n",
      "'normalize' was deprecated in version 1.0 and will be removed in 1.2. Please leave the normalize parameter to its default value to silence this warning. The default behavior of this estimator is to not do any normalization. If normalization is needed please use sklearn.preprocessing.StandardScaler instead.\n",
      "'normalize' was deprecated in version 1.0 and will be removed in 1.2. Please leave the normalize parameter to its default value to silence this warning. The default behavior of this estimator is to not do any normalization. If normalization is needed please use sklearn.preprocessing.StandardScaler instead.\n",
      "[flaml.automl: 09-26 15:25:16] {2648} WARNING - Time taken to find the best model is 95% of the provided time budget and not all estimators' hyperparameter search converged. Consider increasing the time budget.\n",
      "'normalize' was deprecated in version 1.0 and will be removed in 1.2. Please leave the normalize parameter to its default value to silence this warning. The default behavior of this estimator is to not do any normalization. If normalization is needed please use sklearn.preprocessing.StandardScaler instead.\n",
      "'normalize' was deprecated in version 1.0 and will be removed in 1.2. Please leave the normalize parameter to its default value to silence this warning. The default behavior of this estimator is to not do any normalization. If normalization is needed please use sklearn.preprocessing.StandardScaler instead.\n",
      "[flaml.automl: 09-26 16:25:18] {2648} WARNING - Time taken to find the best model is 72% of the provided time budget and not all estimators' hyperparameter search converged. Consider increasing the time budget.\n",
      "'normalize' was deprecated in version 1.0 and will be removed in 1.2. Please leave the normalize parameter to its default value to silence this warning. The default behavior of this estimator is to not do any normalization. If normalization is needed please use sklearn.preprocessing.StandardScaler instead.\n",
      "'normalize' was deprecated in version 1.0 and will be removed in 1.2. Please leave the normalize parameter to its default value to silence this warning. The default behavior of this estimator is to not do any normalization. If normalization is needed please use sklearn.preprocessing.StandardScaler instead.\n",
      "Criterion 'mse' was deprecated in v1.0 and will be removed in version 1.2. Use `criterion='squared_error'` which is equivalent.\n",
      "Criterion 'mse' was deprecated in v1.0 and will be removed in version 1.2. Use `criterion='squared_error'` which is equivalent.\n",
      "[flaml.tune.tune: 09-26 16:25:32] {118} INFO - result: {'energy_distance': 0.1581589010732456, 'estimator_name': 'iv.econml.iv.dr.LinearDRIV', 'scores': {'train': {'intrp': <econml.cate_interpreter._interpreters.SingleTreeCateInterpreter object at 0x2a0848f70>, 'ate': -0.0035559233085700965, 'ate_std': 4.995797566871603, 'energy_distance': 0.13261608687941884}, 'validation': {'intrp': <econml.cate_interpreter._interpreters.SingleTreeCateInterpreter object at 0x2a08553a0>, 'ate': 0.03785596103468833, 'ate_std': 4.976959592818213, 'energy_distance': 0.1581589010732456}}, 'config': {'estimator': {'estimator_name': 'iv.econml.iv.dr.LinearDRIV', 'projection': 1}}, 'training_iteration': 0, 'config/estimator': {'estimator_name': 'iv.econml.iv.dr.LinearDRIV', 'projection': 1}, 'experiment_tag': 'exp', 'time_total_s': 9621.077730894089}\n",
      "[flaml.tune.tune: 09-26 16:25:32] {506} INFO - trial 3 config: {'estimator': {'estimator_name': 'iv.econml.iv.dml.OrthoIV', 'mc_agg': 'mean'}}\n",
      "[flaml.automl: 09-26 16:45:34] {2648} WARNING - Time taken to find the best model is 75% of the provided time budget and not all estimators' hyperparameter search converged. Consider increasing the time budget.\n",
      "'normalize' was deprecated in version 1.0 and will be removed in 1.2. Please leave the normalize parameter to its default value to silence this warning. The default behavior of this estimator is to not do any normalization. If normalization is needed please use sklearn.preprocessing.StandardScaler instead.\n",
      "A column-vector y was passed when a 1d array was expected. Please change the shape of y to (n_samples, ), for example using ravel().\n",
      "[flaml.automl: 09-26 17:25:43] {2648} WARNING - Time taken to find the best model is 83% of the provided time budget and not all estimators' hyperparameter search converged. Consider increasing the time budget.\n",
      "'normalize' was deprecated in version 1.0 and will be removed in 1.2. Please leave the normalize parameter to its default value to silence this warning. The default behavior of this estimator is to not do any normalization. If normalization is needed please use sklearn.preprocessing.StandardScaler instead.\n",
      "A column-vector y was passed when a 1d array was expected. Please change the shape of y to (n_samples, ), for example using ravel().\n",
      "Criterion 'mse' was deprecated in v1.0 and will be removed in version 1.2. Use `criterion='squared_error'` which is equivalent.\n",
      "Criterion 'mse' was deprecated in v1.0 and will be removed in version 1.2. Use `criterion='squared_error'` which is equivalent.\n",
      "[flaml.tune.tune: 09-26 17:45:56] {118} INFO - result: {'energy_distance': 0.21031591646680425, 'estimator_name': 'iv.econml.iv.dml.OrthoIV', 'scores': {'train': {'intrp': <econml.cate_interpreter._interpreters.SingleTreeCateInterpreter object at 0x2a4b334f0>, 'ate': -0.004855545825924427, 'ate_std': 6.766927040595712, 'energy_distance': 0.18506868806040977}, 'validation': {'intrp': <econml.cate_interpreter._interpreters.SingleTreeCateInterpreter object at 0x2a4b338e0>, 'ate': 0.05314803313841943, 'ate_std': 6.74268731144865, 'energy_distance': 0.21031591646680425}}, 'config': {'estimator': {'estimator_name': 'iv.econml.iv.dml.OrthoIV', 'mc_agg': 'mean'}}, 'training_iteration': 0, 'config/estimator': {'estimator_name': 'iv.econml.iv.dml.OrthoIV', 'mc_agg': 'mean'}, 'experiment_tag': 'exp', 'time_total_s': 4823.991717815399}\n",
      "[flaml.tune.tune: 09-26 17:45:56] {506} INFO - trial 4 config: {'estimator': {'estimator_name': 'iv.econml.iv.dml.DMLIV', 'mc_agg': 'mean'}}\n",
      "[flaml.automl: 09-26 18:06:02] {2648} WARNING - Time taken to find the best model is 99% of the provided time budget and not all estimators' hyperparameter search converged. Consider increasing the time budget.\n",
      "[flaml.automl: 09-26 18:26:02] {2648} WARNING - Time taken to find the best model is 75% of the provided time budget and not all estimators' hyperparameter search converged. Consider increasing the time budget.\n",
      "'normalize' was deprecated in version 1.0 and will be removed in 1.2. Please leave the normalize parameter to its default value to silence this warning. The default behavior of this estimator is to not do any normalization. If normalization is needed please use sklearn.preprocessing.StandardScaler instead.\n",
      "A column-vector y was passed when a 1d array was expected. Please change the shape of y to (n_samples, ), for example using ravel().\n",
      "[flaml.automl: 09-26 18:46:04] {2648} WARNING - Time taken to find the best model is 93% of the provided time budget and not all estimators' hyperparameter search converged. Consider increasing the time budget.\n",
      "[flaml.automl: 09-26 19:06:04] {2648} WARNING - Time taken to find the best model is 76% of the provided time budget and not all estimators' hyperparameter search converged. Consider increasing the time budget.\n",
      "'normalize' was deprecated in version 1.0 and will be removed in 1.2. Please leave the normalize parameter to its default value to silence this warning. The default behavior of this estimator is to not do any normalization. If normalization is needed please use sklearn.preprocessing.StandardScaler instead.\n",
      "A column-vector y was passed when a 1d array was expected. Please change the shape of y to (n_samples, ), for example using ravel().\n",
      "Criterion 'mse' was deprecated in v1.0 and will be removed in version 1.2. Use `criterion='squared_error'` which is equivalent.\n",
      "Criterion 'mse' was deprecated in v1.0 and will be removed in version 1.2. Use `criterion='squared_error'` which is equivalent.\n",
      "[flaml.tune.tune: 09-26 19:06:29] {118} INFO - result: {'energy_distance': 0.14344045826186225, 'estimator_name': 'iv.econml.iv.dml.DMLIV', 'scores': {'train': {'intrp': <econml.cate_interpreter._interpreters.SingleTreeCateInterpreter object at 0x2c0060d30>, 'ate': 0.021411253487795687, 'ate_std': 3.1938695279181255, 'energy_distance': 0.11544437309383593}, 'validation': {'intrp': <econml.cate_interpreter._interpreters.SingleTreeCateInterpreter object at 0x2c006d160>, 'ate': 0.048397950132985285, 'ate_std': 3.182164775655745, 'energy_distance': 0.14344045826186225}}, 'config': {'estimator': {'estimator_name': 'iv.econml.iv.dml.DMLIV', 'mc_agg': 'mean'}}, 'training_iteration': 0, 'config/estimator': {'estimator_name': 'iv.econml.iv.dml.DMLIV', 'mc_agg': 'mean'}, 'experiment_tag': 'exp', 'time_total_s': 4833.570113182068}\n",
      "[flaml.tune.tune: 09-26 19:06:29] {506} INFO - trial 5 config: {'estimator': {'estimator_name': 'iv.econml.iv.dr.IntentToTreatDRIV', 'opt_reweighted': 0, 'cov_clip': 0.1, 'prel_opt_reweighted': 1, 'prel_cate_approach': 'driv'}}\n",
      "[flaml.automl: 09-26 19:26:43] {2648} WARNING - Time taken to find the best model is 99% of the provided time budget and not all estimators' hyperparameter search converged. Consider increasing the time budget.\n",
      "[flaml.automl: 09-26 19:46:45] {2648} WARNING - Time taken to find the best model is 84% of the provided time budget and not all estimators' hyperparameter search converged. Consider increasing the time budget.\n",
      "[flaml.automl: 09-26 20:27:06] {2648} WARNING - Time taken to find the best model is 82% of the provided time budget and not all estimators' hyperparameter search converged. Consider increasing the time budget.\n",
      "Function get_feature_names is deprecated; get_feature_names is deprecated in 1.0 and will be removed in 1.2. Please use get_feature_names_out instead.\n",
      "[flaml.automl: 09-26 21:07:27] {2648} WARNING - Time taken to find the best model is 84% of the provided time budget and not all estimators' hyperparameter search converged. Consider increasing the time budget.\n",
      "Function get_feature_names is deprecated; get_feature_names is deprecated in 1.0 and will be removed in 1.2. Please use get_feature_names_out instead.\n",
      "[flaml.automl: 09-26 22:07:45] {2648} WARNING - Time taken to find the best model is 100% of the provided time budget and not all estimators' hyperparameter search converged. Consider increasing the time budget.\n",
      "[flaml.automl: 09-26 22:27:46] {2648} WARNING - Time taken to find the best model is 91% of the provided time budget and not all estimators' hyperparameter search converged. Consider increasing the time budget.\n",
      "[flaml.automl: 09-26 22:47:46] {2648} WARNING - Time taken to find the best model is 93% of the provided time budget and not all estimators' hyperparameter search converged. Consider increasing the time budget.\n",
      "Function get_feature_names is deprecated; get_feature_names is deprecated in 1.0 and will be removed in 1.2. Please use get_feature_names_out instead.\n",
      "Function get_feature_names is deprecated; get_feature_names is deprecated in 1.0 and will be removed in 1.2. Please use get_feature_names_out instead.\n",
      "Criterion 'mse' was deprecated in v1.0 and will be removed in version 1.2. Use `criterion='squared_error'` which is equivalent.\n",
      "Criterion 'mse' was deprecated in v1.0 and will be removed in version 1.2. Use `criterion='squared_error'` which is equivalent.\n",
      "[flaml.tune.tune: 09-27 00:00:03] {118} INFO - result: {'energy_distance': 0.013732010545933093, 'estimator_name': 'iv.econml.iv.dr.IntentToTreatDRIV', 'scores': {'train': {'intrp': <econml.cate_interpreter._interpreters.SingleTreeCateInterpreter object at 0x3580ab190>, 'ate': 0.051055400802104856, 'ate_std': 12.573007045729193, 'energy_distance': 0.006269910593895922}, 'validation': {'intrp': <econml.cate_interpreter._interpreters.SingleTreeCateInterpreter object at 0x3580ab580>, 'ate': 0.11903764881186188, 'ate_std': 12.338407136114077, 'energy_distance': 0.013732010545933093}}, 'config': {'estimator': {'estimator_name': 'iv.econml.iv.dr.IntentToTreatDRIV', 'opt_reweighted': 0, 'cov_clip': 0.1, 'prel_opt_reweighted': 1, 'prel_cate_approach': 'driv'}}, 'training_iteration': 0, 'config/estimator': {'estimator_name': 'iv.econml.iv.dr.IntentToTreatDRIV', 'opt_reweighted': 0, 'cov_clip': 0.1, 'prel_opt_reweighted': 1, 'prel_cate_approach': 'driv'}, 'experiment_tag': 'exp', 'time_total_s': 17613.878711938858}\n"
     ]
    }
   ],
   "source": [
    "ac_linear_te = AutoCausality(\n",
    "    estimator_list=[\"SimpleIV\", \"SparseLinearDRIV\", \"DMLIV\", \"OrthoIV\", \"LinearDRIV\", \"LinearIntentToTreatDRIV\", \"ForestDRIV\", \"IntentToTreatDRIV\"],\n",
    "    verbose=3,\n",
    "    components_verbose=2,\n",
    "    time_budget=28800,\n",
    "    components_time_budget=1200,\n",
    "    propensity_model=\"auto\",\n",
    "    train_size=0.8\n",
    ")\n",
    "\n",
    "ac_linear_te.fit(df_train, treatment, outcome, features_X[2:], features_X[:2], instruments)"
   ]
  },
  {
   "cell_type": "code",
   "execution_count": 85,
   "metadata": {},
   "outputs": [],
   "source": [
    "from cProfile import label\n",
    "\n",
    "\n",
    "def get_scores(results_dict, te=TRUE_EFFECT):\n",
    "    all_scores = list()\n",
    "    for label, scores in results_dict.items():\n",
    "        val_scores = scores[\"scores\"][\"validation\"]\n",
    "        ate = val_scores[\"ate\"]\n",
    "        energy_distance = val_scores[\"energy_distance\"]\n",
    "        all_scores.append([energy_distance, (te-ate)**2])\n",
    "    return all_scores\n",
    "\n",
    "\n",
    "def all_estimator_scatter(results, best_estimators, title):\n",
    "    all_scores = get_scores(results)\n",
    "    best_scores = get_scores(best_estimators)\n",
    "    estimators = list(best_estimators.keys())\n",
    "\n",
    "    fig, ax = plt.subplots(figsize=(9, 7))\n",
    "    \n",
    "    for est in all_scores:\n",
    "        ax.scatter(est[1], est[0], c=\"gray\", label=\"_nolegend_\")\n",
    "    for i, est in enumerate(best_scores):\n",
    "        print(est)\n",
    "        ax.scatter(est[1], est[0], label=estimators[i])\n",
    "    \n",
    "    ax.set_ylabel(\"test score\")\n",
    "    ax.set_xlabel(\"MSE\")\n",
    "    ax.set_title(\"energy_distance\")\n",
    "    ax.legend()\n",
    "    plt.show()"
   ]
  },
  {
   "cell_type": "markdown",
   "metadata": {},
   "source": [
    "Here, we compare the best run(s) - orange dots - for the selected estimator(s), compared with intermediate runs - grey dots."
   ]
  },
  {
   "cell_type": "code",
   "execution_count": 86,
   "metadata": {},
   "outputs": [
    {
     "name": "stdout",
     "output_type": "stream",
     "text": [
      "[0.22867408617253382, 43.22900215509673]\n",
      "[0.14344045826186225, 44.243809829795076]\n",
      "[0.21031591646680425, 44.18064106937167]\n",
      "[0.013732010545933093, 43.309065467755715]\n",
      "[0.1581589010732456, 44.38416319592103]\n"
     ]
    },
    {
     "data": {
      "image/png": "[encoded data removed]",
      "text/plain": [
       "<Figure size 900x700 with 1 Axes>"
      ]
     },
     "metadata": {},
     "output_type": "display_data"
    }
   ],
   "source": [
    "all_estimator_scatter(\n",
    "    ac_linear_te.results.results,\n",
    "    ac_linear_te.scores,\n",
    "    title=\"linear_cate\"\n",
    ")"
   ]
  },
  {
   "cell_type": "code",
   "execution_count": 64,
   "metadata": {},
   "outputs": [
    {
     "data": {
      "text/html": [
       "<div>\n",
       "<style scoped>\n",
       "    .dataframe tbody tr th:only-of-type {\n",
       "        vertical-align: middle;\n",
       "    }\n",
       "\n",
       "    .dataframe tbody tr th {\n",
       "        vertical-align: top;\n",
       "    }\n",
       "\n",
       "    .dataframe thead th {\n",
       "        text-align: right;\n",
       "    }\n",
       "</style>\n",
       "<table border=\"1\" class=\"dataframe\">\n",
       "  <thead>\n",
       "    <tr style=\"text-align: right;\">\n",
       "      <th></th>\n",
       "      <th>estimator</th>\n",
       "      <th>estimated_effect</th>\n",
       "      <th>ate_mse</th>\n",
       "      <th>energy_distance</th>\n",
       "    </tr>\n",
       "  </thead>\n",
       "  <tbody>\n",
       "    <tr>\n",
       "      <th>0</th>\n",
       "      <td>iv.auto_causality.models.SimpleIV</td>\n",
       "      <td>0.125123</td>\n",
       "      <td>43.229002</td>\n",
       "      <td>0.208813</td>\n",
       "    </tr>\n",
       "    <tr>\n",
       "      <th>1</th>\n",
       "      <td>iv.econml.iv.dml.DMLIV</td>\n",
       "      <td>-0.017493</td>\n",
       "      <td>45.124719</td>\n",
       "      <td>0.130863</td>\n",
       "    </tr>\n",
       "    <tr>\n",
       "      <th>2</th>\n",
       "      <td>iv.econml.iv.dml.OrthoIV</td>\n",
       "      <td>-0.086598</td>\n",
       "      <td>46.057914</td>\n",
       "      <td>0.199842</td>\n",
       "    </tr>\n",
       "    <tr>\n",
       "      <th>3</th>\n",
       "      <td>iv.econml.iv.dr.IntentToTreatDRIV</td>\n",
       "      <td>-0.026285</td>\n",
       "      <td>45.242911</td>\n",
       "      <td>0.011017</td>\n",
       "    </tr>\n",
       "    <tr>\n",
       "      <th>4</th>\n",
       "      <td>iv.econml.iv.dr.LinearDRIV</td>\n",
       "      <td>-0.065063</td>\n",
       "      <td>45.766084</td>\n",
       "      <td>0.148137</td>\n",
       "    </tr>\n",
       "  </tbody>\n",
       "</table>\n",
       "</div>"
      ],
      "text/plain": [
       "                           estimator  estimated_effect    ate_mse  \\\n",
       "0  iv.auto_causality.models.SimpleIV          0.125123  43.229002   \n",
       "1             iv.econml.iv.dml.DMLIV         -0.017493  45.124719   \n",
       "2           iv.econml.iv.dml.OrthoIV         -0.086598  46.057914   \n",
       "3  iv.econml.iv.dr.IntentToTreatDRIV         -0.026285  45.242911   \n",
       "4         iv.econml.iv.dr.LinearDRIV         -0.065063  45.766084   \n",
       "\n",
       "   energy_distance  \n",
       "0         0.208813  \n",
       "1         0.130863  \n",
       "2         0.199842  \n",
       "3         0.011017  \n",
       "4         0.148137  "
      ]
     },
     "execution_count": 64,
     "metadata": {},
     "output_type": "execute_result"
    }
   ],
   "source": [
    "Xtest = test_df[features_X[:2]]\n",
    "get_est_effects(ac_linear_te, Xtest)"
   ]
  },
  {
   "cell_type": "code",
   "execution_count": 60,
   "metadata": {
    "collapsed": false,
    "pycharm": {
     "name": "#%%\n"
    }
   },
   "outputs": [
    {
     "ename": "KeyError",
     "evalue": "'test'",
     "output_type": "error",
     "traceback": [
      "\u001b[0;31m---------------------------------------------------------------------------\u001b[0m",
      "\u001b[0;31mKeyError\u001b[0m                                  Traceback (most recent call last)",
      "Cell \u001b[0;32mIn [60], line 2\u001b[0m\n\u001b[1;32m      1\u001b[0m score_all_test(ac_linear_te, df_test)\n\u001b[0;32m----> 2\u001b[0m \u001b[43mget_est_effects\u001b[49m\u001b[43m(\u001b[49m\u001b[43mac_linear_te\u001b[49m\u001b[43m,\u001b[49m\u001b[43m \u001b[49m\u001b[43mXtest\u001b[49m\u001b[43m)\u001b[49m\n\u001b[1;32m      3\u001b[0m graph_compare_estimators(ac_linear_te)\n",
      "Cell \u001b[0;32mIn [58], line 5\u001b[0m, in \u001b[0;36mget_est_effects\u001b[0;34m(models, test_x, te)\u001b[0m\n\u001b[1;32m      3\u001b[0m \u001b[38;5;28;01mfor\u001b[39;00m est_name, scr \u001b[38;5;129;01min\u001b[39;00m models\u001b[38;5;241m.\u001b[39mscores\u001b[38;5;241m.\u001b[39mitems():\n\u001b[1;32m      4\u001b[0m     est_effect \u001b[38;5;241m=\u001b[39m scr[\u001b[38;5;124m\"\u001b[39m\u001b[38;5;124mestimator\u001b[39m\u001b[38;5;124m\"\u001b[39m]\u001b[38;5;241m.\u001b[39mestimator\u001b[38;5;241m.\u001b[39meffect(test_x)\u001b[38;5;241m.\u001b[39mmean()\n\u001b[0;32m----> 5\u001b[0m     energy_distance \u001b[38;5;241m=\u001b[39m \u001b[43mscr\u001b[49m\u001b[43m[\u001b[49m\u001b[38;5;124;43m\"\u001b[39;49m\u001b[38;5;124;43mtest\u001b[39;49m\u001b[38;5;124;43m\"\u001b[39;49m\u001b[43m]\u001b[49m[\u001b[38;5;124m\"\u001b[39m\u001b[38;5;124menergy_distance\u001b[39m\u001b[38;5;124m\"\u001b[39m]\n\u001b[1;32m      6\u001b[0m     est_scores\u001b[38;5;241m.\u001b[39mappend([est_name, est_effect, (est_effect\u001b[38;5;241m-\u001b[39mte)\u001b[38;5;241m*\u001b[39m\u001b[38;5;241m*\u001b[39m\u001b[38;5;241m2\u001b[39m, energy_distance])\n\u001b[1;32m      8\u001b[0m \u001b[38;5;28;01mreturn\u001b[39;00m pd\u001b[38;5;241m.\u001b[39mDataFrame(est_scores, columns\u001b[38;5;241m=\u001b[39m[\u001b[38;5;124m\"\u001b[39m\u001b[38;5;124mestimator\u001b[39m\u001b[38;5;124m\"\u001b[39m, \u001b[38;5;124m\"\u001b[39m\u001b[38;5;124mestimated_effect\u001b[39m\u001b[38;5;124m\"\u001b[39m, \u001b[38;5;124m\"\u001b[39m\u001b[38;5;124mate_mse\u001b[39m\u001b[38;5;124m\"\u001b[39m, \u001b[38;5;124m\"\u001b[39m\u001b[38;5;124menergy_distance\u001b[39m\u001b[38;5;124m\"\u001b[39m])\n",
      "\u001b[0;31mKeyError\u001b[0m: 'test'"
     ]
    }
   ],
   "source": [
    "score_all_test(ac_linear_te, df_test)\n",
    "get_est_effects(ac_linear_te, Xtest)\n",
    "graph_compare_estimators(ac_linear_te)"
   ]
  },
  {
   "cell_type": "code",
   "execution_count": 66,
   "metadata": {},
   "outputs": [
    {
     "ename": "AttributeError",
     "evalue": "Can't pickle local object 'AutoCausality.fit.<locals>.<lambda>'",
     "output_type": "error",
     "traceback": [
      "\u001b[0;31m---------------------------------------------------------------------------\u001b[0m",
      "\u001b[0;31mAttributeError\u001b[0m                            Traceback (most recent call last)",
      "Cell \u001b[0;32mIn [66], line 4\u001b[0m\n\u001b[1;32m      1\u001b[0m \u001b[38;5;28;01mimport\u001b[39;00m \u001b[38;5;21;01mpickle\u001b[39;00m\n\u001b[1;32m      3\u001b[0m \u001b[38;5;28;01mwith\u001b[39;00m \u001b[38;5;28mopen\u001b[39m(\u001b[38;5;124m\"\u001b[39m\u001b[38;5;124m8h_80K.pkl\u001b[39m\u001b[38;5;124m\"\u001b[39m, \u001b[38;5;124m\"\u001b[39m\u001b[38;5;124mwb\u001b[39m\u001b[38;5;124m\"\u001b[39m) \u001b[38;5;28;01mas\u001b[39;00m f:\n\u001b[0;32m----> 4\u001b[0m     \u001b[43mpickle\u001b[49m\u001b[38;5;241;43m.\u001b[39;49m\u001b[43mdump\u001b[49m\u001b[43m(\u001b[49m\u001b[43mac_linear_te\u001b[49m\u001b[43m,\u001b[49m\u001b[43m \u001b[49m\u001b[43mf\u001b[49m\u001b[43m)\u001b[49m\n",
      "\u001b[0;31mAttributeError\u001b[0m: Can't pickle local object 'AutoCausality.fit.<locals>.<lambda>'"
     ]
    }
   ],
   "source": [
    "import pickle\n",
    "\n",
    "with open(\"8h_80K.pkl\", \"wb\") as f:\n",
    "    pickle.dump(ac_linear_te, f)"
   ]
  },
  {
   "cell_type": "markdown",
   "metadata": {
    "collapsed": false,
    "pycharm": {
     "name": "#%% md\n"
    }
   },
   "source": [
    "### Model Fitting (3): Non-linear Heterogeneous Treatment Effect\n",
    "\n",
    "Finally we explore non-linear heterogeneous treatment effects with the function below:\n",
    "\n",
    "\\begin{align}\n",
    "\\theta = \\; & 7.5  \\cdot   (X[2] + X[7]) \\tag{ATE}\\\\\n",
    "\\end{align}\n"
   ]
  },
  {
   "cell_type": "code",
   "execution_count": 30,
   "metadata": {
    "collapsed": false,
    "pycharm": {
     "name": "#%%\n"
    }
   },
   "outputs": [
    {
     "data": {
      "text/html": [
       "<div>\n",
       "<style scoped>\n",
       "    .dataframe tbody tr th:only-of-type {\n",
       "        vertical-align: middle;\n",
       "    }\n",
       "\n",
       "    .dataframe tbody tr th {\n",
       "        vertical-align: top;\n",
       "    }\n",
       "\n",
       "    .dataframe thead th {\n",
       "        text-align: right;\n",
       "    }\n",
       "</style>\n",
       "<table border=\"1\" class=\"dataframe\">\n",
       "  <thead>\n",
       "    <tr style=\"text-align: right;\">\n",
       "      <th></th>\n",
       "      <th>treatment</th>\n",
       "      <th>y</th>\n",
       "      <th>Z</th>\n",
       "      <th>x1</th>\n",
       "      <th>x2</th>\n",
       "      <th>x3</th>\n",
       "      <th>x4</th>\n",
       "      <th>x5</th>\n",
       "      <th>x6</th>\n",
       "      <th>x7</th>\n",
       "      <th>x8</th>\n",
       "      <th>x9</th>\n",
       "      <th>x10</th>\n",
       "      <th>x11</th>\n",
       "      <th>x12</th>\n",
       "      <th>x13</th>\n",
       "      <th>x14</th>\n",
       "      <th>x15</th>\n",
       "      <th>random</th>\n",
       "    </tr>\n",
       "  </thead>\n",
       "  <tbody>\n",
       "    <tr>\n",
       "      <th>1749</th>\n",
       "      <td>0.0</td>\n",
       "      <td>7.962746</td>\n",
       "      <td>0.0</td>\n",
       "      <td>-0.930624</td>\n",
       "      <td>1.162991</td>\n",
       "      <td>0.729456</td>\n",
       "      <td>-0.273677</td>\n",
       "      <td>0.689983</td>\n",
       "      <td>-0.542694</td>\n",
       "      <td>0.342018</td>\n",
       "      <td>-0.986162</td>\n",
       "      <td>0.334147</td>\n",
       "      <td>-0.522664</td>\n",
       "      <td>-0.760399</td>\n",
       "      <td>-0.696916</td>\n",
       "      <td>-0.250714</td>\n",
       "      <td>-0.925333</td>\n",
       "      <td>-0.308684</td>\n",
       "      <td>0.0</td>\n",
       "    </tr>\n",
       "    <tr>\n",
       "      <th>8753</th>\n",
       "      <td>0.0</td>\n",
       "      <td>7.466413</td>\n",
       "      <td>1.0</td>\n",
       "      <td>0.098788</td>\n",
       "      <td>0.561751</td>\n",
       "      <td>1.067532</td>\n",
       "      <td>-0.954808</td>\n",
       "      <td>0.157062</td>\n",
       "      <td>-1.942514</td>\n",
       "      <td>-1.290649</td>\n",
       "      <td>-1.146356</td>\n",
       "      <td>-0.172148</td>\n",
       "      <td>0.545423</td>\n",
       "      <td>-0.239812</td>\n",
       "      <td>-0.914031</td>\n",
       "      <td>-0.801335</td>\n",
       "      <td>2.295311</td>\n",
       "      <td>-2.074314</td>\n",
       "      <td>1.0</td>\n",
       "    </tr>\n",
       "    <tr>\n",
       "      <th>2376</th>\n",
       "      <td>0.0</td>\n",
       "      <td>3.807416</td>\n",
       "      <td>0.0</td>\n",
       "      <td>1.211798</td>\n",
       "      <td>0.320737</td>\n",
       "      <td>0.285181</td>\n",
       "      <td>-0.475356</td>\n",
       "      <td>1.627070</td>\n",
       "      <td>-0.820177</td>\n",
       "      <td>0.193067</td>\n",
       "      <td>-0.743845</td>\n",
       "      <td>0.394570</td>\n",
       "      <td>0.736218</td>\n",
       "      <td>0.934503</td>\n",
       "      <td>1.313644</td>\n",
       "      <td>1.574028</td>\n",
       "      <td>-1.220983</td>\n",
       "      <td>-0.814131</td>\n",
       "      <td>1.0</td>\n",
       "    </tr>\n",
       "    <tr>\n",
       "      <th>5866</th>\n",
       "      <td>0.0</td>\n",
       "      <td>12.620029</td>\n",
       "      <td>0.0</td>\n",
       "      <td>1.142354</td>\n",
       "      <td>0.262738</td>\n",
       "      <td>0.939899</td>\n",
       "      <td>0.564811</td>\n",
       "      <td>0.365819</td>\n",
       "      <td>0.764096</td>\n",
       "      <td>-1.760255</td>\n",
       "      <td>-0.410142</td>\n",
       "      <td>1.154539</td>\n",
       "      <td>-0.685998</td>\n",
       "      <td>0.255347</td>\n",
       "      <td>0.375952</td>\n",
       "      <td>-0.738155</td>\n",
       "      <td>-0.735688</td>\n",
       "      <td>0.734578</td>\n",
       "      <td>0.0</td>\n",
       "    </tr>\n",
       "    <tr>\n",
       "      <th>7097</th>\n",
       "      <td>0.0</td>\n",
       "      <td>13.829594</td>\n",
       "      <td>0.0</td>\n",
       "      <td>0.037404</td>\n",
       "      <td>-0.237903</td>\n",
       "      <td>-0.971907</td>\n",
       "      <td>1.921247</td>\n",
       "      <td>-1.191215</td>\n",
       "      <td>-0.365760</td>\n",
       "      <td>0.824570</td>\n",
       "      <td>-0.665056</td>\n",
       "      <td>0.294414</td>\n",
       "      <td>-0.598442</td>\n",
       "      <td>-1.346559</td>\n",
       "      <td>-0.393804</td>\n",
       "      <td>0.444747</td>\n",
       "      <td>-0.322192</td>\n",
       "      <td>1.439316</td>\n",
       "      <td>1.0</td>\n",
       "    </tr>\n",
       "  </tbody>\n",
       "</table>\n",
       "</div>"
      ],
      "text/plain": [
       "      treatment          y    Z        x1        x2        x3        x4  \\\n",
       "1749        0.0   7.962746  0.0 -0.930624  1.162991  0.729456 -0.273677   \n",
       "8753        0.0   7.466413  1.0  0.098788  0.561751  1.067532 -0.954808   \n",
       "2376        0.0   3.807416  0.0  1.211798  0.320737  0.285181 -0.475356   \n",
       "5866        0.0  12.620029  0.0  1.142354  0.262738  0.939899  0.564811   \n",
       "7097        0.0  13.829594  0.0  0.037404 -0.237903 -0.971907  1.921247   \n",
       "\n",
       "            x5        x6        x7        x8        x9       x10       x11  \\\n",
       "1749  0.689983 -0.542694  0.342018 -0.986162  0.334147 -0.522664 -0.760399   \n",
       "8753  0.157062 -1.942514 -1.290649 -1.146356 -0.172148  0.545423 -0.239812   \n",
       "2376  1.627070 -0.820177  0.193067 -0.743845  0.394570  0.736218  0.934503   \n",
       "5866  0.365819  0.764096 -1.760255 -0.410142  1.154539 -0.685998  0.255347   \n",
       "7097 -1.191215 -0.365760  0.824570 -0.665056  0.294414 -0.598442 -1.346559   \n",
       "\n",
       "           x12       x13       x14       x15  random  \n",
       "1749 -0.696916 -0.250714 -0.925333 -0.308684     0.0  \n",
       "8753 -0.914031 -0.801335  2.295311 -2.074314     1.0  \n",
       "2376  1.313644  1.574028 -1.220983 -0.814131     1.0  \n",
       "5866  0.375952 -0.738155 -0.735688  0.734578     0.0  \n",
       "7097 -0.393804  0.444747 -0.322192  1.439316     1.0  "
      ]
     },
     "execution_count": 30,
     "metadata": {},
     "output_type": "execute_result"
    }
   ],
   "source": [
    "QUADRATIC_EFFECT = lambda X: TRUE_EFFECT * (X[:, 2] ** 2) * (X[:, 7] ** 3) \n",
    "\n",
    "data = iv_dgp_econml(n=10000, p=15, true_effect=QUADRATIC_EFFECT)\n",
    "data_df, features_X, features_W = preprocess_dataset(\n",
    "    data, treatment, targets, instruments\n",
    ")\n",
    "outcome = targets[0]\n",
    "train_df, test_df = train_test_split(data_df, test_size=0.3)\n",
    "Xtest = test_df[features_X]\n",
    "train_df.head()"
   ]
  },
  {
   "cell_type": "code",
   "execution_count": 31,
   "metadata": {
    "collapsed": false,
    "pycharm": {
     "name": "#%%\n"
    }
   },
   "outputs": [
    {
     "name": "stdout",
     "output_type": "stream",
     "text": [
      "Fitting a Propensity-Weighted scoring estimator to be used in scoring tasks\n"
     ]
    },
    {
     "name": "stderr",
     "output_type": "stream",
     "text": [
      "[flaml.tune.tune: 09-20 22:45:29] {375} WARNING - Using CFO for search. To use BlendSearch, run: pip install flaml[blendsearch]\n",
      "[flaml.tune.tune: 09-20 22:45:29] {506} INFO - trial 1 config: {'estimator': {'estimator_name': 'iv.auto_causality.models.SimpleIV'}}\n"
     ]
    },
    {
     "name": "stdout",
     "output_type": "stream",
     "text": [
      "Initial configs: [{'estimator': {'estimator_name': 'iv.auto_causality.models.SimpleIV'}}, {'estimator': {'estimator_name': 'iv.econml.iv.dr.LinearDRIV', 'projection': True}}, {'estimator': {'estimator_name': 'iv.econml.iv.dml.OrthoIV', 'mc_agg': 'mean'}}, {'estimator': {'estimator_name': 'iv.econml.iv.dml.DMLIV', 'mc_agg': 'mean'}}, {'estimator': {'estimator_name': 'iv.econml.iv.dr.IntentToTreatDRIV', 'opt_reweighted': 0, 'cov_clip': 0.1, 'prel_opt_reweighted': 1, 'prel_cate_approach': 'driv'}}, {'estimator': {'estimator_name': 'iv.econml.iv.dr.SparseLinearDRIV', 'projection': 0, 'opt_reweighted': 0, 'cov_clip': 0.1}}, {'estimator': {'estimator_name': 'iv.econml.iv.dr.ForestDRIV', 'projection': 0, 'opt_reweighted': 0, 'cov_clip': 0.1, 'min_samples_split': 2}}, {'estimator': {'estimator_name': 'iv.econml.iv.dr.LinearIntentToTreatDRIV', 'cov_clip': 0.1, 'opt_reweighted': 1}}]\n"
     ]
    },
    {
     "name": "stderr",
     "output_type": "stream",
     "text": [
      "RuntimeError: module compiled against API version 0xf but this version of numpy is 0xe\n",
      "OMP: Info #276: omp_set_nested routine deprecated, please use omp_set_max_active_levels instead.\n",
      "Criterion 'mse' was deprecated in v1.0 and will be removed in version 1.2. Use `criterion='squared_error'` which is equivalent.\n",
      "Criterion 'mse' was deprecated in v1.0 and will be removed in version 1.2. Use `criterion='squared_error'` which is equivalent.\n",
      "[flaml.tune.tune: 09-20 22:45:33] {118} INFO - result: {'energy_distance': 0.5016108513784632, 'estimator_name': 'iv.auto_causality.models.SimpleIV', 'scores': {'train': {'intrp': <econml.cate_interpreter._interpreters.SingleTreeCateInterpreter object at 0x1665569d0>, 'ate': -1.8753958940505981, 'ate_std': 0.0, 'energy_distance': 0.4150975522394269}, 'validation': {'intrp': <econml.cate_interpreter._interpreters.SingleTreeCateInterpreter object at 0x166556b20>, 'ate': -1.8753958940505981, 'ate_std': 0.0, 'energy_distance': 0.5016108513784632}}, 'config': {'estimator': {'estimator_name': 'iv.auto_causality.models.SimpleIV'}}, 'training_iteration': 0, 'config/estimator': {'estimator_name': 'iv.auto_causality.models.SimpleIV'}, 'experiment_tag': 'exp', 'time_total_s': 3.217961072921753}\n",
      "[flaml.tune.tune: 09-20 22:45:33] {506} INFO - trial 2 config: {'estimator': {'estimator_name': 'iv.econml.iv.dr.LinearDRIV', 'projection': 1}}\n",
      "RuntimeError: module compiled against API version 0xf but this version of numpy is 0xe\n",
      "OMP: Info #276: omp_set_nested routine deprecated, please use omp_set_max_active_levels instead.\n",
      "'normalize' was deprecated in version 1.0 and will be removed in 1.2. Please leave the normalize parameter to its default value to silence this warning. The default behavior of this estimator is to not do any normalization. If normalization is needed please use sklearn.preprocessing.StandardScaler instead.\n",
      "'normalize' was deprecated in version 1.0 and will be removed in 1.2. Please leave the normalize parameter to its default value to silence this warning. The default behavior of this estimator is to not do any normalization. If normalization is needed please use sklearn.preprocessing.StandardScaler instead.\n",
      "'normalize' was deprecated in version 1.0 and will be removed in 1.2. Please leave the normalize parameter to its default value to silence this warning. The default behavior of this estimator is to not do any normalization. If normalization is needed please use sklearn.preprocessing.StandardScaler instead.\n",
      "'normalize' was deprecated in version 1.0 and will be removed in 1.2. Please leave the normalize parameter to its default value to silence this warning. The default behavior of this estimator is to not do any normalization. If normalization is needed please use sklearn.preprocessing.StandardScaler instead.\n",
      "[flaml.automl: 09-20 22:48:35] {2648} WARNING - Time taken to find the best model is 78% of the provided time budget and not all estimators' hyperparameter search converged. Consider increasing the time budget.\n",
      "'normalize' was deprecated in version 1.0 and will be removed in 1.2. Please leave the normalize parameter to its default value to silence this warning. The default behavior of this estimator is to not do any normalization. If normalization is needed please use sklearn.preprocessing.StandardScaler instead.\n",
      "'normalize' was deprecated in version 1.0 and will be removed in 1.2. Please leave the normalize parameter to its default value to silence this warning. The default behavior of this estimator is to not do any normalization. If normalization is needed please use sklearn.preprocessing.StandardScaler instead.\n",
      "'normalize' was deprecated in version 1.0 and will be removed in 1.2. Please leave the normalize parameter to its default value to silence this warning. The default behavior of this estimator is to not do any normalization. If normalization is needed please use sklearn.preprocessing.StandardScaler instead.\n",
      "'normalize' was deprecated in version 1.0 and will be removed in 1.2. Please leave the normalize parameter to its default value to silence this warning. The default behavior of this estimator is to not do any normalization. If normalization is needed please use sklearn.preprocessing.StandardScaler instead.\n",
      "Criterion 'mse' was deprecated in v1.0 and will be removed in version 1.2. Use `criterion='squared_error'` which is equivalent.\n",
      "Criterion 'mse' was deprecated in v1.0 and will be removed in version 1.2. Use `criterion='squared_error'` which is equivalent.\n",
      "[flaml.tune.tune: 09-20 22:49:35] {118} INFO - result: {'energy_distance': 0.6138058620651119, 'estimator_name': 'iv.econml.iv.dr.LinearDRIV', 'scores': {'train': {'intrp': <econml.cate_interpreter._interpreters.SingleTreeCateInterpreter object at 0x1656e7790>, 'ate': -0.10579273917598365, 'ate_std': 12.725515230977695, 'energy_distance': 0.5449777414462789}, 'validation': {'intrp': <econml.cate_interpreter._interpreters.SingleTreeCateInterpreter object at 0x1656e7b20>, 'ate': -0.21253026957793786, 'ate_std': 12.450351290106363, 'energy_distance': 0.6138058620651119}}, 'config': {'estimator': {'estimator_name': 'iv.econml.iv.dr.LinearDRIV', 'projection': 1}}, 'training_iteration': 0, 'config/estimator': {'estimator_name': 'iv.econml.iv.dr.LinearDRIV', 'projection': 1}, 'experiment_tag': 'exp', 'time_total_s': 242.5850429534912}\n",
      "[flaml.tune.tune: 09-20 22:49:35] {506} INFO - trial 3 config: {'estimator': {'estimator_name': 'iv.econml.iv.dml.OrthoIV', 'mc_agg': 'mean'}}\n",
      "'normalize' was deprecated in version 1.0 and will be removed in 1.2. Please leave the normalize parameter to its default value to silence this warning. The default behavior of this estimator is to not do any normalization. If normalization is needed please use sklearn.preprocessing.StandardScaler instead.\n",
      "A column-vector y was passed when a 1d array was expected. Please change the shape of y to (n_samples, ), for example using ravel().\n",
      "[flaml.automl: 09-20 22:51:05] {2648} WARNING - Time taken to find the best model is 82% of the provided time budget and not all estimators' hyperparameter search converged. Consider increasing the time budget.\n",
      "'normalize' was deprecated in version 1.0 and will be removed in 1.2. Please leave the normalize parameter to its default value to silence this warning. The default behavior of this estimator is to not do any normalization. If normalization is needed please use sklearn.preprocessing.StandardScaler instead.\n",
      "A column-vector y was passed when a 1d array was expected. Please change the shape of y to (n_samples, ), for example using ravel().\n",
      "Criterion 'mse' was deprecated in v1.0 and will be removed in version 1.2. Use `criterion='squared_error'` which is equivalent.\n",
      "Criterion 'mse' was deprecated in v1.0 and will be removed in version 1.2. Use `criterion='squared_error'` which is equivalent.\n",
      "[flaml.tune.tune: 09-20 22:51:36] {118} INFO - result: {'energy_distance': 1.565847203505725, 'estimator_name': 'iv.econml.iv.dml.OrthoIV', 'scores': {'train': {'intrp': <econml.cate_interpreter._interpreters.SingleTreeCateInterpreter object at 0x168442d00>, 'ate': -0.32153864697866724, 'ate_std': 20.898660527217626, 'energy_distance': 1.3864928822994003}, 'validation': {'intrp': <econml.cate_interpreter._interpreters.SingleTreeCateInterpreter object at 0x16760a0d0>, 'ate': -0.5094730423259869, 'ate_std': 20.456252930531367, 'energy_distance': 1.565847203505725}}, 'config': {'estimator': {'estimator_name': 'iv.econml.iv.dml.OrthoIV', 'mc_agg': 'mean'}}, 'training_iteration': 0, 'config/estimator': {'estimator_name': 'iv.econml.iv.dml.OrthoIV', 'mc_agg': 'mean'}, 'experiment_tag': 'exp', 'time_total_s': 120.46908521652222}\n",
      "[flaml.tune.tune: 09-20 22:51:36] {506} INFO - trial 4 config: {'estimator': {'estimator_name': 'iv.econml.iv.dml.DMLIV', 'mc_agg': 'mean'}}\n",
      "'normalize' was deprecated in version 1.0 and will be removed in 1.2. Please leave the normalize parameter to its default value to silence this warning. The default behavior of this estimator is to not do any normalization. If normalization is needed please use sklearn.preprocessing.StandardScaler instead.\n",
      "A column-vector y was passed when a 1d array was expected. Please change the shape of y to (n_samples, ), for example using ravel().\n",
      "'normalize' was deprecated in version 1.0 and will be removed in 1.2. Please leave the normalize parameter to its default value to silence this warning. The default behavior of this estimator is to not do any normalization. If normalization is needed please use sklearn.preprocessing.StandardScaler instead.\n",
      "A column-vector y was passed when a 1d array was expected. Please change the shape of y to (n_samples, ), for example using ravel().\n",
      "Criterion 'mse' was deprecated in v1.0 and will be removed in version 1.2. Use `criterion='squared_error'` which is equivalent.\n",
      "Criterion 'mse' was deprecated in v1.0 and will be removed in version 1.2. Use `criterion='squared_error'` which is equivalent.\n",
      "[flaml.tune.tune: 09-20 22:53:36] {118} INFO - result: {'energy_distance': 0.7926837058367573, 'estimator_name': 'iv.econml.iv.dml.DMLIV', 'scores': {'train': {'intrp': <econml.cate_interpreter._interpreters.SingleTreeCateInterpreter object at 0x16e0779d0>, 'ate': -0.23454901578432336, 'ate_std': 14.674266245808516, 'energy_distance': 0.7078769096636268}, 'validation': {'intrp': <econml.cate_interpreter._interpreters.SingleTreeCateInterpreter object at 0x16e077fd0>, 'ate': -0.3723950899659995, 'ate_std': 14.408637797292585, 'energy_distance': 0.7926837058367573}}, 'config': {'estimator': {'estimator_name': 'iv.econml.iv.dml.DMLIV', 'mc_agg': 'mean'}}, 'training_iteration': 0, 'config/estimator': {'estimator_name': 'iv.econml.iv.dml.DMLIV', 'mc_agg': 'mean'}, 'experiment_tag': 'exp', 'time_total_s': 120.5170030593872}\n",
      "[flaml.tune.tune: 09-20 22:53:36] {506} INFO - trial 5 config: {'estimator': {'estimator_name': 'iv.econml.iv.dr.IntentToTreatDRIV', 'opt_reweighted': 0, 'cov_clip': 0.1, 'prel_opt_reweighted': 1, 'prel_cate_approach': 'driv'}}\n",
      "Function get_feature_names is deprecated; get_feature_names is deprecated in 1.0 and will be removed in 1.2. Please use get_feature_names_out instead.\n",
      "[flaml.automl: 09-20 22:56:07] {2648} WARNING - Time taken to find the best model is 93% of the provided time budget and not all estimators' hyperparameter search converged. Consider increasing the time budget.\n",
      "[flaml.automl: 09-20 22:57:07] {2648} WARNING - Time taken to find the best model is 95% of the provided time budget and not all estimators' hyperparameter search converged. Consider increasing the time budget.\n",
      "Function get_feature_names is deprecated; get_feature_names is deprecated in 1.0 and will be removed in 1.2. Please use get_feature_names_out instead.\n",
      "[flaml.automl: 09-20 22:58:37] {2648} WARNING - Time taken to find the best model is 85% of the provided time budget and not all estimators' hyperparameter search converged. Consider increasing the time budget.\n",
      "[flaml.automl: 09-20 22:59:07] {2648} WARNING - Time taken to find the best model is 98% of the provided time budget and not all estimators' hyperparameter search converged. Consider increasing the time budget.\n",
      "Function get_feature_names is deprecated; get_feature_names is deprecated in 1.0 and will be removed in 1.2. Please use get_feature_names_out instead.\n",
      "Function get_feature_names is deprecated; get_feature_names is deprecated in 1.0 and will be removed in 1.2. Please use get_feature_names_out instead.\n",
      "Criterion 'mse' was deprecated in v1.0 and will be removed in version 1.2. Use `criterion='squared_error'` which is equivalent.\n",
      "Criterion 'mse' was deprecated in v1.0 and will be removed in version 1.2. Use `criterion='squared_error'` which is equivalent.\n",
      "[flaml.tune.tune: 09-20 23:00:07] {118} INFO - result: {'energy_distance': 0.2796398227682779, 'estimator_name': 'iv.econml.iv.dr.IntentToTreatDRIV', 'scores': {'train': {'intrp': <econml.cate_interpreter._interpreters.SingleTreeCateInterpreter object at 0x167edc040>, 'ate': -0.8290490647353717, 'ate_std': 54.794833908010624, 'energy_distance': 0.21572983933623568}, 'validation': {'intrp': <econml.cate_interpreter._interpreters.SingleTreeCateInterpreter object at 0x167edc340>, 'ate': -0.6297171392213543, 'ate_std': 40.026848715573855, 'energy_distance': 0.2796398227682779}}, 'config': {'estimator': {'estimator_name': 'iv.econml.iv.dr.IntentToTreatDRIV', 'opt_reweighted': 0, 'cov_clip': 0.1, 'prel_opt_reweighted': 1, 'prel_cate_approach': 'driv'}}, 'training_iteration': 0, 'config/estimator': {'estimator_name': 'iv.econml.iv.dr.IntentToTreatDRIV', 'opt_reweighted': 0, 'cov_clip': 0.1, 'prel_opt_reweighted': 1, 'prel_cate_approach': 'driv'}, 'experiment_tag': 'exp', 'time_total_s': 391.26474618911743}\n"
     ]
    }
   ],
   "source": [
    "ac_quad_te = AutoCausality(\n",
    "    estimator_list=estimator_list,\n",
    "    verbose=3,\n",
    "    components_verbose=2,\n",
    "    components_time_budget=30,\n",
    "    propensity_model=\"auto\",\n",
    "    train_size=0.8\n",
    ")\n",
    "\n",
    "ac_quad_te.fit(train_df, treatment, outcome, features_W, features_X, instruments)\n"
   ]
  },
  {
   "cell_type": "code",
   "execution_count": 33,
   "metadata": {
    "collapsed": false,
    "pycharm": {
     "name": "#%%\n"
    }
   },
   "outputs": [
    {
     "data": {
      "text/html": [
       "<div>\n",
       "<style scoped>\n",
       "    .dataframe tbody tr th:only-of-type {\n",
       "        vertical-align: middle;\n",
       "    }\n",
       "\n",
       "    .dataframe tbody tr th {\n",
       "        vertical-align: top;\n",
       "    }\n",
       "\n",
       "    .dataframe thead th {\n",
       "        text-align: right;\n",
       "    }\n",
       "</style>\n",
       "<table border=\"1\" class=\"dataframe\">\n",
       "  <thead>\n",
       "    <tr style=\"text-align: right;\">\n",
       "      <th></th>\n",
       "      <th>estimator</th>\n",
       "      <th>estimated_effect</th>\n",
       "      <th>ate_mse</th>\n",
       "    </tr>\n",
       "  </thead>\n",
       "  <tbody>\n",
       "    <tr>\n",
       "      <th>0</th>\n",
       "      <td>iv.auto_causality.models.SimpleIV</td>\n",
       "      <td>-1.875396</td>\n",
       "      <td>87.898048</td>\n",
       "    </tr>\n",
       "    <tr>\n",
       "      <th>1</th>\n",
       "      <td>iv.econml.iv.dml.DMLIV</td>\n",
       "      <td>-0.545693</td>\n",
       "      <td>64.733176</td>\n",
       "    </tr>\n",
       "    <tr>\n",
       "      <th>2</th>\n",
       "      <td>iv.econml.iv.dml.OrthoIV</td>\n",
       "      <td>-0.907341</td>\n",
       "      <td>70.683388</td>\n",
       "    </tr>\n",
       "    <tr>\n",
       "      <th>3</th>\n",
       "      <td>iv.econml.iv.dr.IntentToTreatDRIV</td>\n",
       "      <td>-1.341814</td>\n",
       "      <td>78.177668</td>\n",
       "    </tr>\n",
       "    <tr>\n",
       "      <th>4</th>\n",
       "      <td>iv.econml.iv.dr.LinearDRIV</td>\n",
       "      <td>-0.406059</td>\n",
       "      <td>62.505762</td>\n",
       "    </tr>\n",
       "  </tbody>\n",
       "</table>\n",
       "</div>"
      ],
      "text/plain": [
       "                           estimator  estimated_effect    ate_mse\n",
       "0  iv.auto_causality.models.SimpleIV         -1.875396  87.898048\n",
       "1             iv.econml.iv.dml.DMLIV         -0.545693  64.733176\n",
       "2           iv.econml.iv.dml.OrthoIV         -0.907341  70.683388\n",
       "3  iv.econml.iv.dr.IntentToTreatDRIV         -1.341814  78.177668\n",
       "4         iv.econml.iv.dr.LinearDRIV         -0.406059  62.505762"
      ]
     },
     "execution_count": 33,
     "metadata": {},
     "output_type": "execute_result"
    }
   ],
   "source": [
    "get_est_effects(ac_quad_te, Xtest)"
   ]
  },
  {
   "cell_type": "code",
   "execution_count": 32,
   "metadata": {},
   "outputs": [
    {
     "data": {
      "image/png": "[encoded data removed]",
      "text/plain": [
       "<Figure size 900x700 with 1 Axes>"
      ]
     },
     "metadata": {},
     "output_type": "display_data"
    }
   ],
   "source": [
    "all_estimator_scatter(\n",
    "    ac_quad_te.results.results,\n",
    "    ac_quad_te.scores,\n",
    "    title=\"quad_cate\"\n",
    ")"
   ]
  },
  {
   "cell_type": "code",
   "execution_count": 34,
   "metadata": {
    "collapsed": false,
    "pycharm": {
     "name": "#%%\n"
    }
   },
   "outputs": [
    {
     "data": {
      "image/png": "[encoded data removed]",
      "text/plain": [
       "<Figure size 700x500 with 1 Axes>"
      ]
     },
     "metadata": {},
     "output_type": "display_data"
    }
   ],
   "source": [
    "score_all_test(ac_quad_te, test_df)\n",
    "graph_compare_estimators(ac_quad_te)\n"
   ]
  },
  {
   "cell_type": "code",
   "execution_count": null,
   "metadata": {
    "collapsed": false,
    "pycharm": {
     "name": "#%%\n"
    }
   },
   "outputs": [],
   "source": []
  }
 ],
 "metadata": {
  "kernelspec": {
   "display_name": "Python 3.9.12 ('.venv': venv)",
   "language": "python",
   "name": "python3"
  },
  "language_info": {
   "codemirror_mode": {
    "name": "ipython",
    "version": 3
   },
   "file_extension": ".py",
   "mimetype": "text/x-python",
   "name": "python",
   "nbconvert_exporter": "python",
   "pygments_lexer": "ipython3",
   "version": "3.9.12"
  },
  "vscode": {
   "interpreter": {
    "hash": "69127eca9e6c849401695e28ffa683ce066c3bc75f3c1b01451ff5e609c153a5"
   }
  }
 },
 "nbformat": 4,
 "nbformat_minor": 0
}
