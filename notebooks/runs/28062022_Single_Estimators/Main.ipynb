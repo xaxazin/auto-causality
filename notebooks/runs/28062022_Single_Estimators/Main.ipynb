{
 "cells": [
  {
   "cell_type": "code",
   "execution_count": null,
   "outputs": [],
   "source": [
    "!pip install dcor"
   ],
   "metadata": {
    "collapsed": false
   }
  },
  {
   "cell_type": "code",
   "execution_count": null,
   "metadata": {
    "collapsed": true
   },
   "outputs": [],
   "source": [
    "import os\n",
    "import sys\n",
    "import numpy as np\n",
    "import warnings\n",
    "import pandas as pd\n",
    "import matplotlib\n",
    "from scipy import special\n",
    "import matplotlib.pyplot as plt\n",
    "from sklearn.model_selection import train_test_split\n",
    "\n",
    "root_path = root_path = os.path.realpath('../../../..')\n",
    "try:\n",
    "    import auto_causality\n",
    "except ModuleNotFoundError:\n",
    "    sys.path.append(os.path.join(root_path, \"auto-causality\"))\n",
    "\n",
    "from auto_causality import AutoCausality\n",
    "from auto_causality.data_utils import preprocess_dataset\n",
    "\n",
    "warnings.filterwarnings(\"ignore\")"
   ]
  },
  {
   "cell_type": "code",
   "execution_count": null,
   "outputs": [],
   "source": [
    "def iv_dgp_econml(n=5000, p=10, true_effect=10):\n",
    "\n",
    "    X = np.random.normal(0, 1, size=(n, p))\n",
    "    Z = np.random.binomial(1, 0.5, size=(n,))\n",
    "    nu = np.random.uniform(0, 5, size=(n,))\n",
    "    coef_Z = 0.8\n",
    "    C = np.random.binomial(\n",
    "        1, coef_Z * special.expit(0.4 * X[:, 0] + nu)\n",
    "    )  # Compliers when recomended\n",
    "    C0 = np.random.binomial(\n",
    "        1, 0.006 * np.ones(X.shape[0])\n",
    "    )  # Non-compliers when not recommended\n",
    "    T = C * Z + C0 * (1 - Z)\n",
    "    y = (\n",
    "            true_effect(X) * T\n",
    "            + 2 * nu\n",
    "            + 5 * (X[:, 3] > 0)\n",
    "            + 0.8 * np.random.uniform(0, 1, size=(n,))\n",
    "    )\n",
    "    cov = [f\"x{i}\" for i in range(1, X.shape[1] + 1)]\n",
    "    df = pd.DataFrame(X, columns=cov)\n",
    "\n",
    "    df[\"y\"] = y\n",
    "    df[\"treatment\"] = T\n",
    "    df[\"Z\"] = Z\n",
    "\n",
    "    return df"
   ],
   "metadata": {
    "collapsed": false
   }
  },
  {
   "cell_type": "code",
   "execution_count": null,
   "outputs": [],
   "source": [
    "# Dataset parameters\n",
    "treatment = \"treatment\"\n",
    "targets = [\"y\"]\n",
    "instruments = [\"Z\"]\n",
    "outcome = targets[0]"
   ],
   "metadata": {
    "collapsed": false
   }
  },
  {
   "cell_type": "code",
   "execution_count": null,
   "outputs": [],
   "source": [
    "TRUE_EFFECT = 5.5\n",
    "\n",
    "# LINEAR_EFFECT = lambda X: TRUE_EFFECT\n",
    "LINEAR_EFFECT = lambda X: TRUE_EFFECT  * ((X[:, 0] ** 2) * X[:, 1])\n",
    "# LINEAR_EFFECT = lambda X: TRUE_EFFECT * ((X[:, 0] ** 2) * X[:, 1])\n",
    "\n",
    "synth_data = iv_dgp_econml(n=50000, p=15, true_effect=LINEAR_EFFECT)\n",
    "data_df, features_X, features_W = preprocess_dataset(\n",
    "    synth_data, treatment, targets, instruments\n",
    ")\n",
    "df_train, df_test = train_test_split(data_df, test_size=0.2)\n",
    "\n",
    "X_test = df_test[features_X[:2]]\n",
    "df_train.head()"
   ],
   "metadata": {
    "collapsed": false
   }
  },
  {
   "cell_type": "code",
   "execution_count": null,
   "outputs": [],
   "source": [
    "estimator_list = [\"SimpleIV\", \"DMLIV\", \"ForestDRIV\", \"IntentToTreatDRIV\"]"
   ],
   "metadata": {
    "collapsed": false
   }
  },
  {
   "cell_type": "code",
   "execution_count": null,
   "outputs": [],
   "source": [
    "ac_forestdriv = AutoCausality(\n",
    "    estimator_list=[\"ForestDriv\", \"IntentToTreatDRIV\"],\n",
    "    verbose=3,\n",
    "    components_verbose=2,\n",
    "    time_budget=14400,\n",
    "    components_time_budget=300,\n",
    "    propensity_model=\"auto\"\n",
    ")\n",
    "\n",
    "ac_forestdriv.fit(df_train, treatment, outcome, features_X[2:], features_X[:2], instruments)"
   ],
   "metadata": {
    "collapsed": false
   }
  },
  {
   "cell_type": "code",
   "execution_count": null,
   "outputs": [],
   "source": [
    "ac_itt = AutoCausality(\n",
    "    estimator_list=[\"IntentToTreatDRIV\"],\n",
    "    verbose=3,\n",
    "    components_verbose=2,\n",
    "    time_budget=10800,\n",
    "    components_time_budget=1000,\n",
    "    propensity_model=\"auto\"\n",
    ")\n",
    "\n",
    "ac_itt.fit(df_train, treatment, outcome, features_X[2:], features_X[:2], instruments)"
   ],
   "metadata": {
    "collapsed": false
   }
  },
  {
   "cell_type": "code",
   "execution_count": null,
   "outputs": [],
   "source": [],
   "metadata": {
    "collapsed": false
   }
  }
 ],
 "metadata": {
  "kernelspec": {
   "display_name": "Python 3",
   "language": "python",
   "name": "python3"
  },
  "language_info": {
   "codemirror_mode": {
    "name": "ipython",
    "version": 2
   },
   "file_extension": ".py",
   "mimetype": "text/x-python",
   "name": "python",
   "nbconvert_exporter": "python",
   "pygments_lexer": "ipython2",
   "version": "2.7.6"
  }
 },
 "nbformat": 4,
 "nbformat_minor": 0
}
