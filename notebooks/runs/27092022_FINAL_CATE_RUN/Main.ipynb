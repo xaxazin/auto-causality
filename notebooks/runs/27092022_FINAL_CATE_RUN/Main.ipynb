{
 "cells": [
  {
   "cell_type": "code",
   "execution_count": 3,
   "metadata": {
    "collapsed": true,
    "pycharm": {
     "name": "#%%\n"
    }
   },
   "outputs": [
    {
     "name": "stderr",
     "output_type": "stream",
     "text": [
      "/Users/madiba/Documents/auto-causality/.venv/lib/python3.9/site-packages/tqdm/auto.py:22: TqdmWarning: IProgress not found. Please update jupyter and ipywidgets. See https://ipywidgets.readthedocs.io/en/stable/user_install.html\n",
      "  from .autonotebook import tqdm as notebook_tqdm\n"
     ]
    },
    {
     "ename": "RuntimeError",
     "evalue": "module compiled against API version 0xf but this version of numpy is 0xe",
     "output_type": "error",
     "traceback": [
      "\u001b[0;31m---------------------------------------------------------------------------\u001b[0m",
      "\u001b[0;31mRuntimeError\u001b[0m                              Traceback (most recent call last)",
      "\u001b[0;31mRuntimeError\u001b[0m: module compiled against API version 0xf but this version of numpy is 0xe"
     ]
    },
    {
     "name": "stderr",
     "output_type": "stream",
     "text": [
      "OMP: Info #276: omp_set_nested routine deprecated, please use omp_set_max_active_levels instead.\n"
     ]
    }
   ],
   "source": [
    "import os\n",
    "import sys\n",
    "import numpy as np\n",
    "import warnings\n",
    "import pandas as pd\n",
    "import matplotlib\n",
    "from scipy import special\n",
    "import matplotlib.pyplot as plt\n",
    "from sklearn.model_selection import train_test_split\n",
    "\n",
    "root_path = root_path = os.path.realpath('../../../..')\n",
    "try:\n",
    "    import auto_causality\n",
    "except ModuleNotFoundError:\n",
    "    sys.path.append(os.path.join(root_path, \"auto-causality\"))\n",
    "\n",
    "from auto_causality import AutoCausality\n",
    "from auto_causality.data_utils import preprocess_dataset\n",
    "from auto_causality.scoring import Scorer\n",
    "\n",
    "warnings.filterwarnings(\"ignore\")"
   ]
  },
  {
   "cell_type": "markdown",
   "metadata": {
    "collapsed": false,
    "pycharm": {
     "name": "#%% md\n"
    }
   },
   "source": [
    "## Data Generation Process"
   ]
  },
  {
   "cell_type": "markdown",
   "metadata": {
    "collapsed": false,
    "pycharm": {
     "name": "#%% md\n"
    }
   },
   "source": [
    "Here we use a data generation process implemented by EconML for IV models and described as follows:\n",
    "\n",
    "We construct the DGP as below. The instrument corresponds to a fully randomized recommendation of treatment. Then each sample complies with the recommendation to some degree. This probability depends on both the observed feature $X$ and an unobserved confounder that has a direct effect on the outcome\n",
    "\n",
    "\n",
    "\\begin{align}\n",
    "W \\sim \\; & \\text{Normal}(0,\\, I_{n_w})   \\tag{Observed confounders}\\\\\n",
    "Z \\sim \\; & \\text{Bernoulli}(p=0.5)   \\tag{Instrument}\\\\\n",
    "\\nu \\sim \\; & \\text{U}[0, 5] \\tag{Unobserved confounder}\\\\\n",
    "C \\sim \\; & \\text{Bernoulli}(p=0.8 \\cdot \\text{Sigmoid}(0.4 \\cdot X[0] + \\nu))   \\tag{Compliers when recommended}\\\\\n",
    "C0 \\sim \\; & \\text{Bernoulli}(p=0.006)   \\tag{Non-Compliers when not recommended}\\\\\n",
    "T = \\; & C \\cdot Z + C0 \\cdot (1-Z)  \\tag{Treatment}\\\\\n",
    "y \\sim \\; & \\theta \\cdot T + 2 \\cdot \\nu + 5 \\cdot (X[3]>0) + 0.1 \\cdot \\text{U}[0, 1]  \\tag{Outcome}\n",
    "\\end{align}\n"
   ]
  },
  {
   "cell_type": "code",
   "execution_count": 4,
   "metadata": {
    "collapsed": false,
    "pycharm": {
     "name": "#%%\n"
    }
   },
   "outputs": [],
   "source": [
    "def iv_dgp_econml(n=5000, p=10, true_effect=10):\n",
    "\n",
    "    X = np.random.normal(0, 1, size=(n, p))\n",
    "    Z = np.random.binomial(1, 0.5, size=(n,))\n",
    "    nu = np.random.uniform(0, 5, size=(n,))\n",
    "    coef_Z = 0.8\n",
    "    C = np.random.binomial(\n",
    "        1, coef_Z * special.expit(0.4 * X[:, 0] + nu)\n",
    "    )  # Compliers when recomended\n",
    "    C0 = np.random.binomial(\n",
    "        1, 0.006 * np.ones(X.shape[0])\n",
    "    )  # Non-compliers when not recommended\n",
    "    T = C * Z + C0 * (1 - Z)\n",
    "    y = (\n",
    "        true_effect(X) * T\n",
    "        + 2 * nu\n",
    "        + 5 * (X[:, 3] > 0)\n",
    "        + 2.5 * np.random.uniform(0, 1, size=(n,))\n",
    "    )\n",
    "    cov = [f\"x{i}\" for i in range(1, X.shape[1] + 1)]\n",
    "    df = pd.DataFrame(X, columns=cov)\n",
    "\n",
    "    df[\"y\"] = y\n",
    "    df[\"treatment\"] = T\n",
    "    df[\"Z\"] = Z\n",
    "\n",
    "    return df"
   ]
  },
  {
   "cell_type": "code",
   "execution_count": 5,
   "metadata": {
    "collapsed": false,
    "pycharm": {
     "name": "#%%\n"
    }
   },
   "outputs": [],
   "source": [
    "# Dataset parameters\n",
    "treatment = \"treatment\"\n",
    "targets = [\"y\"]\n",
    "instruments = [\"Z\"]\n",
    "outcome = targets[0]"
   ]
  },
  {
   "cell_type": "code",
   "execution_count": 7,
   "metadata": {},
   "outputs": [],
   "source": [
    "TRUE_EFFECT = 5.5"
   ]
  },
  {
   "cell_type": "code",
   "execution_count": 6,
   "metadata": {},
   "outputs": [],
   "source": [
    "estimator_list = [\"SimpleIV\", \"SparseLinearDRIV\", \"DMLIV\",  \"LinearDRIV\", \"LinearIntentToTreatDRIV\", \"ForestDRIV\", \"IntentToTreatDRIV\"]"
   ]
  },
  {
   "cell_type": "markdown",
   "metadata": {
    "collapsed": false,
    "pycharm": {
     "name": "#%% md\n"
    }
   },
   "source": [
    " We get the estimated effect for the best estimator by energy distance score"
   ]
  },
  {
   "cell_type": "code",
   "execution_count": 8,
   "metadata": {
    "collapsed": false,
    "pycharm": {
     "name": "#%%\n"
    }
   },
   "outputs": [],
   "source": [
    "# score all estimators on the test set\n",
    "def score_all_test(models, test_set):\n",
    "    for est_name, scr in models.scores.items():\n",
    "        try:\n",
    "            causal_estimate = scr['estimator']\n",
    "            # print(causal_estimate.estimator._treatment_name)\n",
    "            scr['scores']['test'] = models.scorer.make_scores(\n",
    "                causal_estimate,\n",
    "                test_set,\n",
    "                problem=models.problem,\n",
    "                metrics_to_report=models.metrics_to_report\n",
    "            )\n",
    "        except Exception as e:\n",
    "            print(e)\n",
    "            pass\n",
    "\n",
    "\n",
    "def ate_mse(scores, true_effect=TRUE_EFFECT):\n",
    "    return  [(v-true_effect)**2 for v in scores]\n"
   ]
  },
  {
   "cell_type": "code",
   "execution_count": 9,
   "metadata": {
    "collapsed": false,
    "pycharm": {
     "name": "#%%\n"
    }
   },
   "outputs": [],
   "source": [
    "def get_est_effects(models, test_x, te=TRUE_EFFECT):\n",
    "    est_scores = []\n",
    "    for est_name, scr in models.scores.items():\n",
    "        est_effect = scr[\"estimator\"].estimator.effect(test_x).mean()\n",
    "        energy_distance = scr[\"scores\"][\"test\"][\"energy_distance\"]\n",
    "        est_scores.append([est_name, est_effect, (est_effect-te)**2, energy_distance])\n",
    "\n",
    "    return pd.DataFrame(est_scores, columns=[\"estimator\", \"estimated_effect\", \"ate_mse\", \"energy_distance\"])\n"
   ]
  },
  {
   "cell_type": "code",
   "execution_count": 10,
   "metadata": {
    "collapsed": false,
    "pycharm": {
     "name": "#%%\n"
    }
   },
   "outputs": [],
   "source": [
    "%matplotlib inline\n",
    "\n",
    "def graph_compare_estimators(model):\n",
    "    colors = ([matplotlib.colors.CSS4_COLORS['black']] +\n",
    "        list(matplotlib.colors.TABLEAU_COLORS) + [\n",
    "        matplotlib.colors.CSS4_COLORS['lime'],\n",
    "        matplotlib.colors.CSS4_COLORS['yellow'],\n",
    "        matplotlib.colors.CSS4_COLORS['pink']\n",
    "    ])\n",
    "\n",
    "\n",
    "    plt.figure(figsize = (7,5))\n",
    "    plt.title(outcome)\n",
    "\n",
    "    m1 = \"energy_distance\"\n",
    "    m2 = \"ate\"\n",
    "\n",
    "    splits =  [\"train\", \"validation\", \"test\"]\n",
    "\n",
    "    for (est, scr), col in zip(model.scores.items(), colors):\n",
    "        try:\n",
    "            scores  = scr[\"scores\"]\n",
    "            sc = [scores[v][m1] for v in splits]\n",
    "            crv = ate_mse([scores[v][m2] for v in splits])\n",
    "            plt.plot(sc, crv, color=col, marker=\"o\", label=est)\n",
    "            plt.scatter(sc[1:2],crv[1:2], c=col, s=70, label=\"_nolegend_\" )\n",
    "            plt.scatter(sc[2:],crv[2:], c=col, s=120, label=\"_nolegend_\" )\n",
    "\n",
    "        except Exception as e:\n",
    "            print(e)\n",
    "            pass\n",
    "\n",
    "    plt.xlabel(m1)\n",
    "    plt.ylabel(f\"{m2}_MSE\")\n",
    "    plt.legend(bbox_to_anchor=(1.04,1), borderaxespad=0)\n",
    "\n",
    "    plt.grid()\n",
    "    plt.show()\n"
   ]
  },
  {
   "cell_type": "markdown",
   "metadata": {
    "collapsed": false,
    "pycharm": {
     "name": "#%% md\n"
    }
   },
   "source": [
    "First we see the estimated effect for each model, and respective MSE compared with true effect"
   ]
  },
  {
   "cell_type": "markdown",
   "metadata": {
    "collapsed": false,
    "pycharm": {
     "name": "#%% md\n"
    }
   },
   "source": [
    "In the plots we show the energy distance scores on the train, validation and hold-out test sets compared with the mean squared error between estimated effect and the true effect"
   ]
  },
  {
   "cell_type": "code",
   "execution_count": 55,
   "metadata": {
    "collapsed": false,
    "pycharm": {
     "name": "#%%\n"
    }
   },
   "outputs": [],
   "source": [
    "# Get non-optimal runs from each estimator and score on (energy distance, ate)\n",
    "# ac_constant_te.results.results"
   ]
  },
  {
   "cell_type": "markdown",
   "metadata": {
    "collapsed": false,
    "pycharm": {
     "name": "#%% md\n"
    }
   },
   "source": [
    "### Model Fitting (2): Heterogeneous Treatment Effect\n",
    "\n",
    "Here we replace the constant treatment effect with a linear treatment effect function of some covariates  to estimate heterogeneous effects.\n",
    "\n",
    "\\begin{align}\n",
    "\\theta = \\; & 5.5  \\cdot   (X[2] + X[7]) \\tag{ATE}\\\\\n",
    "\\end{align}"
   ]
  },
  {
   "cell_type": "code",
   "execution_count": 11,
   "metadata": {
    "collapsed": false,
    "pycharm": {
     "name": "#%%\n"
    }
   },
   "outputs": [
    {
     "data": {
      "text/html": [
       "<div>\n",
       "<style scoped>\n",
       "    .dataframe tbody tr th:only-of-type {\n",
       "        vertical-align: middle;\n",
       "    }\n",
       "\n",
       "    .dataframe tbody tr th {\n",
       "        vertical-align: top;\n",
       "    }\n",
       "\n",
       "    .dataframe thead th {\n",
       "        text-align: right;\n",
       "    }\n",
       "</style>\n",
       "<table border=\"1\" class=\"dataframe\">\n",
       "  <thead>\n",
       "    <tr style=\"text-align: right;\">\n",
       "      <th></th>\n",
       "      <th>treatment</th>\n",
       "      <th>y</th>\n",
       "      <th>Z</th>\n",
       "      <th>x1</th>\n",
       "      <th>x2</th>\n",
       "      <th>x3</th>\n",
       "      <th>x4</th>\n",
       "      <th>x5</th>\n",
       "      <th>x6</th>\n",
       "      <th>x7</th>\n",
       "      <th>x8</th>\n",
       "      <th>x9</th>\n",
       "      <th>x10</th>\n",
       "      <th>x11</th>\n",
       "      <th>x12</th>\n",
       "      <th>x13</th>\n",
       "      <th>x14</th>\n",
       "      <th>x15</th>\n",
       "      <th>random</th>\n",
       "    </tr>\n",
       "  </thead>\n",
       "  <tbody>\n",
       "    <tr>\n",
       "      <th>48423</th>\n",
       "      <td>1.0</td>\n",
       "      <td>1.725671</td>\n",
       "      <td>1.0</td>\n",
       "      <td>-0.537809</td>\n",
       "      <td>-0.124271</td>\n",
       "      <td>0.795699</td>\n",
       "      <td>-0.834219</td>\n",
       "      <td>-0.256867</td>\n",
       "      <td>-0.278977</td>\n",
       "      <td>1.301755</td>\n",
       "      <td>-0.174008</td>\n",
       "      <td>-1.363742</td>\n",
       "      <td>-0.038583</td>\n",
       "      <td>-0.516141</td>\n",
       "      <td>-0.209794</td>\n",
       "      <td>-0.124095</td>\n",
       "      <td>0.285175</td>\n",
       "      <td>-0.037572</td>\n",
       "      <td>0.0</td>\n",
       "    </tr>\n",
       "    <tr>\n",
       "      <th>23140</th>\n",
       "      <td>0.0</td>\n",
       "      <td>3.632314</td>\n",
       "      <td>1.0</td>\n",
       "      <td>-1.405308</td>\n",
       "      <td>-1.019279</td>\n",
       "      <td>0.648146</td>\n",
       "      <td>-1.911916</td>\n",
       "      <td>0.763641</td>\n",
       "      <td>-1.197723</td>\n",
       "      <td>-0.063461</td>\n",
       "      <td>0.235379</td>\n",
       "      <td>-0.188018</td>\n",
       "      <td>-1.178343</td>\n",
       "      <td>0.836244</td>\n",
       "      <td>-0.313461</td>\n",
       "      <td>-0.088779</td>\n",
       "      <td>0.385072</td>\n",
       "      <td>-0.940476</td>\n",
       "      <td>1.0</td>\n",
       "    </tr>\n",
       "    <tr>\n",
       "      <th>374</th>\n",
       "      <td>0.0</td>\n",
       "      <td>3.018122</td>\n",
       "      <td>1.0</td>\n",
       "      <td>-0.614374</td>\n",
       "      <td>-1.110493</td>\n",
       "      <td>0.704305</td>\n",
       "      <td>-0.719564</td>\n",
       "      <td>-0.735482</td>\n",
       "      <td>1.095563</td>\n",
       "      <td>0.049356</td>\n",
       "      <td>-1.138341</td>\n",
       "      <td>0.101717</td>\n",
       "      <td>1.556851</td>\n",
       "      <td>1.120560</td>\n",
       "      <td>-0.339383</td>\n",
       "      <td>1.815382</td>\n",
       "      <td>-0.255806</td>\n",
       "      <td>0.526907</td>\n",
       "      <td>1.0</td>\n",
       "    </tr>\n",
       "    <tr>\n",
       "      <th>56363</th>\n",
       "      <td>0.0</td>\n",
       "      <td>12.273410</td>\n",
       "      <td>0.0</td>\n",
       "      <td>-0.189886</td>\n",
       "      <td>2.060669</td>\n",
       "      <td>-1.579035</td>\n",
       "      <td>1.168288</td>\n",
       "      <td>1.268015</td>\n",
       "      <td>0.915415</td>\n",
       "      <td>-0.749019</td>\n",
       "      <td>0.290776</td>\n",
       "      <td>-1.432303</td>\n",
       "      <td>-0.658196</td>\n",
       "      <td>-0.678912</td>\n",
       "      <td>0.101040</td>\n",
       "      <td>-1.029162</td>\n",
       "      <td>-0.672465</td>\n",
       "      <td>-0.242024</td>\n",
       "      <td>0.0</td>\n",
       "    </tr>\n",
       "    <tr>\n",
       "      <th>48898</th>\n",
       "      <td>1.0</td>\n",
       "      <td>10.685102</td>\n",
       "      <td>1.0</td>\n",
       "      <td>0.368245</td>\n",
       "      <td>0.751106</td>\n",
       "      <td>-0.708196</td>\n",
       "      <td>2.385056</td>\n",
       "      <td>-0.895128</td>\n",
       "      <td>0.171010</td>\n",
       "      <td>1.866754</td>\n",
       "      <td>-1.192084</td>\n",
       "      <td>-0.389994</td>\n",
       "      <td>1.428801</td>\n",
       "      <td>-0.864667</td>\n",
       "      <td>0.947921</td>\n",
       "      <td>-0.773965</td>\n",
       "      <td>-1.219181</td>\n",
       "      <td>-0.421374</td>\n",
       "      <td>0.0</td>\n",
       "    </tr>\n",
       "  </tbody>\n",
       "</table>\n",
       "</div>"
      ],
      "text/plain": [
       "       treatment          y    Z        x1        x2        x3        x4  \\\n",
       "48423        1.0   1.725671  1.0 -0.537809 -0.124271  0.795699 -0.834219   \n",
       "23140        0.0   3.632314  1.0 -1.405308 -1.019279  0.648146 -1.911916   \n",
       "374          0.0   3.018122  1.0 -0.614374 -1.110493  0.704305 -0.719564   \n",
       "56363        0.0  12.273410  0.0 -0.189886  2.060669 -1.579035  1.168288   \n",
       "48898        1.0  10.685102  1.0  0.368245  0.751106 -0.708196  2.385056   \n",
       "\n",
       "             x5        x6        x7        x8        x9       x10       x11  \\\n",
       "48423 -0.256867 -0.278977  1.301755 -0.174008 -1.363742 -0.038583 -0.516141   \n",
       "23140  0.763641 -1.197723 -0.063461  0.235379 -0.188018 -1.178343  0.836244   \n",
       "374   -0.735482  1.095563  0.049356 -1.138341  0.101717  1.556851  1.120560   \n",
       "56363  1.268015  0.915415 -0.749019  0.290776 -1.432303 -0.658196 -0.678912   \n",
       "48898 -0.895128  0.171010  1.866754 -1.192084 -0.389994  1.428801 -0.864667   \n",
       "\n",
       "            x12       x13       x14       x15  random  \n",
       "48423 -0.209794 -0.124095  0.285175 -0.037572     0.0  \n",
       "23140 -0.313461 -0.088779  0.385072 -0.940476     1.0  \n",
       "374   -0.339383  1.815382 -0.255806  0.526907     1.0  \n",
       "56363  0.101040 -1.029162 -0.672465 -0.242024     0.0  \n",
       "48898  0.947921 -0.773965 -1.219181 -0.421374     0.0  "
      ]
     },
     "execution_count": 11,
     "metadata": {},
     "output_type": "execute_result"
    }
   ],
   "source": [
    "LINEAR_EFFECT = lambda X: TRUE_EFFECT * (X[:, 0] ** 2) * (X[:, 1])\n",
    "\n",
    "synth_data = iv_dgp_econml(n=70000, p=15, true_effect=LINEAR_EFFECT)\n",
    "data_df, features_X, features_W = preprocess_dataset(\n",
    "    synth_data, treatment, targets, instruments\n",
    ")\n",
    "df_train, df_test = train_test_split(data_df, test_size=0.3)\n",
    "\n",
    "Xtest = data_df[features_X[:2]]\n",
    "df_train.head()"
   ]
  },
  {
   "cell_type": "code",
   "execution_count": 12,
   "metadata": {
    "collapsed": false,
    "pycharm": {
     "name": "#%%\n"
    }
   },
   "outputs": [
    {
     "name": "stdout",
     "output_type": "stream",
     "text": [
      "Fitting a Propensity-Weighted scoring estimator to be used in scoring tasks\n"
     ]
    },
    {
     "name": "stderr",
     "output_type": "stream",
     "text": [
      "[flaml.automl: 09-28 00:49:09] {2648} WARNING - Time taken to find the best model is 94% of the provided time budget and not all estimators' hyperparameter search converged. Consider increasing the time budget.\n",
      "[flaml.tune.tune: 09-28 00:49:09] {375} WARNING - Using CFO for search. To use BlendSearch, run: pip install flaml[blendsearch]\n",
      "[flaml.tune.tune: 09-28 00:49:09] {506} INFO - trial 1 config: {'estimator': {'estimator_name': 'iv.auto_causality.models.SimpleIV'}}\n"
     ]
    },
    {
     "name": "stdout",
     "output_type": "stream",
     "text": [
      "Initial configs: [{'estimator': {'estimator_name': 'iv.auto_causality.models.SimpleIV'}}, {'estimator': {'estimator_name': 'iv.econml.iv.dr.LinearDRIV', 'projection': True}}, {'estimator': {'estimator_name': 'iv.econml.iv.dml.DMLIV', 'mc_agg': 'mean'}}, {'estimator': {'estimator_name': 'iv.econml.iv.dr.IntentToTreatDRIV', 'opt_reweighted': 0, 'cov_clip': 0.1, 'prel_opt_reweighted': 1, 'prel_cate_approach': 'driv'}}, {'estimator': {'estimator_name': 'iv.econml.iv.dr.SparseLinearDRIV', 'projection': 0, 'opt_reweighted': 0, 'cov_clip': 0.1}}, {'estimator': {'estimator_name': 'iv.econml.iv.dr.ForestDRIV', 'projection': 0, 'opt_reweighted': 0, 'cov_clip': 0.1, 'min_samples_split': 2}}, {'estimator': {'estimator_name': 'iv.econml.iv.dr.LinearIntentToTreatDRIV', 'cov_clip': 0.1, 'opt_reweighted': 1}}]\n"
     ]
    },
    {
     "name": "stderr",
     "output_type": "stream",
     "text": [
      "RuntimeError: module compiled against API version 0xf but this version of numpy is 0xe\n",
      "OMP: Info #276: omp_set_nested routine deprecated, please use omp_set_max_active_levels instead.\n",
      "Criterion 'mse' was deprecated in v1.0 and will be removed in version 1.2. Use `criterion='squared_error'` which is equivalent.\n",
      "Criterion 'mse' was deprecated in v1.0 and will be removed in version 1.2. Use `criterion='squared_error'` which is equivalent.\n",
      "[flaml.tune.tune: 09-28 00:50:01] {118} INFO - result: {'energy_distance': 0.14279393038355437, 'estimator_name': 'iv.auto_causality.models.SimpleIV', 'scores': {'train': {'intrp': <econml.cate_interpreter._interpreters.SingleTreeCateInterpreter object at 0x28c660a60>, 'ate': -0.13644225895404816, 'ate_std': 0.0, 'energy_distance': 0.1347389441280411}, 'validation': {'intrp': <econml.cate_interpreter._interpreters.SingleTreeCateInterpreter object at 0x28c5f7f70>, 'ate': -0.13644225895404816, 'ate_std': 0.0, 'energy_distance': 0.14279393038355437}}, 'config': {'estimator': {'estimator_name': 'iv.auto_causality.models.SimpleIV'}}, 'training_iteration': 0, 'config/estimator': {'estimator_name': 'iv.auto_causality.models.SimpleIV'}, 'experiment_tag': 'exp', 'time_total_s': 51.65085506439209}\n",
      "[flaml.tune.tune: 09-28 00:50:01] {506} INFO - trial 2 config: {'estimator': {'estimator_name': 'iv.econml.iv.dr.LinearDRIV', 'projection': 1}}\n",
      "RuntimeError: module compiled against API version 0xf but this version of numpy is 0xe\n",
      "OMP: Info #276: omp_set_nested routine deprecated, please use omp_set_max_active_levels instead.\n",
      "[flaml.automl: 09-28 01:10:05] {2648} WARNING - Time taken to find the best model is 89% of the provided time budget and not all estimators' hyperparameter search converged. Consider increasing the time budget.\n",
      "'normalize' was deprecated in version 1.0 and will be removed in 1.2. Please leave the normalize parameter to its default value to silence this warning. The default behavior of this estimator is to not do any normalization. If normalization is needed please use sklearn.preprocessing.StandardScaler instead.\n",
      "'normalize' was deprecated in version 1.0 and will be removed in 1.2. Please leave the normalize parameter to its default value to silence this warning. The default behavior of this estimator is to not do any normalization. If normalization is needed please use sklearn.preprocessing.StandardScaler instead.\n",
      "[flaml.automl: 09-28 01:50:05] {2648} WARNING - Time taken to find the best model is 96% of the provided time budget and not all estimators' hyperparameter search converged. Consider increasing the time budget.\n",
      "'normalize' was deprecated in version 1.0 and will be removed in 1.2. Please leave the normalize parameter to its default value to silence this warning. The default behavior of this estimator is to not do any normalization. If normalization is needed please use sklearn.preprocessing.StandardScaler instead.\n",
      "'normalize' was deprecated in version 1.0 and will be removed in 1.2. Please leave the normalize parameter to its default value to silence this warning. The default behavior of this estimator is to not do any normalization. If normalization is needed please use sklearn.preprocessing.StandardScaler instead.\n",
      "[flaml.automl: 09-28 02:30:19] {2648} WARNING - Time taken to find the best model is 85% of the provided time budget and not all estimators' hyperparameter search converged. Consider increasing the time budget.\n",
      "[flaml.automl: 09-28 02:50:20] {2648} WARNING - Time taken to find the best model is 78% of the provided time budget and not all estimators' hyperparameter search converged. Consider increasing the time budget.\n",
      "'normalize' was deprecated in version 1.0 and will be removed in 1.2. Please leave the normalize parameter to its default value to silence this warning. The default behavior of this estimator is to not do any normalization. If normalization is needed please use sklearn.preprocessing.StandardScaler instead.\n",
      "'normalize' was deprecated in version 1.0 and will be removed in 1.2. Please leave the normalize parameter to its default value to silence this warning. The default behavior of this estimator is to not do any normalization. If normalization is needed please use sklearn.preprocessing.StandardScaler instead.\n",
      "'normalize' was deprecated in version 1.0 and will be removed in 1.2. Please leave the normalize parameter to its default value to silence this warning. The default behavior of this estimator is to not do any normalization. If normalization is needed please use sklearn.preprocessing.StandardScaler instead.\n",
      "'normalize' was deprecated in version 1.0 and will be removed in 1.2. Please leave the normalize parameter to its default value to silence this warning. The default behavior of this estimator is to not do any normalization. If normalization is needed please use sklearn.preprocessing.StandardScaler instead.\n",
      "Criterion 'mse' was deprecated in v1.0 and will be removed in version 1.2. Use `criterion='squared_error'` which is equivalent.\n",
      "Criterion 'mse' was deprecated in v1.0 and will be removed in version 1.2. Use `criterion='squared_error'` which is equivalent.\n",
      "[flaml.tune.tune: 09-28 03:31:28] {118} INFO - result: {'energy_distance': 0.08784981816150683, 'estimator_name': 'iv.econml.iv.dr.LinearDRIV', 'scores': {'train': {'intrp': <econml.cate_interpreter._interpreters.SingleTreeCateInterpreter object at 0x154b6dc40>, 'ate': -0.07134783832630648, 'ate_std': 2.8059113919799112, 'energy_distance': 0.08099298148226097}, 'validation': {'intrp': <econml.cate_interpreter._interpreters.SingleTreeCateInterpreter object at 0x154b7a070>, 'ate': -0.07574944975854819, 'ate_std': 2.7961513249918313, 'energy_distance': 0.08784981816150683}}, 'config': {'estimator': {'estimator_name': 'iv.econml.iv.dr.LinearDRIV', 'projection': 1}}, 'training_iteration': 0, 'config/estimator': {'estimator_name': 'iv.econml.iv.dr.LinearDRIV', 'projection': 1}, 'experiment_tag': 'exp', 'time_total_s': 9686.799738168716}\n",
      "[flaml.tune.tune: 09-28 03:31:28] {506} INFO - trial 3 config: {'estimator': {'estimator_name': 'iv.econml.iv.dml.DMLIV', 'mc_agg': 'mean'}}\n",
      "[flaml.automl: 09-28 03:52:15] {2648} WARNING - Time taken to find the best model is 100% of the provided time budget and not all estimators' hyperparameter search converged. Consider increasing the time budget.\n",
      "'normalize' was deprecated in version 1.0 and will be removed in 1.2. Please leave the normalize parameter to its default value to silence this warning. The default behavior of this estimator is to not do any normalization. If normalization is needed please use sklearn.preprocessing.StandardScaler instead.\n",
      "A column-vector y was passed when a 1d array was expected. Please change the shape of y to (n_samples, ), for example using ravel().\n",
      "[flaml.automl: 09-28 04:32:16] {2648} WARNING - Time taken to find the best model is 71% of the provided time budget and not all estimators' hyperparameter search converged. Consider increasing the time budget.\n",
      "'normalize' was deprecated in version 1.0 and will be removed in 1.2. Please leave the normalize parameter to its default value to silence this warning. The default behavior of this estimator is to not do any normalization. If normalization is needed please use sklearn.preprocessing.StandardScaler instead.\n",
      "A column-vector y was passed when a 1d array was expected. Please change the shape of y to (n_samples, ), for example using ravel().\n",
      "Criterion 'mse' was deprecated in v1.0 and will be removed in version 1.2. Use `criterion='squared_error'` which is equivalent.\n",
      "Criterion 'mse' was deprecated in v1.0 and will be removed in version 1.2. Use `criterion='squared_error'` which is equivalent.\n",
      "[flaml.tune.tune: 09-28 05:23:12] {118} INFO - result: {'energy_distance': 0.08815674097088788, 'estimator_name': 'iv.econml.iv.dml.DMLIV', 'scores': {'train': {'intrp': <econml.cate_interpreter._interpreters.SingleTreeCateInterpreter object at 0x15f79e1c0>, 'ate': -0.08092242123021137, 'ate_std': 2.681643441067033, 'energy_distance': 0.0810363205758291}, 'validation': {'intrp': <econml.cate_interpreter._interpreters.SingleTreeCateInterpreter object at 0x15f79e5b0>, 'ate': -0.0849721939406986, 'ate_std': 2.6727096531769963, 'energy_distance': 0.08815674097088788}}, 'config': {'estimator': {'estimator_name': 'iv.econml.iv.dml.DMLIV', 'mc_agg': 'mean'}}, 'training_iteration': 0, 'config/estimator': {'estimator_name': 'iv.econml.iv.dml.DMLIV', 'mc_agg': 'mean'}, 'experiment_tag': 'exp', 'time_total_s': 6704.348477840424}\n",
      "[flaml.tune.tune: 09-28 05:23:12] {506} INFO - trial 4 config: {'estimator': {'estimator_name': 'iv.econml.iv.dr.IntentToTreatDRIV', 'opt_reweighted': 0, 'cov_clip': 0.1, 'prel_opt_reweighted': 1, 'prel_cate_approach': 'driv'}}\n",
      "Function get_feature_names is deprecated; get_feature_names is deprecated in 1.0 and will be removed in 1.2. Please use get_feature_names_out instead.\n",
      "[flaml.automl: 09-28 07:04:50] {2648} WARNING - Time taken to find the best model is 86% of the provided time budget and not all estimators' hyperparameter search converged. Consider increasing the time budget.\n",
      "Function get_feature_names is deprecated; get_feature_names is deprecated in 1.0 and will be removed in 1.2. Please use get_feature_names_out instead.\n",
      "[flaml.automl: 09-28 08:45:04] {2648} WARNING - Time taken to find the best model is 96% of the provided time budget and not all estimators' hyperparameter search converged. Consider increasing the time budget.\n",
      "[flaml.automl: 09-28 09:05:11] {2648} WARNING - Time taken to find the best model is 94% of the provided time budget and not all estimators' hyperparameter search converged. Consider increasing the time budget.\n",
      "Function get_feature_names is deprecated; get_feature_names is deprecated in 1.0 and will be removed in 1.2. Please use get_feature_names_out instead.\n",
      "[flaml.automl: 09-28 09:45:12] {2648} WARNING - Time taken to find the best model is 83% of the provided time budget and not all estimators' hyperparameter search converged. Consider increasing the time budget.\n",
      "Function get_feature_names is deprecated; get_feature_names is deprecated in 1.0 and will be removed in 1.2. Please use get_feature_names_out instead.\n",
      "Criterion 'mse' was deprecated in v1.0 and will be removed in version 1.2. Use `criterion='squared_error'` which is equivalent.\n",
      "Criterion 'mse' was deprecated in v1.0 and will be removed in version 1.2. Use `criterion='squared_error'` which is equivalent.\n",
      "[flaml.tune.tune: 09-28 09:46:31] {118} INFO - result: {'energy_distance': 0.005341646257202015, 'estimator_name': 'iv.econml.iv.dr.IntentToTreatDRIV', 'scores': {'train': {'intrp': <econml.cate_interpreter._interpreters.SingleTreeCateInterpreter object at 0x2c862d040>, 'ate': -0.15720346593431064, 'ate_std': 9.592048439263289, 'energy_distance': 0.0033630299256781626}, 'validation': {'intrp': <econml.cate_interpreter._interpreters.SingleTreeCateInterpreter object at 0x2c862d430>, 'ate': -0.1749867916350462, 'ate_std': 9.403224153477913, 'energy_distance': 0.005341646257202015}}, 'config': {'estimator': {'estimator_name': 'iv.econml.iv.dr.IntentToTreatDRIV', 'opt_reweighted': 0, 'cov_clip': 0.1, 'prel_opt_reweighted': 1, 'prel_cate_approach': 'driv'}}, 'training_iteration': 0, 'config/estimator': {'estimator_name': 'iv.econml.iv.dr.IntentToTreatDRIV', 'opt_reweighted': 0, 'cov_clip': 0.1, 'prel_opt_reweighted': 1, 'prel_cate_approach': 'driv'}, 'experiment_tag': 'exp', 'time_total_s': 15798.709083795547}\n",
      "[flaml.tune.tune: 09-28 09:46:31] {506} INFO - trial 5 config: {'estimator': {'estimator_name': 'iv.econml.iv.dr.SparseLinearDRIV', 'projection': 0, 'opt_reweighted': 0, 'cov_clip': 0.1}}\n",
      "The number of features in the final model (< 5) is too small for a sparse model. We recommend using the LinearDRLearner for this low-dimensional setting.\n",
      "'normalize' was deprecated in version 1.0 and will be removed in 1.2. Please leave the normalize parameter to its default value to silence this warning. The default behavior of this estimator is to not do any normalization. If normalization is needed please use sklearn.preprocessing.StandardScaler instead.\n",
      "'normalize' was deprecated in version 1.0 and will be removed in 1.2. Please leave the normalize parameter to its default value to silence this warning. The default behavior of this estimator is to not do any normalization. If normalization is needed please use sklearn.preprocessing.StandardScaler instead.\n",
      "'normalize' was deprecated in version 1.0 and will be removed in 1.2. Please leave the normalize parameter to its default value to silence this warning. The default behavior of this estimator is to not do any normalization. If normalization is needed please use sklearn.preprocessing.StandardScaler instead.\n",
      "'normalize' was deprecated in version 1.0 and will be removed in 1.2. Please leave the normalize parameter to its default value to silence this warning. The default behavior of this estimator is to not do any normalization. If normalization is needed please use sklearn.preprocessing.StandardScaler instead.\n",
      "[flaml.automl: 09-28 11:28:58] {2648} WARNING - Time taken to find the best model is 95% of the provided time budget and not all estimators' hyperparameter search converged. Consider increasing the time budget.\n",
      "[flaml.automl: 09-28 11:48:58] {2648} WARNING - Time taken to find the best model is 93% of the provided time budget and not all estimators' hyperparameter search converged. Consider increasing the time budget.\n",
      "'normalize' was deprecated in version 1.0 and will be removed in 1.2. Please leave the normalize parameter to its default value to silence this warning. The default behavior of this estimator is to not do any normalization. If normalization is needed please use sklearn.preprocessing.StandardScaler instead.\n",
      "'normalize' was deprecated in version 1.0 and will be removed in 1.2. Please leave the normalize parameter to its default value to silence this warning. The default behavior of this estimator is to not do any normalization. If normalization is needed please use sklearn.preprocessing.StandardScaler instead.\n",
      "[flaml.automl: 09-28 12:09:09] {2648} WARNING - Time taken to find the best model is 81% of the provided time budget and not all estimators' hyperparameter search converged. Consider increasing the time budget.\n",
      "[flaml.automl: 09-28 12:29:09] {2648} WARNING - Time taken to find the best model is 89% of the provided time budget and not all estimators' hyperparameter search converged. Consider increasing the time budget.\n",
      "'normalize' was deprecated in version 1.0 and will be removed in 1.2. Please leave the normalize parameter to its default value to silence this warning. The default behavior of this estimator is to not do any normalization. If normalization is needed please use sklearn.preprocessing.StandardScaler instead.\n",
      "'normalize' was deprecated in version 1.0 and will be removed in 1.2. Please leave the normalize parameter to its default value to silence this warning. The default behavior of this estimator is to not do any normalization. If normalization is needed please use sklearn.preprocessing.StandardScaler instead.\n",
      "'normalize' was deprecated in version 1.0 and will be removed in 1.2. Please leave the normalize parameter to its default value to silence this warning. The default behavior of this estimator is to not do any normalization. If normalization is needed please use sklearn.preprocessing.StandardScaler instead.\n",
      "'normalize' was deprecated in version 1.0 and will be removed in 1.2. Please leave the normalize parameter to its default value to silence this warning. The default behavior of this estimator is to not do any normalization. If normalization is needed please use sklearn.preprocessing.StandardScaler instead.\n",
      "'normalize' was deprecated in version 1.0 and will be removed in 1.2. Please leave the normalize parameter to its default value to silence this warning. The default behavior of this estimator is to not do any normalization. If normalization is needed please use sklearn.preprocessing.StandardScaler instead.\n",
      "'normalize' was deprecated in version 1.0 and will be removed in 1.2. Please leave the normalize parameter to its default value to silence this warning. The default behavior of this estimator is to not do any normalization. If normalization is needed please use sklearn.preprocessing.StandardScaler instead.\n",
      "'normalize' was deprecated in version 1.0 and will be removed in 1.2. Please leave the normalize parameter to its default value to silence this warning. The default behavior of this estimator is to not do any normalization. If normalization is needed please use sklearn.preprocessing.StandardScaler instead.\n",
      "Criterion 'mse' was deprecated in v1.0 and will be removed in version 1.2. Use `criterion='squared_error'` which is equivalent.\n",
      "Criterion 'mse' was deprecated in v1.0 and will be removed in version 1.2. Use `criterion='squared_error'` which is equivalent.\n",
      "[flaml.tune.tune: 09-28 12:30:19] {118} INFO - result: {'energy_distance': 0.08838393051477222, 'estimator_name': 'iv.econml.iv.dr.SparseLinearDRIV', 'scores': {'train': {'intrp': <econml.cate_interpreter._interpreters.SingleTreeCateInterpreter object at 0x2cf2bb310>, 'ate': -0.11559896443912493, 'ate_std': 3.2727157027205815, 'energy_distance': 0.08199566218184096}, 'validation': {'intrp': <econml.cate_interpreter._interpreters.SingleTreeCateInterpreter object at 0x2cf2bb700>, 'ate': -0.12061103467146776, 'ate_std': 3.261637147492497, 'energy_distance': 0.08838393051477222}}, 'config': {'estimator': {'estimator_name': 'iv.econml.iv.dr.SparseLinearDRIV', 'projection': 0, 'opt_reweighted': 0, 'cov_clip': 0.1}}, 'training_iteration': 0, 'config/estimator': {'estimator_name': 'iv.econml.iv.dr.SparseLinearDRIV', 'projection': 0, 'opt_reweighted': 0, 'cov_clip': 0.1}, 'experiment_tag': 'exp', 'time_total_s': 9828.420727968216}\n",
      "[flaml.tune.tune: 09-28 12:30:19] {506} INFO - trial 6 config: {'estimator': {'estimator_name': 'iv.econml.iv.dr.ForestDRIV', 'projection': 0, 'opt_reweighted': 0, 'cov_clip': 0.1, 'min_samples_split': 2}}\n",
      "'normalize' was deprecated in version 1.0 and will be removed in 1.2. Please leave the normalize parameter to its default value to silence this warning. The default behavior of this estimator is to not do any normalization. If normalization is needed please use sklearn.preprocessing.StandardScaler instead.\n",
      "'normalize' was deprecated in version 1.0 and will be removed in 1.2. Please leave the normalize parameter to its default value to silence this warning. The default behavior of this estimator is to not do any normalization. If normalization is needed please use sklearn.preprocessing.StandardScaler instead.\n",
      "'normalize' was deprecated in version 1.0 and will be removed in 1.2. Please leave the normalize parameter to its default value to silence this warning. The default behavior of this estimator is to not do any normalization. If normalization is needed please use sklearn.preprocessing.StandardScaler instead.\n",
      "'normalize' was deprecated in version 1.0 and will be removed in 1.2. Please leave the normalize parameter to its default value to silence this warning. The default behavior of this estimator is to not do any normalization. If normalization is needed please use sklearn.preprocessing.StandardScaler instead.\n",
      "[flaml.automl: 09-28 14:33:29] {2648} WARNING - Time taken to find the best model is 90% of the provided time budget and not all estimators' hyperparameter search converged. Consider increasing the time budget.\n",
      "'normalize' was deprecated in version 1.0 and will be removed in 1.2. Please leave the normalize parameter to its default value to silence this warning. The default behavior of this estimator is to not do any normalization. If normalization is needed please use sklearn.preprocessing.StandardScaler instead.\n",
      "'normalize' was deprecated in version 1.0 and will be removed in 1.2. Please leave the normalize parameter to its default value to silence this warning. The default behavior of this estimator is to not do any normalization. If normalization is needed please use sklearn.preprocessing.StandardScaler instead.\n",
      "[flaml.automl: 09-28 14:53:30] {2648} WARNING - Time taken to find the best model is 84% of the provided time budget and not all estimators' hyperparameter search converged. Consider increasing the time budget.\n",
      "[flaml.automl: 09-28 15:13:30] {2648} WARNING - Time taken to find the best model is 75% of the provided time budget and not all estimators' hyperparameter search converged. Consider increasing the time budget.\n",
      "'normalize' was deprecated in version 1.0 and will be removed in 1.2. Please leave the normalize parameter to its default value to silence this warning. The default behavior of this estimator is to not do any normalization. If normalization is needed please use sklearn.preprocessing.StandardScaler instead.\n",
      "'normalize' was deprecated in version 1.0 and will be removed in 1.2. Please leave the normalize parameter to its default value to silence this warning. The default behavior of this estimator is to not do any normalization. If normalization is needed please use sklearn.preprocessing.StandardScaler instead.\n",
      "Criterion 'mse' was deprecated in v1.0 and will be removed in version 1.2. Use `criterion='squared_error'` which is equivalent.\n",
      "Criterion 'mse' was deprecated in v1.0 and will be removed in version 1.2. Use `criterion='squared_error'` which is equivalent.\n",
      "[flaml.tune.tune: 09-28 15:14:46] {118} INFO - result: {'energy_distance': 0.03876630877182574, 'estimator_name': 'iv.econml.iv.dr.ForestDRIV', 'scores': {'train': {'intrp': <econml.cate_interpreter._interpreters.SingleTreeCateInterpreter object at 0x423fd3be0>, 'ate': -0.07965698041350198, 'ate_std': 4.02792665379927, 'energy_distance': 0.030637331796302902}, 'validation': {'intrp': <econml.cate_interpreter._interpreters.SingleTreeCateInterpreter object at 0x423fd3fd0>, 'ate': -0.0798500514153362, 'ate_std': 3.9766600476464573, 'energy_distance': 0.03876630877182574}}, 'config': {'estimator': {'estimator_name': 'iv.econml.iv.dr.ForestDRIV', 'projection': 0, 'opt_reweighted': 0, 'cov_clip': 0.1, 'min_samples_split': 2}}, 'training_iteration': 0, 'config/estimator': {'estimator_name': 'iv.econml.iv.dr.ForestDRIV', 'projection': 0, 'opt_reweighted': 0, 'cov_clip': 0.1, 'min_samples_split': 2}, 'experiment_tag': 'exp', 'time_total_s': 9866.617724180222}\n",
      "[flaml.tune.tune: 09-28 15:14:46] {506} INFO - trial 7 config: {'estimator': {'estimator_name': 'iv.econml.iv.dr.LinearIntentToTreatDRIV', 'cov_clip': 0.1, 'opt_reweighted': 1}}\n",
      "[flaml.automl: 09-28 15:59:46] {2648} WARNING - Time taken to find the best model is 72% of the provided time budget and not all estimators' hyperparameter search converged. Consider increasing the time budget.\n",
      "Function get_feature_names is deprecated; get_feature_names is deprecated in 1.0 and will be removed in 1.2. Please use get_feature_names_out instead.\n",
      "[flaml.automl: 09-28 16:24:53] {2648} WARNING - Time taken to find the best model is 124% of the provided time budget and not all estimators' hyperparameter search converged. Consider increasing the time budget.\n",
      "Function get_feature_names is deprecated; get_feature_names is deprecated in 1.0 and will be removed in 1.2. Please use get_feature_names_out instead.\n",
      "[flaml.automl: 09-28 17:05:13] {2648} WARNING - Time taken to find the best model is 80% of the provided time budget and not all estimators' hyperparameter search converged. Consider increasing the time budget.\n",
      "[flaml.automl: 09-28 17:37:35] {2648} WARNING - Time taken to find the best model is 70% of the provided time budget and not all estimators' hyperparameter search converged. Consider increasing the time budget.\n",
      "Function get_feature_names is deprecated; get_feature_names is deprecated in 1.0 and will be removed in 1.2. Please use get_feature_names_out instead.\n",
      "Function get_feature_names is deprecated; get_feature_names is deprecated in 1.0 and will be removed in 1.2. Please use get_feature_names_out instead.\n",
      "Criterion 'mse' was deprecated in v1.0 and will be removed in version 1.2. Use `criterion='squared_error'` which is equivalent.\n",
      "Criterion 'mse' was deprecated in v1.0 and will be removed in version 1.2. Use `criterion='squared_error'` which is equivalent.\n",
      "[flaml.tune.tune: 09-28 17:39:03] {118} INFO - result: {'energy_distance': 0.13043805929651953, 'estimator_name': 'iv.econml.iv.dr.LinearIntentToTreatDRIV', 'scores': {'train': {'intrp': <econml.cate_interpreter._interpreters.SingleTreeCateInterpreter object at 0x2b370c310>, 'ate': -0.12810927039110728, 'ate_std': 5.955464796256489, 'energy_distance': 0.13557781735918706}, 'validation': {'intrp': <econml.cate_interpreter._interpreters.SingleTreeCateInterpreter object at 0x2b4dc0730>, 'ate': -0.13747376678461054, 'ate_std': 5.9346939478823435, 'energy_distance': 0.13043805929651953}}, 'config': {'estimator': {'estimator_name': 'iv.econml.iv.dr.LinearIntentToTreatDRIV', 'cov_clip': 0.1, 'opt_reweighted': 1}}, 'training_iteration': 0, 'config/estimator': {'estimator_name': 'iv.econml.iv.dr.LinearIntentToTreatDRIV', 'cov_clip': 0.1, 'opt_reweighted': 1}, 'experiment_tag': 'exp', 'time_total_s': 8657.24066209793}\n",
      "[flaml.tune.tune: 09-28 17:39:03] {506} INFO - trial 8 config: {'estimator': {'estimator_name': 'iv.econml.iv.dr.IntentToTreatDRIV', 'opt_reweighted': 0, 'cov_clip': 0.08, 'prel_opt_reweighted': 1, 'prel_cate_approach': 'dmliv'}}\n",
      "[flaml.automl: 09-28 19:02:07] {2648} WARNING - Time taken to find the best model is 97% of the provided time budget and not all estimators' hyperparameter search converged. Consider increasing the time budget.\n",
      "[flaml.automl: 09-28 19:22:07] {2648} WARNING - Time taken to find the best model is 100% of the provided time budget and not all estimators' hyperparameter search converged. Consider increasing the time budget.\n",
      "[flaml.automl: 09-28 19:42:20] {2648} WARNING - Time taken to find the best model is 83% of the provided time budget and not all estimators' hyperparameter search converged. Consider increasing the time budget.\n",
      "Function get_feature_names is deprecated; get_feature_names is deprecated in 1.0 and will be removed in 1.2. Please use get_feature_names_out instead.\n",
      "[flaml.automl: 09-28 20:02:22] {2648} WARNING - Time taken to find the best model is 100% of the provided time budget and not all estimators' hyperparameter search converged. Consider increasing the time budget.\n",
      "[flaml.automl: 09-28 20:46:35] {2648} WARNING - Time taken to find the best model is 76% of the provided time budget and not all estimators' hyperparameter search converged. Consider increasing the time budget.\n",
      "[flaml.automl: 09-28 21:15:24] {2648} WARNING - Time taken to find the best model is 93% of the provided time budget and not all estimators' hyperparameter search converged. Consider increasing the time budget.\n",
      "Function get_feature_names is deprecated; get_feature_names is deprecated in 1.0 and will be removed in 1.2. Please use get_feature_names_out instead.\n",
      "[flaml.automl: 09-28 22:22:04] {2648} WARNING - Time taken to find the best model is 161% of the provided time budget and not all estimators' hyperparameter search converged. Consider increasing the time budget.\n",
      "[flaml.automl: 09-28 22:42:04] {2648} WARNING - Time taken to find the best model is 97% of the provided time budget and not all estimators' hyperparameter search converged. Consider increasing the time budget.\n",
      "Function get_feature_names is deprecated; get_feature_names is deprecated in 1.0 and will be removed in 1.2. Please use get_feature_names_out instead.\n",
      "[flaml.automl: 09-29 00:48:44] {2648} WARNING - Time taken to find the best model is 159% of the provided time budget and not all estimators' hyperparameter search converged. Consider increasing the time budget.\n",
      "Function get_feature_names is deprecated; get_feature_names is deprecated in 1.0 and will be removed in 1.2. Please use get_feature_names_out instead.\n",
      "Criterion 'mse' was deprecated in v1.0 and will be removed in version 1.2. Use `criterion='squared_error'` which is equivalent.\n",
      "Criterion 'mse' was deprecated in v1.0 and will be removed in version 1.2. Use `criterion='squared_error'` which is equivalent.\n",
      "[flaml.tune.tune: 09-29 01:03:55] {118} INFO - result: {'energy_distance': 0.0062222520708790086, 'estimator': <dowhy.causal_estimator.CausalEstimate object at 0x2c8020be0>, 'estimator_name': 'iv.econml.iv.dr.IntentToTreatDRIV', 'scores': {'train': {'intrp': <econml.cate_interpreter._interpreters.SingleTreeCateInterpreter object at 0x433cb5a30>, 'ate': -0.2030238744536353, 'ate_std': 12.248235507672629, 'energy_distance': 0.01449855399370037}, 'validation': {'intrp': <econml.cate_interpreter._interpreters.SingleTreeCateInterpreter object at 0x433cb5e20>, 'ate': -0.24382696087256345, 'ate_std': 9.726243227943653, 'energy_distance': 0.0062222520708790086}}, 'config': {'estimator': {'estimator_name': 'iv.econml.iv.dr.IntentToTreatDRIV', 'opt_reweighted': 0, 'cov_clip': 0.08, 'prel_opt_reweighted': 1, 'prel_cate_approach': 'dmliv'}}, 'training_iteration': 0, 'config/estimator': {'estimator_name': 'iv.econml.iv.dr.IntentToTreatDRIV', 'opt_reweighted': 0, 'cov_clip': 0.08, 'prel_opt_reweighted': 1, 'prel_cate_approach': 'dmliv'}, 'experiment_tag': 'exp', 'time_total_s': 26691.237374067307}\n"
     ]
    }
   ],
   "source": [
    "ac_linear_te = AutoCausality(\n",
    "    estimator_list=estimator_list,\n",
    "    verbose=3,\n",
    "    components_verbose=2,\n",
    "    time_budget=72000,\n",
    "    components_time_budget=1200,\n",
    "    propensity_model=\"auto\",\n",
    "    train_size=0.8\n",
    ")\n",
    "\n",
    "ac_linear_te.fit(df_train, treatment, outcome, features_X[2:], features_X[:2], instruments)"
   ]
  },
  {
   "cell_type": "code",
   "execution_count": 28,
   "metadata": {},
   "outputs": [
    {
     "data": {
      "image/png": "[encoded data removed]",
      "text/latex": [
       "$\\displaystyle 8$"
      ],
      "text/plain": [
       "8"
      ]
     },
     "execution_count": 28,
     "metadata": {},
     "output_type": "execute_result"
    }
   ],
   "source": [
    "len(ac_linear_te.results.results)"
   ]
  },
  {
   "cell_type": "code",
   "execution_count": 34,
   "metadata": {},
   "outputs": [
    {
     "data": {
      "text/plain": [
       "{'_settings': {'tuner': {'time_budget_s': 72000,\n",
       "   'num_samples': -1,\n",
       "   'verbose': 3,\n",
       "   'use_ray': False,\n",
       "   'resources_per_trial': {'cpu': 0.5}},\n",
       "  'try_init_configs': True,\n",
       "  'component_models': {'task': 'regression',\n",
       "   'verbose': 2,\n",
       "   'pred_time_limit': 1e-05,\n",
       "   'n_jobs': -1,\n",
       "   'time_budget': 1200},\n",
       "  'train_size': 0.8,\n",
       "  'test_size': None},\n",
       " 'metric': 'energy_distance',\n",
       " 'metrics_to_report': ['energy_distance'],\n",
       " 'propensity_model': AutoML(append_log=False, auto_augment=True, custom_hp={}, early_stop=False,\n",
       "        ensemble=False, estimator_list='auto', eval_method='auto',\n",
       "        fit_kwargs_by_estimator={}, hpo_method='auto', keep_search_state=False,\n",
       "        learner_selector='sample', log_file_name='', log_training_metric=False,\n",
       "        log_type='better', max_iter=None, mem_thres=4294967296, metric='auto',\n",
       "        metric_constraints=[('pred_time', '<=', 1e-05)], min_sample_size=10000,\n",
       "        model_history=False, n_concurrent_trials=1, n_jobs=-1, n_splits=5,\n",
       "        pred_time_limit=1e-05, retrain_full=True, sample=True, split_ratio=0.1,\n",
       "        split_type='auto', starting_points='static', task='classification', ...),\n",
       " 'outcome_model': AutoML(append_log=False, auto_augment=True, custom_hp={}, early_stop=False,\n",
       "        ensemble=False, estimator_list='auto', eval_method='auto',\n",
       "        fit_kwargs_by_estimator={}, hpo_method='auto', keep_search_state=False,\n",
       "        learner_selector='sample', log_file_name='', log_training_metric=False,\n",
       "        log_type='better', max_iter=None, mem_thres=4294967296, metric='auto',\n",
       "        metric_constraints=[], min_sample_size=10000, model_history=False,\n",
       "        n_concurrent_trials=1, n_jobs=-1, n_splits=5, pred_time_limit=1e-05,\n",
       "        retrain_full=True, sample=True, split_ratio=0.1, split_type='auto',\n",
       "        starting_points='static', task='regression', ...),\n",
       " 'cfg': <auto_causality.params.SimpleParamService at 0x28bab7160>,\n",
       " 'results': <flaml.tune.tune.ExperimentAnalysis at 0x2b401f0a0>,\n",
       " '_best_estimators': defaultdict(<function auto_causality.optimiser.AutoCausality.fit.<locals>.<lambda>()>,\n",
       "             {'iv.auto_causality.models.SimpleIV': (0.14279393038355437,\n",
       "               <dowhy.causal_estimator.CausalEstimate at 0x28c771cd0>),\n",
       "              'iv.econml.iv.dr.LinearDRIV': (0.08784981816150683,\n",
       "               <dowhy.causal_estimator.CausalEstimate at 0x28e1c8850>),\n",
       "              'iv.econml.iv.dml.DMLIV': (0.08815674097088788,\n",
       "               <dowhy.causal_estimator.CausalEstimate at 0x15c0090d0>),\n",
       "              'iv.econml.iv.dr.IntentToTreatDRIV': (0.005341646257202015,\n",
       "               <dowhy.causal_estimator.CausalEstimate at 0x15c01d0d0>),\n",
       "              'iv.econml.iv.dr.SparseLinearDRIV': (0.08838393051477222,\n",
       "               <dowhy.causal_estimator.CausalEstimate at 0x2c8009160>),\n",
       "              'iv.econml.iv.dr.ForestDRIV': (0.03876630877182574,\n",
       "               <dowhy.causal_estimator.CausalEstimate at 0x2b401f5b0>),\n",
       "              'iv.econml.iv.dr.LinearIntentToTreatDRIV': (0.13043805929651953,\n",
       "               <dowhy.causal_estimator.CausalEstimate at 0x2c80099a0>)}),\n",
       " 'original_estimator_list': ['SimpleIV',\n",
       "  'SparseLinearDRIV',\n",
       "  'DMLIV',\n",
       "  'LinearDRIV',\n",
       "  'LinearIntentToTreatDRIV',\n",
       "  'ForestDRIV',\n",
       "  'IntentToTreatDRIV'],\n",
       " 'data_df':        treatment          y    Z        x1        x2        x3        x4  \\\n",
       " 48423        1.0   1.725671  1.0 -0.537809 -0.124271  0.795699 -0.834219   \n",
       " 23140        0.0   3.632314  1.0 -1.405308 -1.019279  0.648146 -1.911916   \n",
       " 374          0.0   3.018122  1.0 -0.614374 -1.110493  0.704305 -0.719564   \n",
       " 56363        0.0  12.273410  0.0 -0.189886  2.060669 -1.579035  1.168288   \n",
       " 48898        1.0  10.685102  1.0  0.368245  0.751106 -0.708196  2.385056   \n",
       " ...          ...        ...  ...       ...       ...       ...       ...   \n",
       " 14747        1.0  12.942929  1.0  0.372379  0.109035  1.198612  0.266549   \n",
       " 6217         0.0   8.161413  0.0  0.256090  1.078361 -1.445216  1.790684   \n",
       " 51291        1.0  11.987459  1.0  0.512320 -0.303131  1.091937  0.461714   \n",
       " 59513        0.0   5.955197  0.0 -0.203125  0.218007 -0.795710 -0.135367   \n",
       " 20901        0.0   9.637900  0.0  1.075196 -0.297287  1.396365 -0.200888   \n",
       " \n",
       "              x5        x6        x7        x8        x9       x10       x11  \\\n",
       " 48423 -0.256867 -0.278977  1.301755 -0.174008 -1.363742 -0.038583 -0.516141   \n",
       " 23140  0.763641 -1.197723 -0.063461  0.235379 -0.188018 -1.178343  0.836244   \n",
       " 374   -0.735482  1.095563  0.049356 -1.138341  0.101717  1.556851  1.120560   \n",
       " 56363  1.268015  0.915415 -0.749019  0.290776 -1.432303 -0.658196 -0.678912   \n",
       " 48898 -0.895128  0.171010  1.866754 -1.192084 -0.389994  1.428801 -0.864667   \n",
       " ...         ...       ...       ...       ...       ...       ...       ...   \n",
       " 14747  0.576616  0.209808  0.269541 -0.427704  2.042727  0.360380  1.573641   \n",
       " 6217  -0.514719 -0.044801  1.407654 -0.835238 -1.958280  0.254243  0.671018   \n",
       " 51291 -1.021396 -1.555714  0.193901  0.023692 -1.240990  0.537586 -0.882649   \n",
       " 59513  1.037529  0.961081 -1.615556  0.518914 -0.325358 -0.681152 -0.236559   \n",
       " 20901  0.579285 -1.373583  0.053365  0.615222 -0.669168 -0.405545  1.501640   \n",
       " \n",
       "             x12       x13       x14       x15  random  \n",
       " 48423 -0.209794 -0.124095  0.285175 -0.037572     0.0  \n",
       " 23140 -0.313461 -0.088779  0.385072 -0.940476     1.0  \n",
       " 374   -0.339383  1.815382 -0.255806  0.526907     1.0  \n",
       " 56363  0.101040 -1.029162 -0.672465 -0.242024     0.0  \n",
       " 48898  0.947921 -0.773965 -1.219181 -0.421374     0.0  \n",
       " ...         ...       ...       ...       ...     ...  \n",
       " 14747  1.092551 -0.334980 -0.648381  1.442860     1.0  \n",
       " 6217  -0.885326  0.039318 -1.046400 -1.621479     0.0  \n",
       " 51291 -0.256718 -0.298150 -0.893391  1.607888     1.0  \n",
       " 59513 -1.297504  0.678261  0.562966 -0.285177     0.0  \n",
       " 20901  1.371115  0.794489 -1.940268 -1.745366     0.0  \n",
       " \n",
       " [49000 rows x 19 columns],\n",
       " 'causal_model': <dowhy.causal_model.CausalModel at 0x13fec4850>,\n",
       " 'identified_estimand': <dowhy.causal_identifier.IdentifiedEstimand at 0x28d889310>,\n",
       " 'problem': 'iv',\n",
       " 'resume_scores': [],\n",
       " 'resume_cfg': [],\n",
       " 'train_df':        treatment          y    Z        x1        x2        x3        x4  \\\n",
       " 26269        1.0  11.479253  1.0  0.064973 -0.118685 -0.413430 -1.019414   \n",
       " 15524        0.0   4.795249  1.0 -1.167427  0.584474 -0.556770 -0.651445   \n",
       " 7350         0.0   3.661815  0.0  1.289124  1.744002 -0.051092 -1.701494   \n",
       " 27286        0.0   7.686087  0.0 -0.044350 -0.332857 -0.148057  0.352688   \n",
       " 36070        0.0   8.260099  0.0 -0.259898 -0.358648 -1.062999  1.172672   \n",
       " ...          ...        ...  ...       ...       ...       ...       ...   \n",
       " 43807        1.0  11.575865  1.0 -0.329236  0.944098 -0.258636 -0.733546   \n",
       " 26891        0.0  10.956034  0.0 -0.128214 -0.205313  1.536898  0.884965   \n",
       " 69170        0.0   9.476196  0.0 -1.617953 -0.965294  0.812536  0.929390   \n",
       " 49930        1.0   8.201912  1.0 -0.437048  1.240636 -0.670153 -0.982859   \n",
       " 58276        0.0   6.963896  1.0  0.653140  0.351849  2.342121 -0.792556   \n",
       " \n",
       "              x5        x6        x7        x8        x9       x10       x11  \\\n",
       " 26269  0.344653  0.376437  0.538360 -0.442930 -0.360953  0.599088  0.428137   \n",
       " 15524  0.245895 -0.141286  1.092833 -1.645474 -0.383770  0.600744  0.248977   \n",
       " 7350   1.067198 -0.583289  2.358300  0.688608  0.009361 -0.684366 -0.491612   \n",
       " 27286 -0.236839  0.085595 -2.657479  0.791828  1.274771 -0.449625  1.762124   \n",
       " 36070  0.506062 -0.473725 -1.371967  2.638694 -0.080286 -0.597657 -2.818165   \n",
       " ...         ...       ...       ...       ...       ...       ...       ...   \n",
       " 43807 -0.616378 -1.325594 -0.285760 -1.064826 -0.455485 -0.535696  0.640459   \n",
       " 26891 -0.784505  1.393473 -0.141318 -0.728819  1.458357  0.413067 -1.914657   \n",
       " 69170  0.644181 -0.918372  0.424155  0.046282 -0.892048 -1.617710 -0.009478   \n",
       " 49930 -1.295521  1.792487  0.968876 -0.457487 -0.473679 -2.234406 -0.183305   \n",
       " 58276  1.234855 -0.718277  0.870326  0.653946  0.749606  0.212383  0.432782   \n",
       " \n",
       "             x12       x13       x14       x15  random  \n",
       " 26269  0.775839  0.357097  1.215028  0.690009     0.0  \n",
       " 15524  0.713691  1.600248 -0.316669 -0.920795     0.0  \n",
       " 7350  -0.448372  0.879299 -0.988844  0.458949     1.0  \n",
       " 27286  0.841005  0.789128  1.119049  0.669875     0.0  \n",
       " 36070 -0.699165  1.156109  0.396790  0.746503     1.0  \n",
       " ...         ...       ...       ...       ...     ...  \n",
       " 43807  1.022495 -0.043670 -1.919019  0.472433     1.0  \n",
       " 26891  1.978395  1.310313  1.305495 -1.064668     1.0  \n",
       " 69170  0.705937 -1.674405  0.028031 -0.064759     0.0  \n",
       " 49930 -2.348379 -1.818735 -0.120492  0.093253     0.0  \n",
       " 58276 -0.405140  0.524207  0.848476  0.278039     0.0  \n",
       " \n",
       " [39200 rows x 19 columns],\n",
       " 'test_df':        treatment          y    Z        x1        x2        x3        x4  \\\n",
       " 37806        0.0  15.611087  0.0 -0.218651 -0.450679 -0.534503  0.855900   \n",
       " 42379        0.0   3.293864  0.0 -0.254940  1.547412  1.081650 -0.344248   \n",
       " 49057        0.0   7.662971  0.0 -0.679765  0.131895  0.069334 -0.069431   \n",
       " 49929        0.0   1.660958  0.0 -0.640235 -1.168750  1.493108 -0.489502   \n",
       " 22775        0.0   7.625298  0.0 -0.234715  0.551280  1.286289 -0.193289   \n",
       " ...          ...        ...  ...       ...       ...       ...       ...   \n",
       " 28755        0.0   1.803936  1.0 -1.408713 -1.571849  1.152902 -0.191256   \n",
       " 3840         0.0   8.457575  0.0 -0.260457  0.293039  0.076324  1.508876   \n",
       " 49193        1.0  23.901033  1.0 -1.453427  0.930861  2.143135  0.834609   \n",
       " 22187        0.0   2.658364  1.0  0.787422  1.024968  0.100866 -1.262613   \n",
       " 4655         0.0  16.319172  0.0  1.480229 -0.223311 -1.791336  1.644752   \n",
       " \n",
       "              x5        x6        x7        x8        x9       x10       x11  \\\n",
       " 37806 -0.065071  3.130002  1.166217  0.541029  0.778601  0.179975  2.789336   \n",
       " 42379 -0.126676  0.582962  0.954378  0.216070 -1.885563 -1.088057 -0.729411   \n",
       " 49057  0.046982  1.416238  0.848913 -0.861296  1.535546  0.374606  0.030220   \n",
       " 49929 -0.118141  1.086297 -0.043562 -1.312195  0.767261 -1.003978  0.367533   \n",
       " 22775  0.878913  0.576355 -0.181740 -0.756185  1.158529 -0.621854  0.183825   \n",
       " ...         ...       ...       ...       ...       ...       ...       ...   \n",
       " 28755 -0.689836  0.287188  1.601614  0.949618 -1.861305  1.464142  0.598002   \n",
       " 3840  -0.804390 -1.319098 -0.157440  1.979361 -0.659680  0.960379  1.972600   \n",
       " 49193  1.618035  0.225490 -1.536928  1.471760 -0.250872 -1.380763 -0.513268   \n",
       " 22187 -0.541728 -0.695020 -0.463615  1.111834  0.599748  1.037810  0.721243   \n",
       " 4655  -0.709333 -0.786624 -1.514880  2.579970 -0.596796 -0.571864 -1.201510   \n",
       " \n",
       "             x12       x13       x14       x15  random  \n",
       " 37806 -1.021009  0.896247 -0.728605  1.446655     0.0  \n",
       " 42379 -1.860589 -0.047304 -0.672832 -0.198959     0.0  \n",
       " 49057  0.964046  2.047672 -0.010309 -0.869385     1.0  \n",
       " 49929  1.152831  1.108336 -0.052155  0.903083     1.0  \n",
       " 22775 -1.031814 -1.107747 -0.532754 -0.853775     0.0  \n",
       " ...         ...       ...       ...       ...     ...  \n",
       " 28755  0.441793 -1.442687  1.331968  0.130568     1.0  \n",
       " 3840   3.016355  0.110972 -0.094200 -0.733740     1.0  \n",
       " 49193  0.109723  0.729291  0.638344 -0.224760     1.0  \n",
       " 22187 -0.203429 -1.435452  0.982443 -0.919088     0.0  \n",
       " 4655   0.683066  0.844186 -0.431939  1.878558     1.0  \n",
       " \n",
       " [9800 rows x 19 columns],\n",
       " 'scorer': <auto_causality.scoring.Scorer at 0x28d889490>,\n",
       " 'estimator_list': ['iv.auto_causality.models.SimpleIV',\n",
       "  'iv.econml.iv.dml.DMLIV',\n",
       "  'iv.econml.iv.dr.ForestDRIV',\n",
       "  'iv.econml.iv.dr.IntentToTreatDRIV',\n",
       "  'iv.econml.iv.dr.LinearDRIV',\n",
       "  'iv.econml.iv.dr.LinearIntentToTreatDRIV',\n",
       "  'iv.econml.iv.dr.SparseLinearDRIV'],\n",
       " 'r_scorer': None,\n",
       " 'scores': {'iv.auto_causality.models.SimpleIV': {'energy_distance': 0.14279393038355437,\n",
       "   'estimator_name': 'iv.auto_causality.models.SimpleIV',\n",
       "   'scores': {'train': {'intrp': <econml.cate_interpreter._interpreters.SingleTreeCateInterpreter at 0x28c660a60>,\n",
       "     'ate': -0.13644225895404816,\n",
       "     'ate_std': 0.0,\n",
       "     'energy_distance': 0.1347389441280411},\n",
       "    'validation': {'intrp': <econml.cate_interpreter._interpreters.SingleTreeCateInterpreter at 0x28c5f7f70>,\n",
       "     'ate': -0.13644225895404816,\n",
       "     'ate_std': 0.0,\n",
       "     'energy_distance': 0.14279393038355437}},\n",
       "   'config': {'estimator': {'estimator_name': 'iv.auto_causality.models.SimpleIV'}},\n",
       "   'training_iteration': 0,\n",
       "   'config/estimator': {'estimator_name': 'iv.auto_causality.models.SimpleIV'},\n",
       "   'experiment_tag': 'exp',\n",
       "   'time_total_s': 51.65085506439209,\n",
       "   'estimator': <dowhy.causal_estimator.CausalEstimate at 0x28c771cd0>},\n",
       "  'iv.econml.iv.dml.DMLIV': {'energy_distance': 0.08815674097088788,\n",
       "   'estimator_name': 'iv.econml.iv.dml.DMLIV',\n",
       "   'scores': {'train': {'intrp': <econml.cate_interpreter._interpreters.SingleTreeCateInterpreter at 0x15f79e1c0>,\n",
       "     'ate': -0.08092242123021137,\n",
       "     'ate_std': 2.681643441067033,\n",
       "     'energy_distance': 0.0810363205758291},\n",
       "    'validation': {'intrp': <econml.cate_interpreter._interpreters.SingleTreeCateInterpreter at 0x15f79e5b0>,\n",
       "     'ate': -0.0849721939406986,\n",
       "     'ate_std': 2.6727096531769963,\n",
       "     'energy_distance': 0.08815674097088788}},\n",
       "   'config': {'estimator': {'estimator_name': 'iv.econml.iv.dml.DMLIV',\n",
       "     'mc_agg': 'mean'}},\n",
       "   'training_iteration': 0,\n",
       "   'config/estimator': {'estimator_name': 'iv.econml.iv.dml.DMLIV',\n",
       "    'mc_agg': 'mean'},\n",
       "   'experiment_tag': 'exp',\n",
       "   'time_total_s': 6704.348477840424,\n",
       "   'estimator': <dowhy.causal_estimator.CausalEstimate at 0x15c0090d0>},\n",
       "  'iv.econml.iv.dr.ForestDRIV': {'energy_distance': 0.03876630877182574,\n",
       "   'estimator_name': 'iv.econml.iv.dr.ForestDRIV',\n",
       "   'scores': {'train': {'intrp': <econml.cate_interpreter._interpreters.SingleTreeCateInterpreter at 0x423fd3be0>,\n",
       "     'ate': -0.07965698041350198,\n",
       "     'ate_std': 4.02792665379927,\n",
       "     'energy_distance': 0.030637331796302902},\n",
       "    'validation': {'intrp': <econml.cate_interpreter._interpreters.SingleTreeCateInterpreter at 0x423fd3fd0>,\n",
       "     'ate': -0.0798500514153362,\n",
       "     'ate_std': 3.9766600476464573,\n",
       "     'energy_distance': 0.03876630877182574}},\n",
       "   'config': {'estimator': {'estimator_name': 'iv.econml.iv.dr.ForestDRIV',\n",
       "     'projection': 0,\n",
       "     'opt_reweighted': 0,\n",
       "     'cov_clip': 0.1,\n",
       "     'min_samples_split': 2}},\n",
       "   'training_iteration': 0,\n",
       "   'config/estimator': {'estimator_name': 'iv.econml.iv.dr.ForestDRIV',\n",
       "    'projection': 0,\n",
       "    'opt_reweighted': 0,\n",
       "    'cov_clip': 0.1,\n",
       "    'min_samples_split': 2},\n",
       "   'experiment_tag': 'exp',\n",
       "   'time_total_s': 9866.617724180222,\n",
       "   'estimator': <dowhy.causal_estimator.CausalEstimate at 0x2b401f5b0>},\n",
       "  'iv.econml.iv.dr.IntentToTreatDRIV': {'energy_distance': 0.005341646257202015,\n",
       "   'estimator_name': 'iv.econml.iv.dr.IntentToTreatDRIV',\n",
       "   'scores': {'train': {'intrp': <econml.cate_interpreter._interpreters.SingleTreeCateInterpreter at 0x2c862d040>,\n",
       "     'ate': -0.15720346593431064,\n",
       "     'ate_std': 9.592048439263289,\n",
       "     'energy_distance': 0.0033630299256781626},\n",
       "    'validation': {'intrp': <econml.cate_interpreter._interpreters.SingleTreeCateInterpreter at 0x2c862d430>,\n",
       "     'ate': -0.1749867916350462,\n",
       "     'ate_std': 9.403224153477913,\n",
       "     'energy_distance': 0.005341646257202015}},\n",
       "   'config': {'estimator': {'estimator_name': 'iv.econml.iv.dr.IntentToTreatDRIV',\n",
       "     'opt_reweighted': 0,\n",
       "     'cov_clip': 0.1,\n",
       "     'prel_opt_reweighted': 1,\n",
       "     'prel_cate_approach': 'driv'}},\n",
       "   'training_iteration': 0,\n",
       "   'config/estimator': {'estimator_name': 'iv.econml.iv.dr.IntentToTreatDRIV',\n",
       "    'opt_reweighted': 0,\n",
       "    'cov_clip': 0.1,\n",
       "    'prel_opt_reweighted': 1,\n",
       "    'prel_cate_approach': 'driv'},\n",
       "   'experiment_tag': 'exp',\n",
       "   'time_total_s': 15798.709083795547,\n",
       "   'estimator': <dowhy.causal_estimator.CausalEstimate at 0x15c01d0d0>},\n",
       "  'iv.econml.iv.dr.LinearDRIV': {'energy_distance': 0.08784981816150683,\n",
       "   'estimator_name': 'iv.econml.iv.dr.LinearDRIV',\n",
       "   'scores': {'train': {'intrp': <econml.cate_interpreter._interpreters.SingleTreeCateInterpreter at 0x154b6dc40>,\n",
       "     'ate': -0.07134783832630648,\n",
       "     'ate_std': 2.8059113919799112,\n",
       "     'energy_distance': 0.08099298148226097},\n",
       "    'validation': {'intrp': <econml.cate_interpreter._interpreters.SingleTreeCateInterpreter at 0x154b7a070>,\n",
       "     'ate': -0.07574944975854819,\n",
       "     'ate_std': 2.7961513249918313,\n",
       "     'energy_distance': 0.08784981816150683}},\n",
       "   'config': {'estimator': {'estimator_name': 'iv.econml.iv.dr.LinearDRIV',\n",
       "     'projection': 1}},\n",
       "   'training_iteration': 0,\n",
       "   'config/estimator': {'estimator_name': 'iv.econml.iv.dr.LinearDRIV',\n",
       "    'projection': 1},\n",
       "   'experiment_tag': 'exp',\n",
       "   'time_total_s': 9686.799738168716,\n",
       "   'estimator': <dowhy.causal_estimator.CausalEstimate at 0x28e1c8850>},\n",
       "  'iv.econml.iv.dr.LinearIntentToTreatDRIV': {'energy_distance': 0.13043805929651953,\n",
       "   'estimator_name': 'iv.econml.iv.dr.LinearIntentToTreatDRIV',\n",
       "   'scores': {'train': {'intrp': <econml.cate_interpreter._interpreters.SingleTreeCateInterpreter at 0x2b370c310>,\n",
       "     'ate': -0.12810927039110728,\n",
       "     'ate_std': 5.955464796256489,\n",
       "     'energy_distance': 0.13557781735918706},\n",
       "    'validation': {'intrp': <econml.cate_interpreter._interpreters.SingleTreeCateInterpreter at 0x2b4dc0730>,\n",
       "     'ate': -0.13747376678461054,\n",
       "     'ate_std': 5.9346939478823435,\n",
       "     'energy_distance': 0.13043805929651953}},\n",
       "   'config': {'estimator': {'estimator_name': 'iv.econml.iv.dr.LinearIntentToTreatDRIV',\n",
       "     'cov_clip': 0.1,\n",
       "     'opt_reweighted': 1}},\n",
       "   'training_iteration': 0,\n",
       "   'config/estimator': {'estimator_name': 'iv.econml.iv.dr.LinearIntentToTreatDRIV',\n",
       "    'cov_clip': 0.1,\n",
       "    'opt_reweighted': 1},\n",
       "   'experiment_tag': 'exp',\n",
       "   'time_total_s': 8657.24066209793,\n",
       "   'estimator': <dowhy.causal_estimator.CausalEstimate at 0x2c80099a0>},\n",
       "  'iv.econml.iv.dr.SparseLinearDRIV': {'energy_distance': 0.08838393051477222,\n",
       "   'estimator_name': 'iv.econml.iv.dr.SparseLinearDRIV',\n",
       "   'scores': {'train': {'intrp': <econml.cate_interpreter._interpreters.SingleTreeCateInterpreter at 0x2cf2bb310>,\n",
       "     'ate': -0.11559896443912493,\n",
       "     'ate_std': 3.2727157027205815,\n",
       "     'energy_distance': 0.08199566218184096},\n",
       "    'validation': {'intrp': <econml.cate_interpreter._interpreters.SingleTreeCateInterpreter at 0x2cf2bb700>,\n",
       "     'ate': -0.12061103467146776,\n",
       "     'ate_std': 3.261637147492497,\n",
       "     'energy_distance': 0.08838393051477222}},\n",
       "   'config': {'estimator': {'estimator_name': 'iv.econml.iv.dr.SparseLinearDRIV',\n",
       "     'projection': 0,\n",
       "     'opt_reweighted': 0,\n",
       "     'cov_clip': 0.1}},\n",
       "   'training_iteration': 0,\n",
       "   'config/estimator': {'estimator_name': 'iv.econml.iv.dr.SparseLinearDRIV',\n",
       "    'projection': 0,\n",
       "    'opt_reweighted': 0,\n",
       "    'cov_clip': 0.1},\n",
       "   'experiment_tag': 'exp',\n",
       "   'time_total_s': 9828.420727968216,\n",
       "   'estimator': <dowhy.causal_estimator.CausalEstimate at 0x2c8009160>}}}"
      ]
     },
     "execution_count": 34,
     "metadata": {},
     "output_type": "execute_result"
    }
   ],
   "source": [
    "ac_linear_te.__dict__"
   ]
  },
  {
   "cell_type": "code",
   "execution_count": 38,
   "metadata": {},
   "outputs": [],
   "source": [
    "# Evaluation\n",
    "\n",
    "import numpy as np\n",
    "\n",
    "def mse_heffects(estimator, test_cov, labels):\n",
    "    est_effect = estimator.effect(test_cov)\n",
    "    mse = np.square(est_effect - labels).mean()\n",
    "    \n",
    "    return mse"
   ]
  },
  {
   "cell_type": "code",
   "execution_count": 39,
   "metadata": {},
   "outputs": [],
   "source": [
    "df_test[['x1', 'x2']].values.shape\n",
    "\n",
    "CATE_VALUES = lambda x, y: TRUE_EFFECT * (x ** 2) * y\n",
    "test_covals = df_test[['x1', 'x2']].values\n",
    "x, y = test_covals[:, 0], test_covals[:, 1]\n",
    "\n",
    "cate_effect_vals = CATE_VALUES(x, y)"
   ]
  },
  {
   "cell_type": "code",
   "execution_count": 61,
   "metadata": {},
   "outputs": [
    {
     "data": {
      "text/plain": [
       "[Text(0.5, 0, 'MSE'),\n",
       " Text(0, 0.5, 'test_score'),\n",
       " Text(0.5, 1.0, 'energy_distance')]"
      ]
     },
     "execution_count": 61,
     "metadata": {},
     "output_type": "execute_result"
    },
    {
     "data": {
      "image/png": "[encoded data removed]",
      "text/plain": [
       "<Figure size 400x400 with 1 Axes>"
      ]
     },
     "metadata": {},
     "output_type": "display_data"
    }
   ],
   "source": [
    "import seaborn as sns\n",
    "\n",
    "\n",
    "stats = []\n",
    "for est_name, scr in ac_linear_te.scores.items():\n",
    "    estimator = scr[\"estimator\"].estimator\n",
    "    \n",
    "    mse_test = mse_heffects(estimator, df_test[features_X[:2]], cate_effect_vals)\n",
    "\n",
    "    energy_distance = ac_linear_te.scorer.make_scores(\n",
    "                scr[\"estimator\"],\n",
    "                df_test,\n",
    "                problem=ac_linear_te.problem,\n",
    "                metrics_to_report=ac_linear_te.metrics_to_report\n",
    "            )[\"energy_distance\"]\n",
    "    \n",
    "\n",
    "    stats.append([est_name, mse_test, energy_distance])\n",
    "\n",
    "df_stats = pd.DataFrame(stats, columns=[\"estimator\", \"mse\", \"energy_distance\"])\n",
    "\n",
    "plt.figure(figsize=(4, 4))\n",
    "\n",
    "sns.set(font_scale=2.5)\n",
    "sns.set_theme(style='white')\n",
    "\n",
    "g = sns.scatterplot(\n",
    "    df_stats,\n",
    "    x=\"mse\",\n",
    "    y=\"energy_distance\",\n",
    "    hue=\"estimator\",\n",
    "    s=100\n",
    ")\n",
    "\n",
    "import matplotlib.ticker as ticker\n",
    "\n",
    "\n",
    "g.xaxis.set_major_locator(ticker.MultipleLocator(30))\n",
    "g.xaxis.set_major_formatter(ticker.ScalarFormatter())\n",
    "\n",
    "g.yaxis.set_major_locator(ticker.MultipleLocator(0.05))\n",
    "g.yaxis.set_major_formatter(ticker.ScalarFormatter())\n",
    "\n",
    "g.legend(title=\"\")\n",
    "sns.move_legend(g, \"upper left\", bbox_to_anchor=(1, 1))\n",
    "\n",
    "# legend = g.legend()\n",
    "# legend.texts[0].set_text(\"\")\n",
    "\n",
    "g.set(xlabel=\"MSE\", ylabel=\"test_score\", title=\"energy_distance\")\n",
    "   "
   ]
  },
  {
   "cell_type": "code",
   "execution_count": 25,
   "metadata": {},
   "outputs": [
    {
     "ename": "EOFError",
     "evalue": "Ran out of input",
     "output_type": "error",
     "traceback": [
      "\u001b[0;31m---------------------------------------------------------------------------\u001b[0m",
      "\u001b[0;31mEOFError\u001b[0m                                  Traceback (most recent call last)",
      "Cell \u001b[0;32mIn [25], line 4\u001b[0m\n\u001b[1;32m      2\u001b[0m model_file \u001b[38;5;241m=\u001b[39m \u001b[38;5;28mopen\u001b[39m(\u001b[38;5;124m\"\u001b[39m\u001b[38;5;124mmodel.pkl\u001b[39m\u001b[38;5;124m\"\u001b[39m, \u001b[38;5;124m\"\u001b[39m\u001b[38;5;124mrb\u001b[39m\u001b[38;5;124m\"\u001b[39m)\n\u001b[1;32m      3\u001b[0m \u001b[38;5;28;01mwith\u001b[39;00m \u001b[38;5;28mopen\u001b[39m(\u001b[38;5;124m\"\u001b[39m\u001b[38;5;124mmodel.pkl\u001b[39m\u001b[38;5;124m\"\u001b[39m, \u001b[38;5;124m\"\u001b[39m\u001b[38;5;124mrb\u001b[39m\u001b[38;5;124m\"\u001b[39m) \u001b[38;5;28;01mas\u001b[39;00m f:\n\u001b[0;32m----> 4\u001b[0m     model \u001b[38;5;241m=\u001b[39m \u001b[43mpickle\u001b[49m\u001b[38;5;241;43m.\u001b[39;49m\u001b[43mload\u001b[49m\u001b[43m(\u001b[49m\u001b[43mf\u001b[49m\u001b[43m)\u001b[49m\u001b[38;5;241m.\u001b[39mread()\n\u001b[1;32m      5\u001b[0m model\u001b[38;5;241m.\u001b[39mresults\n",
      "\u001b[0;31mEOFError\u001b[0m: Ran out of input"
     ]
    }
   ],
   "source": [
    "import pickle\n",
    "\n",
    "# model_file = open(\"model.pkl\", \"rb\")\n",
    "with open(\"model.pkl\", \"rb\") as f:\n",
    "    model = pickle.load(f)\n",
    "model.results"
   ]
  },
  {
   "cell_type": "code",
   "execution_count": 85,
   "metadata": {},
   "outputs": [],
   "source": [
    "from cProfile import label\n",
    "\n",
    "\n",
    "def get_scores(results_dict, te=TRUE_EFFECT):\n",
    "    all_scores = list()\n",
    "    for label, scores in results_dict.items():\n",
    "        val_scores = scores[\"scores\"][\"validation\"]\n",
    "        ate = val_scores[\"ate\"]\n",
    "        energy_distance = val_scores[\"energy_distance\"]\n",
    "        all_scores.append([energy_distance, (te-ate)**2])\n",
    "    return all_scores\n",
    "\n",
    "\n",
    "def all_estimator_scatter(results, best_estimators, title):\n",
    "    all_scores = get_scores(results)\n",
    "    best_scores = get_scores(best_estimators)\n",
    "    estimators = list(best_estimators.keys())\n",
    "\n",
    "    fig, ax = plt.subplots(figsize=(9, 7))\n",
    "    \n",
    "    for est in all_scores:\n",
    "        ax.scatter(est[1], est[0], c=\"gray\", label=\"_nolegend_\")\n",
    "    for i, est in enumerate(best_scores):\n",
    "        print(est)\n",
    "        ax.scatter(est[1], est[0], label=estimators[i])\n",
    "    \n",
    "    ax.set_ylabel(\"test score\")\n",
    "    ax.set_xlabel(\"MSE\")\n",
    "    ax.set_title(\"energy_distance\")\n",
    "    ax.legend()\n",
    "    plt.show()"
   ]
  },
  {
   "cell_type": "markdown",
   "metadata": {},
   "source": [
    "Here, we compare the best run(s) - orange dots - for the selected estimator(s), compared with intermediate runs - grey dots."
   ]
  },
  {
   "cell_type": "code",
   "execution_count": 86,
   "metadata": {},
   "outputs": [
    {
     "name": "stdout",
     "output_type": "stream",
     "text": [
      "[0.22867408617253382, 43.22900215509673]\n",
      "[0.14344045826186225, 44.243809829795076]\n",
      "[0.21031591646680425, 44.18064106937167]\n",
      "[0.013732010545933093, 43.309065467755715]\n",
      "[0.1581589010732456, 44.38416319592103]\n"
     ]
    },
    {
     "data": {
      "image/png": "[encoded data removed]",
      "text/plain": [
       "<Figure size 900x700 with 1 Axes>"
      ]
     },
     "metadata": {},
     "output_type": "display_data"
    }
   ],
   "source": [
    "all_estimator_scatter(\n",
    "    ac_linear_te.results.results,\n",
    "    ac_linear_te.scores,\n",
    "    title=\"linear_cate\"\n",
    ")"
   ]
  },
  {
   "cell_type": "code",
   "execution_count": 64,
   "metadata": {},
   "outputs": [
    {
     "data": {
      "text/html": [
       "<div>\n",
       "<style scoped>\n",
       "    .dataframe tbody tr th:only-of-type {\n",
       "        vertical-align: middle;\n",
       "    }\n",
       "\n",
       "    .dataframe tbody tr th {\n",
       "        vertical-align: top;\n",
       "    }\n",
       "\n",
       "    .dataframe thead th {\n",
       "        text-align: right;\n",
       "    }\n",
       "</style>\n",
       "<table border=\"1\" class=\"dataframe\">\n",
       "  <thead>\n",
       "    <tr style=\"text-align: right;\">\n",
       "      <th></th>\n",
       "      <th>estimator</th>\n",
       "      <th>estimated_effect</th>\n",
       "      <th>ate_mse</th>\n",
       "      <th>energy_distance</th>\n",
       "    </tr>\n",
       "  </thead>\n",
       "  <tbody>\n",
       "    <tr>\n",
       "      <th>0</th>\n",
       "      <td>iv.auto_causality.models.SimpleIV</td>\n",
       "      <td>0.125123</td>\n",
       "      <td>43.229002</td>\n",
       "      <td>0.208813</td>\n",
       "    </tr>\n",
       "    <tr>\n",
       "      <th>1</th>\n",
       "      <td>iv.econml.iv.dml.DMLIV</td>\n",
       "      <td>-0.017493</td>\n",
       "      <td>45.124719</td>\n",
       "      <td>0.130863</td>\n",
       "    </tr>\n",
       "    <tr>\n",
       "      <th>2</th>\n",
       "      <td>iv.econml.iv.dml.OrthoIV</td>\n",
       "      <td>-0.086598</td>\n",
       "      <td>46.057914</td>\n",
       "      <td>0.199842</td>\n",
       "    </tr>\n",
       "    <tr>\n",
       "      <th>3</th>\n",
       "      <td>iv.econml.iv.dr.IntentToTreatDRIV</td>\n",
       "      <td>-0.026285</td>\n",
       "      <td>45.242911</td>\n",
       "      <td>0.011017</td>\n",
       "    </tr>\n",
       "    <tr>\n",
       "      <th>4</th>\n",
       "      <td>iv.econml.iv.dr.LinearDRIV</td>\n",
       "      <td>-0.065063</td>\n",
       "      <td>45.766084</td>\n",
       "      <td>0.148137</td>\n",
       "    </tr>\n",
       "  </tbody>\n",
       "</table>\n",
       "</div>"
      ],
      "text/plain": [
       "                           estimator  estimated_effect    ate_mse  \\\n",
       "0  iv.auto_causality.models.SimpleIV          0.125123  43.229002   \n",
       "1             iv.econml.iv.dml.DMLIV         -0.017493  45.124719   \n",
       "2           iv.econml.iv.dml.OrthoIV         -0.086598  46.057914   \n",
       "3  iv.econml.iv.dr.IntentToTreatDRIV         -0.026285  45.242911   \n",
       "4         iv.econml.iv.dr.LinearDRIV         -0.065063  45.766084   \n",
       "\n",
       "   energy_distance  \n",
       "0         0.208813  \n",
       "1         0.130863  \n",
       "2         0.199842  \n",
       "3         0.011017  \n",
       "4         0.148137  "
      ]
     },
     "execution_count": 64,
     "metadata": {},
     "output_type": "execute_result"
    }
   ],
   "source": [
    "Xtest = test_df[features_X[:2]]\n",
    "get_est_effects(ac_linear_te, Xtest)"
   ]
  },
  {
   "cell_type": "code",
   "execution_count": 60,
   "metadata": {
    "collapsed": false,
    "pycharm": {
     "name": "#%%\n"
    }
   },
   "outputs": [
    {
     "ename": "KeyError",
     "evalue": "'test'",
     "output_type": "error",
     "traceback": [
      "\u001b[0;31m---------------------------------------------------------------------------\u001b[0m",
      "\u001b[0;31mKeyError\u001b[0m                                  Traceback (most recent call last)",
      "Cell \u001b[0;32mIn [60], line 2\u001b[0m\n\u001b[1;32m      1\u001b[0m score_all_test(ac_linear_te, df_test)\n\u001b[0;32m----> 2\u001b[0m \u001b[43mget_est_effects\u001b[49m\u001b[43m(\u001b[49m\u001b[43mac_linear_te\u001b[49m\u001b[43m,\u001b[49m\u001b[43m \u001b[49m\u001b[43mXtest\u001b[49m\u001b[43m)\u001b[49m\n\u001b[1;32m      3\u001b[0m graph_compare_estimators(ac_linear_te)\n",
      "Cell \u001b[0;32mIn [58], line 5\u001b[0m, in \u001b[0;36mget_est_effects\u001b[0;34m(models, test_x, te)\u001b[0m\n\u001b[1;32m      3\u001b[0m \u001b[38;5;28;01mfor\u001b[39;00m est_name, scr \u001b[38;5;129;01min\u001b[39;00m models\u001b[38;5;241m.\u001b[39mscores\u001b[38;5;241m.\u001b[39mitems():\n\u001b[1;32m      4\u001b[0m     est_effect \u001b[38;5;241m=\u001b[39m scr[\u001b[38;5;124m\"\u001b[39m\u001b[38;5;124mestimator\u001b[39m\u001b[38;5;124m\"\u001b[39m]\u001b[38;5;241m.\u001b[39mestimator\u001b[38;5;241m.\u001b[39meffect(test_x)\u001b[38;5;241m.\u001b[39mmean()\n\u001b[0;32m----> 5\u001b[0m     energy_distance \u001b[38;5;241m=\u001b[39m \u001b[43mscr\u001b[49m\u001b[43m[\u001b[49m\u001b[38;5;124;43m\"\u001b[39;49m\u001b[38;5;124;43mtest\u001b[39;49m\u001b[38;5;124;43m\"\u001b[39;49m\u001b[43m]\u001b[49m[\u001b[38;5;124m\"\u001b[39m\u001b[38;5;124menergy_distance\u001b[39m\u001b[38;5;124m\"\u001b[39m]\n\u001b[1;32m      6\u001b[0m     est_scores\u001b[38;5;241m.\u001b[39mappend([est_name, est_effect, (est_effect\u001b[38;5;241m-\u001b[39mte)\u001b[38;5;241m*\u001b[39m\u001b[38;5;241m*\u001b[39m\u001b[38;5;241m2\u001b[39m, energy_distance])\n\u001b[1;32m      8\u001b[0m \u001b[38;5;28;01mreturn\u001b[39;00m pd\u001b[38;5;241m.\u001b[39mDataFrame(est_scores, columns\u001b[38;5;241m=\u001b[39m[\u001b[38;5;124m\"\u001b[39m\u001b[38;5;124mestimator\u001b[39m\u001b[38;5;124m\"\u001b[39m, \u001b[38;5;124m\"\u001b[39m\u001b[38;5;124mestimated_effect\u001b[39m\u001b[38;5;124m\"\u001b[39m, \u001b[38;5;124m\"\u001b[39m\u001b[38;5;124mate_mse\u001b[39m\u001b[38;5;124m\"\u001b[39m, \u001b[38;5;124m\"\u001b[39m\u001b[38;5;124menergy_distance\u001b[39m\u001b[38;5;124m\"\u001b[39m])\n",
      "\u001b[0;31mKeyError\u001b[0m: 'test'"
     ]
    }
   ],
   "source": [
    "score_all_test(ac_linear_te, df_test)\n",
    "get_est_effects(ac_linear_te, Xtest)\n",
    "graph_compare_estimators(ac_linear_te)"
   ]
  },
  {
   "cell_type": "code",
   "execution_count": 66,
   "metadata": {},
   "outputs": [
    {
     "ename": "AttributeError",
     "evalue": "Can't pickle local object 'AutoCausality.fit.<locals>.<lambda>'",
     "output_type": "error",
     "traceback": [
      "\u001b[0;31m---------------------------------------------------------------------------\u001b[0m",
      "\u001b[0;31mAttributeError\u001b[0m                            Traceback (most recent call last)",
      "Cell \u001b[0;32mIn [66], line 4\u001b[0m\n\u001b[1;32m      1\u001b[0m \u001b[38;5;28;01mimport\u001b[39;00m \u001b[38;5;21;01mpickle\u001b[39;00m\n\u001b[1;32m      3\u001b[0m \u001b[38;5;28;01mwith\u001b[39;00m \u001b[38;5;28mopen\u001b[39m(\u001b[38;5;124m\"\u001b[39m\u001b[38;5;124m8h_80K.pkl\u001b[39m\u001b[38;5;124m\"\u001b[39m, \u001b[38;5;124m\"\u001b[39m\u001b[38;5;124mwb\u001b[39m\u001b[38;5;124m\"\u001b[39m) \u001b[38;5;28;01mas\u001b[39;00m f:\n\u001b[0;32m----> 4\u001b[0m     \u001b[43mpickle\u001b[49m\u001b[38;5;241;43m.\u001b[39;49m\u001b[43mdump\u001b[49m\u001b[43m(\u001b[49m\u001b[43mac_linear_te\u001b[49m\u001b[43m,\u001b[49m\u001b[43m \u001b[49m\u001b[43mf\u001b[49m\u001b[43m)\u001b[49m\n",
      "\u001b[0;31mAttributeError\u001b[0m: Can't pickle local object 'AutoCausality.fit.<locals>.<lambda>'"
     ]
    }
   ],
   "source": [
    "import pickle\n",
    "\n",
    "with open(\"8h_80K.pkl\", \"wb\") as f:\n",
    "    pickle.dump(ac_linear_te, f)"
   ]
  },
  {
   "cell_type": "markdown",
   "metadata": {
    "collapsed": false,
    "pycharm": {
     "name": "#%% md\n"
    }
   },
   "source": [
    "### Model Fitting (3): Non-linear Heterogeneous Treatment Effect\n",
    "\n",
    "Finally we explore non-linear heterogeneous treatment effects with the function below:\n",
    "\n",
    "\\begin{align}\n",
    "\\theta = \\; & 7.5  \\cdot   (X[2] + X[7]) \\tag{ATE}\\\\\n",
    "\\end{align}\n"
   ]
  },
  {
   "cell_type": "code",
   "execution_count": 30,
   "metadata": {
    "collapsed": false,
    "pycharm": {
     "name": "#%%\n"
    }
   },
   "outputs": [
    {
     "data": {
      "text/html": [
       "<div>\n",
       "<style scoped>\n",
       "    .dataframe tbody tr th:only-of-type {\n",
       "        vertical-align: middle;\n",
       "    }\n",
       "\n",
       "    .dataframe tbody tr th {\n",
       "        vertical-align: top;\n",
       "    }\n",
       "\n",
       "    .dataframe thead th {\n",
       "        text-align: right;\n",
       "    }\n",
       "</style>\n",
       "<table border=\"1\" class=\"dataframe\">\n",
       "  <thead>\n",
       "    <tr style=\"text-align: right;\">\n",
       "      <th></th>\n",
       "      <th>treatment</th>\n",
       "      <th>y</th>\n",
       "      <th>Z</th>\n",
       "      <th>x1</th>\n",
       "      <th>x2</th>\n",
       "      <th>x3</th>\n",
       "      <th>x4</th>\n",
       "      <th>x5</th>\n",
       "      <th>x6</th>\n",
       "      <th>x7</th>\n",
       "      <th>x8</th>\n",
       "      <th>x9</th>\n",
       "      <th>x10</th>\n",
       "      <th>x11</th>\n",
       "      <th>x12</th>\n",
       "      <th>x13</th>\n",
       "      <th>x14</th>\n",
       "      <th>x15</th>\n",
       "      <th>random</th>\n",
       "    </tr>\n",
       "  </thead>\n",
       "  <tbody>\n",
       "    <tr>\n",
       "      <th>1749</th>\n",
       "      <td>0.0</td>\n",
       "      <td>7.962746</td>\n",
       "      <td>0.0</td>\n",
       "      <td>-0.930624</td>\n",
       "      <td>1.162991</td>\n",
       "      <td>0.729456</td>\n",
       "      <td>-0.273677</td>\n",
       "      <td>0.689983</td>\n",
       "      <td>-0.542694</td>\n",
       "      <td>0.342018</td>\n",
       "      <td>-0.986162</td>\n",
       "      <td>0.334147</td>\n",
       "      <td>-0.522664</td>\n",
       "      <td>-0.760399</td>\n",
       "      <td>-0.696916</td>\n",
       "      <td>-0.250714</td>\n",
       "      <td>-0.925333</td>\n",
       "      <td>-0.308684</td>\n",
       "      <td>0.0</td>\n",
       "    </tr>\n",
       "    <tr>\n",
       "      <th>8753</th>\n",
       "      <td>0.0</td>\n",
       "      <td>7.466413</td>\n",
       "      <td>1.0</td>\n",
       "      <td>0.098788</td>\n",
       "      <td>0.561751</td>\n",
       "      <td>1.067532</td>\n",
       "      <td>-0.954808</td>\n",
       "      <td>0.157062</td>\n",
       "      <td>-1.942514</td>\n",
       "      <td>-1.290649</td>\n",
       "      <td>-1.146356</td>\n",
       "      <td>-0.172148</td>\n",
       "      <td>0.545423</td>\n",
       "      <td>-0.239812</td>\n",
       "      <td>-0.914031</td>\n",
       "      <td>-0.801335</td>\n",
       "      <td>2.295311</td>\n",
       "      <td>-2.074314</td>\n",
       "      <td>1.0</td>\n",
       "    </tr>\n",
       "    <tr>\n",
       "      <th>2376</th>\n",
       "      <td>0.0</td>\n",
       "      <td>3.807416</td>\n",
       "      <td>0.0</td>\n",
       "      <td>1.211798</td>\n",
       "      <td>0.320737</td>\n",
       "      <td>0.285181</td>\n",
       "      <td>-0.475356</td>\n",
       "      <td>1.627070</td>\n",
       "      <td>-0.820177</td>\n",
       "      <td>0.193067</td>\n",
       "      <td>-0.743845</td>\n",
       "      <td>0.394570</td>\n",
       "      <td>0.736218</td>\n",
       "      <td>0.934503</td>\n",
       "      <td>1.313644</td>\n",
       "      <td>1.574028</td>\n",
       "      <td>-1.220983</td>\n",
       "      <td>-0.814131</td>\n",
       "      <td>1.0</td>\n",
       "    </tr>\n",
       "    <tr>\n",
       "      <th>5866</th>\n",
       "      <td>0.0</td>\n",
       "      <td>12.620029</td>\n",
       "      <td>0.0</td>\n",
       "      <td>1.142354</td>\n",
       "      <td>0.262738</td>\n",
       "      <td>0.939899</td>\n",
       "      <td>0.564811</td>\n",
       "      <td>0.365819</td>\n",
       "      <td>0.764096</td>\n",
       "      <td>-1.760255</td>\n",
       "      <td>-0.410142</td>\n",
       "      <td>1.154539</td>\n",
       "      <td>-0.685998</td>\n",
       "      <td>0.255347</td>\n",
       "      <td>0.375952</td>\n",
       "      <td>-0.738155</td>\n",
       "      <td>-0.735688</td>\n",
       "      <td>0.734578</td>\n",
       "      <td>0.0</td>\n",
       "    </tr>\n",
       "    <tr>\n",
       "      <th>7097</th>\n",
       "      <td>0.0</td>\n",
       "      <td>13.829594</td>\n",
       "      <td>0.0</td>\n",
       "      <td>0.037404</td>\n",
       "      <td>-0.237903</td>\n",
       "      <td>-0.971907</td>\n",
       "      <td>1.921247</td>\n",
       "      <td>-1.191215</td>\n",
       "      <td>-0.365760</td>\n",
       "      <td>0.824570</td>\n",
       "      <td>-0.665056</td>\n",
       "      <td>0.294414</td>\n",
       "      <td>-0.598442</td>\n",
       "      <td>-1.346559</td>\n",
       "      <td>-0.393804</td>\n",
       "      <td>0.444747</td>\n",
       "      <td>-0.322192</td>\n",
       "      <td>1.439316</td>\n",
       "      <td>1.0</td>\n",
       "    </tr>\n",
       "  </tbody>\n",
       "</table>\n",
       "</div>"
      ],
      "text/plain": [
       "      treatment          y    Z        x1        x2        x3        x4  \\\n",
       "1749        0.0   7.962746  0.0 -0.930624  1.162991  0.729456 -0.273677   \n",
       "8753        0.0   7.466413  1.0  0.098788  0.561751  1.067532 -0.954808   \n",
       "2376        0.0   3.807416  0.0  1.211798  0.320737  0.285181 -0.475356   \n",
       "5866        0.0  12.620029  0.0  1.142354  0.262738  0.939899  0.564811   \n",
       "7097        0.0  13.829594  0.0  0.037404 -0.237903 -0.971907  1.921247   \n",
       "\n",
       "            x5        x6        x7        x8        x9       x10       x11  \\\n",
       "1749  0.689983 -0.542694  0.342018 -0.986162  0.334147 -0.522664 -0.760399   \n",
       "8753  0.157062 -1.942514 -1.290649 -1.146356 -0.172148  0.545423 -0.239812   \n",
       "2376  1.627070 -0.820177  0.193067 -0.743845  0.394570  0.736218  0.934503   \n",
       "5866  0.365819  0.764096 -1.760255 -0.410142  1.154539 -0.685998  0.255347   \n",
       "7097 -1.191215 -0.365760  0.824570 -0.665056  0.294414 -0.598442 -1.346559   \n",
       "\n",
       "           x12       x13       x14       x15  random  \n",
       "1749 -0.696916 -0.250714 -0.925333 -0.308684     0.0  \n",
       "8753 -0.914031 -0.801335  2.295311 -2.074314     1.0  \n",
       "2376  1.313644  1.574028 -1.220983 -0.814131     1.0  \n",
       "5866  0.375952 -0.738155 -0.735688  0.734578     0.0  \n",
       "7097 -0.393804  0.444747 -0.322192  1.439316     1.0  "
      ]
     },
     "execution_count": 30,
     "metadata": {},
     "output_type": "execute_result"
    }
   ],
   "source": [
    "QUADRATIC_EFFECT = lambda X: TRUE_EFFECT * (X[:, 2] ** 2) * (X[:, 7] ** 3) \n",
    "\n",
    "data = iv_dgp_econml(n=10000, p=15, true_effect=QUADRATIC_EFFECT)\n",
    "data_df, features_X, features_W = preprocess_dataset(\n",
    "    data, treatment, targets, instruments\n",
    ")\n",
    "outcome = targets[0]\n",
    "train_df, test_df = train_test_split(data_df, test_size=0.3)\n",
    "Xtest = test_df[features_X]\n",
    "train_df.head()"
   ]
  },
  {
   "cell_type": "code",
   "execution_count": 31,
   "metadata": {
    "collapsed": false,
    "pycharm": {
     "name": "#%%\n"
    }
   },
   "outputs": [
    {
     "name": "stdout",
     "output_type": "stream",
     "text": [
      "Fitting a Propensity-Weighted scoring estimator to be used in scoring tasks\n"
     ]
    },
    {
     "name": "stderr",
     "output_type": "stream",
     "text": [
      "[flaml.tune.tune: 09-20 22:45:29] {375} WARNING - Using CFO for search. To use BlendSearch, run: pip install flaml[blendsearch]\n",
      "[flaml.tune.tune: 09-20 22:45:29] {506} INFO - trial 1 config: {'estimator': {'estimator_name': 'iv.auto_causality.models.SimpleIV'}}\n"
     ]
    },
    {
     "name": "stdout",
     "output_type": "stream",
     "text": [
      "Initial configs: [{'estimator': {'estimator_name': 'iv.auto_causality.models.SimpleIV'}}, {'estimator': {'estimator_name': 'iv.econml.iv.dr.LinearDRIV', 'projection': True}}, {'estimator': {'estimator_name': 'iv.econml.iv.dml.OrthoIV', 'mc_agg': 'mean'}}, {'estimator': {'estimator_name': 'iv.econml.iv.dml.DMLIV', 'mc_agg': 'mean'}}, {'estimator': {'estimator_name': 'iv.econml.iv.dr.IntentToTreatDRIV', 'opt_reweighted': 0, 'cov_clip': 0.1, 'prel_opt_reweighted': 1, 'prel_cate_approach': 'driv'}}, {'estimator': {'estimator_name': 'iv.econml.iv.dr.SparseLinearDRIV', 'projection': 0, 'opt_reweighted': 0, 'cov_clip': 0.1}}, {'estimator': {'estimator_name': 'iv.econml.iv.dr.ForestDRIV', 'projection': 0, 'opt_reweighted': 0, 'cov_clip': 0.1, 'min_samples_split': 2}}, {'estimator': {'estimator_name': 'iv.econml.iv.dr.LinearIntentToTreatDRIV', 'cov_clip': 0.1, 'opt_reweighted': 1}}]\n"
     ]
    },
    {
     "name": "stderr",
     "output_type": "stream",
     "text": [
      "RuntimeError: module compiled against API version 0xf but this version of numpy is 0xe\n",
      "OMP: Info #276: omp_set_nested routine deprecated, please use omp_set_max_active_levels instead.\n",
      "Criterion 'mse' was deprecated in v1.0 and will be removed in version 1.2. Use `criterion='squared_error'` which is equivalent.\n",
      "Criterion 'mse' was deprecated in v1.0 and will be removed in version 1.2. Use `criterion='squared_error'` which is equivalent.\n",
      "[flaml.tune.tune: 09-20 22:45:33] {118} INFO - result: {'energy_distance': 0.5016108513784632, 'estimator_name': 'iv.auto_causality.models.SimpleIV', 'scores': {'train': {'intrp': <econml.cate_interpreter._interpreters.SingleTreeCateInterpreter object at 0x1665569d0>, 'ate': -1.8753958940505981, 'ate_std': 0.0, 'energy_distance': 0.4150975522394269}, 'validation': {'intrp': <econml.cate_interpreter._interpreters.SingleTreeCateInterpreter object at 0x166556b20>, 'ate': -1.8753958940505981, 'ate_std': 0.0, 'energy_distance': 0.5016108513784632}}, 'config': {'estimator': {'estimator_name': 'iv.auto_causality.models.SimpleIV'}}, 'training_iteration': 0, 'config/estimator': {'estimator_name': 'iv.auto_causality.models.SimpleIV'}, 'experiment_tag': 'exp', 'time_total_s': 3.217961072921753}\n",
      "[flaml.tune.tune: 09-20 22:45:33] {506} INFO - trial 2 config: {'estimator': {'estimator_name': 'iv.econml.iv.dr.LinearDRIV', 'projection': 1}}\n",
      "RuntimeError: module compiled against API version 0xf but this version of numpy is 0xe\n",
      "OMP: Info #276: omp_set_nested routine deprecated, please use omp_set_max_active_levels instead.\n",
      "'normalize' was deprecated in version 1.0 and will be removed in 1.2. Please leave the normalize parameter to its default value to silence this warning. The default behavior of this estimator is to not do any normalization. If normalization is needed please use sklearn.preprocessing.StandardScaler instead.\n",
      "'normalize' was deprecated in version 1.0 and will be removed in 1.2. Please leave the normalize parameter to its default value to silence this warning. The default behavior of this estimator is to not do any normalization. If normalization is needed please use sklearn.preprocessing.StandardScaler instead.\n",
      "'normalize' was deprecated in version 1.0 and will be removed in 1.2. Please leave the normalize parameter to its default value to silence this warning. The default behavior of this estimator is to not do any normalization. If normalization is needed please use sklearn.preprocessing.StandardScaler instead.\n",
      "'normalize' was deprecated in version 1.0 and will be removed in 1.2. Please leave the normalize parameter to its default value to silence this warning. The default behavior of this estimator is to not do any normalization. If normalization is needed please use sklearn.preprocessing.StandardScaler instead.\n",
      "[flaml.automl: 09-20 22:48:35] {2648} WARNING - Time taken to find the best model is 78% of the provided time budget and not all estimators' hyperparameter search converged. Consider increasing the time budget.\n",
      "'normalize' was deprecated in version 1.0 and will be removed in 1.2. Please leave the normalize parameter to its default value to silence this warning. The default behavior of this estimator is to not do any normalization. If normalization is needed please use sklearn.preprocessing.StandardScaler instead.\n",
      "'normalize' was deprecated in version 1.0 and will be removed in 1.2. Please leave the normalize parameter to its default value to silence this warning. The default behavior of this estimator is to not do any normalization. If normalization is needed please use sklearn.preprocessing.StandardScaler instead.\n",
      "'normalize' was deprecated in version 1.0 and will be removed in 1.2. Please leave the normalize parameter to its default value to silence this warning. The default behavior of this estimator is to not do any normalization. If normalization is needed please use sklearn.preprocessing.StandardScaler instead.\n",
      "'normalize' was deprecated in version 1.0 and will be removed in 1.2. Please leave the normalize parameter to its default value to silence this warning. The default behavior of this estimator is to not do any normalization. If normalization is needed please use sklearn.preprocessing.StandardScaler instead.\n",
      "Criterion 'mse' was deprecated in v1.0 and will be removed in version 1.2. Use `criterion='squared_error'` which is equivalent.\n",
      "Criterion 'mse' was deprecated in v1.0 and will be removed in version 1.2. Use `criterion='squared_error'` which is equivalent.\n",
      "[flaml.tune.tune: 09-20 22:49:35] {118} INFO - result: {'energy_distance': 0.6138058620651119, 'estimator_name': 'iv.econml.iv.dr.LinearDRIV', 'scores': {'train': {'intrp': <econml.cate_interpreter._interpreters.SingleTreeCateInterpreter object at 0x1656e7790>, 'ate': -0.10579273917598365, 'ate_std': 12.725515230977695, 'energy_distance': 0.5449777414462789}, 'validation': {'intrp': <econml.cate_interpreter._interpreters.SingleTreeCateInterpreter object at 0x1656e7b20>, 'ate': -0.21253026957793786, 'ate_std': 12.450351290106363, 'energy_distance': 0.6138058620651119}}, 'config': {'estimator': {'estimator_name': 'iv.econml.iv.dr.LinearDRIV', 'projection': 1}}, 'training_iteration': 0, 'config/estimator': {'estimator_name': 'iv.econml.iv.dr.LinearDRIV', 'projection': 1}, 'experiment_tag': 'exp', 'time_total_s': 242.5850429534912}\n",
      "[flaml.tune.tune: 09-20 22:49:35] {506} INFO - trial 3 config: {'estimator': {'estimator_name': 'iv.econml.iv.dml.OrthoIV', 'mc_agg': 'mean'}}\n",
      "'normalize' was deprecated in version 1.0 and will be removed in 1.2. Please leave the normalize parameter to its default value to silence this warning. The default behavior of this estimator is to not do any normalization. If normalization is needed please use sklearn.preprocessing.StandardScaler instead.\n",
      "A column-vector y was passed when a 1d array was expected. Please change the shape of y to (n_samples, ), for example using ravel().\n",
      "[flaml.automl: 09-20 22:51:05] {2648} WARNING - Time taken to find the best model is 82% of the provided time budget and not all estimators' hyperparameter search converged. Consider increasing the time budget.\n",
      "'normalize' was deprecated in version 1.0 and will be removed in 1.2. Please leave the normalize parameter to its default value to silence this warning. The default behavior of this estimator is to not do any normalization. If normalization is needed please use sklearn.preprocessing.StandardScaler instead.\n",
      "A column-vector y was passed when a 1d array was expected. Please change the shape of y to (n_samples, ), for example using ravel().\n",
      "Criterion 'mse' was deprecated in v1.0 and will be removed in version 1.2. Use `criterion='squared_error'` which is equivalent.\n",
      "Criterion 'mse' was deprecated in v1.0 and will be removed in version 1.2. Use `criterion='squared_error'` which is equivalent.\n",
      "[flaml.tune.tune: 09-20 22:51:36] {118} INFO - result: {'energy_distance': 1.565847203505725, 'estimator_name': 'iv.econml.iv.dml.OrthoIV', 'scores': {'train': {'intrp': <econml.cate_interpreter._interpreters.SingleTreeCateInterpreter object at 0x168442d00>, 'ate': -0.32153864697866724, 'ate_std': 20.898660527217626, 'energy_distance': 1.3864928822994003}, 'validation': {'intrp': <econml.cate_interpreter._interpreters.SingleTreeCateInterpreter object at 0x16760a0d0>, 'ate': -0.5094730423259869, 'ate_std': 20.456252930531367, 'energy_distance': 1.565847203505725}}, 'config': {'estimator': {'estimator_name': 'iv.econml.iv.dml.OrthoIV', 'mc_agg': 'mean'}}, 'training_iteration': 0, 'config/estimator': {'estimator_name': 'iv.econml.iv.dml.OrthoIV', 'mc_agg': 'mean'}, 'experiment_tag': 'exp', 'time_total_s': 120.46908521652222}\n",
      "[flaml.tune.tune: 09-20 22:51:36] {506} INFO - trial 4 config: {'estimator': {'estimator_name': 'iv.econml.iv.dml.DMLIV', 'mc_agg': 'mean'}}\n",
      "'normalize' was deprecated in version 1.0 and will be removed in 1.2. Please leave the normalize parameter to its default value to silence this warning. The default behavior of this estimator is to not do any normalization. If normalization is needed please use sklearn.preprocessing.StandardScaler instead.\n",
      "A column-vector y was passed when a 1d array was expected. Please change the shape of y to (n_samples, ), for example using ravel().\n",
      "'normalize' was deprecated in version 1.0 and will be removed in 1.2. Please leave the normalize parameter to its default value to silence this warning. The default behavior of this estimator is to not do any normalization. If normalization is needed please use sklearn.preprocessing.StandardScaler instead.\n",
      "A column-vector y was passed when a 1d array was expected. Please change the shape of y to (n_samples, ), for example using ravel().\n",
      "Criterion 'mse' was deprecated in v1.0 and will be removed in version 1.2. Use `criterion='squared_error'` which is equivalent.\n",
      "Criterion 'mse' was deprecated in v1.0 and will be removed in version 1.2. Use `criterion='squared_error'` which is equivalent.\n",
      "[flaml.tune.tune: 09-20 22:53:36] {118} INFO - result: {'energy_distance': 0.7926837058367573, 'estimator_name': 'iv.econml.iv.dml.DMLIV', 'scores': {'train': {'intrp': <econml.cate_interpreter._interpreters.SingleTreeCateInterpreter object at 0x16e0779d0>, 'ate': -0.23454901578432336, 'ate_std': 14.674266245808516, 'energy_distance': 0.7078769096636268}, 'validation': {'intrp': <econml.cate_interpreter._interpreters.SingleTreeCateInterpreter object at 0x16e077fd0>, 'ate': -0.3723950899659995, 'ate_std': 14.408637797292585, 'energy_distance': 0.7926837058367573}}, 'config': {'estimator': {'estimator_name': 'iv.econml.iv.dml.DMLIV', 'mc_agg': 'mean'}}, 'training_iteration': 0, 'config/estimator': {'estimator_name': 'iv.econml.iv.dml.DMLIV', 'mc_agg': 'mean'}, 'experiment_tag': 'exp', 'time_total_s': 120.5170030593872}\n",
      "[flaml.tune.tune: 09-20 22:53:36] {506} INFO - trial 5 config: {'estimator': {'estimator_name': 'iv.econml.iv.dr.IntentToTreatDRIV', 'opt_reweighted': 0, 'cov_clip': 0.1, 'prel_opt_reweighted': 1, 'prel_cate_approach': 'driv'}}\n",
      "Function get_feature_names is deprecated; get_feature_names is deprecated in 1.0 and will be removed in 1.2. Please use get_feature_names_out instead.\n",
      "[flaml.automl: 09-20 22:56:07] {2648} WARNING - Time taken to find the best model is 93% of the provided time budget and not all estimators' hyperparameter search converged. Consider increasing the time budget.\n",
      "[flaml.automl: 09-20 22:57:07] {2648} WARNING - Time taken to find the best model is 95% of the provided time budget and not all estimators' hyperparameter search converged. Consider increasing the time budget.\n",
      "Function get_feature_names is deprecated; get_feature_names is deprecated in 1.0 and will be removed in 1.2. Please use get_feature_names_out instead.\n",
      "[flaml.automl: 09-20 22:58:37] {2648} WARNING - Time taken to find the best model is 85% of the provided time budget and not all estimators' hyperparameter search converged. Consider increasing the time budget.\n",
      "[flaml.automl: 09-20 22:59:07] {2648} WARNING - Time taken to find the best model is 98% of the provided time budget and not all estimators' hyperparameter search converged. Consider increasing the time budget.\n",
      "Function get_feature_names is deprecated; get_feature_names is deprecated in 1.0 and will be removed in 1.2. Please use get_feature_names_out instead.\n",
      "Function get_feature_names is deprecated; get_feature_names is deprecated in 1.0 and will be removed in 1.2. Please use get_feature_names_out instead.\n",
      "Criterion 'mse' was deprecated in v1.0 and will be removed in version 1.2. Use `criterion='squared_error'` which is equivalent.\n",
      "Criterion 'mse' was deprecated in v1.0 and will be removed in version 1.2. Use `criterion='squared_error'` which is equivalent.\n",
      "[flaml.tune.tune: 09-20 23:00:07] {118} INFO - result: {'energy_distance': 0.2796398227682779, 'estimator_name': 'iv.econml.iv.dr.IntentToTreatDRIV', 'scores': {'train': {'intrp': <econml.cate_interpreter._interpreters.SingleTreeCateInterpreter object at 0x167edc040>, 'ate': -0.8290490647353717, 'ate_std': 54.794833908010624, 'energy_distance': 0.21572983933623568}, 'validation': {'intrp': <econml.cate_interpreter._interpreters.SingleTreeCateInterpreter object at 0x167edc340>, 'ate': -0.6297171392213543, 'ate_std': 40.026848715573855, 'energy_distance': 0.2796398227682779}}, 'config': {'estimator': {'estimator_name': 'iv.econml.iv.dr.IntentToTreatDRIV', 'opt_reweighted': 0, 'cov_clip': 0.1, 'prel_opt_reweighted': 1, 'prel_cate_approach': 'driv'}}, 'training_iteration': 0, 'config/estimator': {'estimator_name': 'iv.econml.iv.dr.IntentToTreatDRIV', 'opt_reweighted': 0, 'cov_clip': 0.1, 'prel_opt_reweighted': 1, 'prel_cate_approach': 'driv'}, 'experiment_tag': 'exp', 'time_total_s': 391.26474618911743}\n"
     ]
    }
   ],
   "source": [
    "ac_quad_te = AutoCausality(\n",
    "    estimator_list=estimator_list,\n",
    "    verbose=3,\n",
    "    components_verbose=2,\n",
    "    components_time_budget=30,\n",
    "    propensity_model=\"auto\",\n",
    "    train_size=0.8\n",
    ")\n",
    "\n",
    "ac_quad_te.fit(train_df, treatment, outcome, features_W, features_X, instruments)\n"
   ]
  },
  {
   "cell_type": "code",
   "execution_count": 33,
   "metadata": {
    "collapsed": false,
    "pycharm": {
     "name": "#%%\n"
    }
   },
   "outputs": [
    {
     "data": {
      "text/html": [
       "<div>\n",
       "<style scoped>\n",
       "    .dataframe tbody tr th:only-of-type {\n",
       "        vertical-align: middle;\n",
       "    }\n",
       "\n",
       "    .dataframe tbody tr th {\n",
       "        vertical-align: top;\n",
       "    }\n",
       "\n",
       "    .dataframe thead th {\n",
       "        text-align: right;\n",
       "    }\n",
       "</style>\n",
       "<table border=\"1\" class=\"dataframe\">\n",
       "  <thead>\n",
       "    <tr style=\"text-align: right;\">\n",
       "      <th></th>\n",
       "      <th>estimator</th>\n",
       "      <th>estimated_effect</th>\n",
       "      <th>ate_mse</th>\n",
       "    </tr>\n",
       "  </thead>\n",
       "  <tbody>\n",
       "    <tr>\n",
       "      <th>0</th>\n",
       "      <td>iv.auto_causality.models.SimpleIV</td>\n",
       "      <td>-1.875396</td>\n",
       "      <td>87.898048</td>\n",
       "    </tr>\n",
       "    <tr>\n",
       "      <th>1</th>\n",
       "      <td>iv.econml.iv.dml.DMLIV</td>\n",
       "      <td>-0.545693</td>\n",
       "      <td>64.733176</td>\n",
       "    </tr>\n",
       "    <tr>\n",
       "      <th>2</th>\n",
       "      <td>iv.econml.iv.dml.OrthoIV</td>\n",
       "      <td>-0.907341</td>\n",
       "      <td>70.683388</td>\n",
       "    </tr>\n",
       "    <tr>\n",
       "      <th>3</th>\n",
       "      <td>iv.econml.iv.dr.IntentToTreatDRIV</td>\n",
       "      <td>-1.341814</td>\n",
       "      <td>78.177668</td>\n",
       "    </tr>\n",
       "    <tr>\n",
       "      <th>4</th>\n",
       "      <td>iv.econml.iv.dr.LinearDRIV</td>\n",
       "      <td>-0.406059</td>\n",
       "      <td>62.505762</td>\n",
       "    </tr>\n",
       "  </tbody>\n",
       "</table>\n",
       "</div>"
      ],
      "text/plain": [
       "                           estimator  estimated_effect    ate_mse\n",
       "0  iv.auto_causality.models.SimpleIV         -1.875396  87.898048\n",
       "1             iv.econml.iv.dml.DMLIV         -0.545693  64.733176\n",
       "2           iv.econml.iv.dml.OrthoIV         -0.907341  70.683388\n",
       "3  iv.econml.iv.dr.IntentToTreatDRIV         -1.341814  78.177668\n",
       "4         iv.econml.iv.dr.LinearDRIV         -0.406059  62.505762"
      ]
     },
     "execution_count": 33,
     "metadata": {},
     "output_type": "execute_result"
    }
   ],
   "source": [
    "get_est_effects(ac_quad_te, Xtest)"
   ]
  },
  {
   "cell_type": "code",
   "execution_count": 32,
   "metadata": {},
   "outputs": [
    {
     "data": {
      "image/png": "[encoded data removed]",
      "text/plain": [
       "<Figure size 900x700 with 1 Axes>"
      ]
     },
     "metadata": {},
     "output_type": "display_data"
    }
   ],
   "source": [
    "all_estimator_scatter(\n",
    "    ac_quad_te.results.results,\n",
    "    ac_quad_te.scores,\n",
    "    title=\"quad_cate\"\n",
    ")"
   ]
  },
  {
   "cell_type": "code",
   "execution_count": 34,
   "metadata": {
    "collapsed": false,
    "pycharm": {
     "name": "#%%\n"
    }
   },
   "outputs": [
    {
     "data": {
      "image/png": "[encoded data removed]",
      "text/plain": [
       "<Figure size 700x500 with 1 Axes>"
      ]
     },
     "metadata": {},
     "output_type": "display_data"
    }
   ],
   "source": [
    "score_all_test(ac_quad_te, test_df)\n",
    "graph_compare_estimators(ac_quad_te)\n"
   ]
  },
  {
   "cell_type": "code",
   "execution_count": null,
   "metadata": {
    "collapsed": false,
    "pycharm": {
     "name": "#%%\n"
    }
   },
   "outputs": [],
   "source": []
  }
 ],
 "metadata": {
  "kernelspec": {
   "display_name": "Python 3.9.12 ('.venv': venv)",
   "language": "python",
   "name": "python3"
  },
  "language_info": {
   "codemirror_mode": {
    "name": "ipython",
    "version": 3
   },
   "file_extension": ".py",
   "mimetype": "text/x-python",
   "name": "python",
   "nbconvert_exporter": "python",
   "pygments_lexer": "ipython3",
   "version": "3.9.12"
  },
  "vscode": {
   "interpreter": {
    "hash": "69127eca9e6c849401695e28ffa683ce066c3bc75f3c1b01451ff5e609c153a5"
   }
  }
 },
 "nbformat": 4,
 "nbformat_minor": 0
}
